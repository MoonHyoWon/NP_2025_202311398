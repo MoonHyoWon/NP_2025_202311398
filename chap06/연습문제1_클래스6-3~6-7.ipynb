{
 "cells": [
  {
   "cell_type": "markdown",
   "id": "c8cb0b2c",
   "metadata": {},
   "source": [
    "## 6단원 연습문제\n",
    "날  짜 : 2025.09.24.수요일 (4주차 실습) <br>\n",
    "작성자 : 문효원 <br>\n",
    "학  번 : 202311398 <br>\n",
    "*****"
   ]
  },
  {
   "cell_type": "markdown",
   "id": "87dc2c9c",
   "metadata": {},
   "source": [
    "### 6-3 Moneybox 클래스를 작성하라.\n",
    "> 이 클래스는 저축한 총액을 저장하는 인스턴스 변수가 있다.<br> deposit(money) 메서드는 인수로 주어진 금액만큼 저축하고 총액을 출력한다.<br> extract(money) 메소드는 money를 인출하고 총액을 출력한다.<br> get_total() 메소드는 총액을 알려준다. <br> my_money = Moneybox() 객체를 생성하고 1000원을 저축하고, 200원을 인출한 다음, 총액 을 출력하라."
   ]
  },
  {
   "cell_type": "code",
   "execution_count": 1,
   "id": "7707c5ff",
   "metadata": {},
   "outputs": [
    {
     "name": "stdout",
     "output_type": "stream",
     "text": [
      "입금: 1000원, 총액: 1000원\n",
      "출금: 200원, 총액: 800원\n",
      "최종 총액: 800 원\n"
     ]
    }
   ],
   "source": [
    "class Moneybox:\n",
    "    def __init__(self):\n",
    "        # 저축한 총액 저장하는 인스턴스 변수\n",
    "        self.total = 0\n",
    "\n",
    "    def deposit(self, money):\n",
    "        # money 만큼 저축\n",
    "        self.total += money\n",
    "        print(f\"입금: {money}원, 총액: {self.total}원\")\n",
    "\n",
    "    def extract(self, money):\n",
    "        # money 만큼 인출\n",
    "        if money <= self.total:\n",
    "            self.total -= money\n",
    "            print(f\"출금: {money}원, 총액: {self.total}원\")\n",
    "        else:\n",
    "            print(\"잔액 부족!\")\n",
    "\n",
    "    def get_total(self):\n",
    "        # 총액 반환\n",
    "        return self.total\n",
    "\n",
    "\n",
    "# 실행 예시\n",
    "my_money = Moneybox()\n",
    "my_money.deposit(1000)   # 1000원 저축\n",
    "my_money.extract(200)    # 200원 인출\n",
    "print(\"최종 총액:\", my_money.get_total(), \"원\")"
   ]
  },
  {
   "cell_type": "markdown",
   "id": "a5265f15",
   "metadata": {},
   "source": [
    "### 6-4 Password_manager 클래스를 작성하라.\n",
    "> 이 클래스는 사용자의 모든 과거 패스워드를 저장하는 old_passwords 리스트 변수를 갖는다.<br> 리스트의 마지막 요소는 현재 패스워드이다.<br> 현재 패스워드를 알려주는 get_password와 새로운 패스워드를 설정하는 set_password 메소드를 정의하라.<br> set_password는 과거에 사용하지 않은 새로운 패스워드를 설정할 때만 유효하다.<br> 문자열을 입력받아 현재 패스워드와 같은지 True 또는 False를 반환하는 is_correct 메소드를 정의하라."
   ]
  },
  {
   "cell_type": "code",
   "execution_count": 1,
   "id": "a8e41e7c",
   "metadata": {},
   "outputs": [
    {
     "name": "stdout",
     "output_type": "stream",
     "text": [
      "현재 비밀번호: abc123\n",
      "비밀번호가 변경되었습니다.\n",
      "이미 사용한 비밀번호는 다시 사용할 수 없습니다.\n",
      "현재 비밀번호: newpass1\n",
      "비밀번호 확인 (newpass1): True\n",
      "비밀번호 확인 (wrong): False\n"
     ]
    }
   ],
   "source": [
    "class Password_manager:\n",
    "    def __init__(self, initial_password):\n",
    "        # 과거 비밀번호를 저장하는 리스트, 처음엔 초기 비밀번호를 넣어둠\n",
    "        self.old_passwords = [initial_password]\n",
    "\n",
    "    def get_password(self):\n",
    "        # 현재 비밀번호는 old_passwords 리스트의 마지막 값\n",
    "        return self.old_passwords[-1]\n",
    "\n",
    "    def set_password(self, new_password):\n",
    "        # 새로운 비밀번호가 과거 비밀번호에 없을 때만 변경 가능\n",
    "        if new_password not in self.old_passwords:\n",
    "            self.old_passwords.append(new_password)\n",
    "            print(\"비밀번호가 변경되었습니다.\")\n",
    "        else:\n",
    "            print(\"이미 사용한 비밀번호는 다시 사용할 수 없습니다.\")\n",
    "\n",
    "    def is_correct(self, password):\n",
    "        # 입력된 password가 현재 비밀번호와 같은지 확인\n",
    "        return password == self.get_password()\n",
    "\n",
    "\n",
    "# 실행 예시\n",
    "pm = Password_manager(\"abc123\")\n",
    "print(\"현재 비밀번호:\", pm.get_password())   # abc123\n",
    "\n",
    "pm.set_password(\"newpass1\")  # 비밀번호 변경\n",
    "pm.set_password(\"abc123\")    # 이미 사용한 비밀번호 → 변경 불가\n",
    "\n",
    "print(\"현재 비밀번호:\", pm.get_password())   # newpass1\n",
    "print(\"비밀번호 확인 (newpass1):\", pm.is_correct(\"newpass1\"))  # True\n",
    "print(\"비밀번호 확인 (wrong):\", pm.is_correct(\"wrong\"))        # False"
   ]
  },
  {
   "cell_type": "markdown",
   "id": "f9f36e83",
   "metadata": {},
   "source": [
    "### 6-5 Articles 클래스를 작성하라.\n",
    "> 이 클래스는 각각 제품의 이름, 재고 수량, 단가를 나타내는 name, stock, price 인스턴스 변수를 가지고 있다.<br> offer_price() 메소드는 구매 수량을 인수 로 전달받아 총 가격을 반환한다.<br> 구매 수량이 1~10개 이하이면 정상 가격을 반환하고, 11~50개 이면 5% 할인된 가격을 반환한다.<br> 또 51개 이상이면 10% 할인해 준다.<br> purchase() 메소드는 구매 수량을 인수로 전달받아 재고 수량을 구매 수량만큼 감소한다.<br>\n",
    "이 클래스를 이용하여 단가 1000원인 ”mask“를 10,000장으로 설정하고, 40장 구매 가격과 구매 후 재고를 출력하라.<br>"
   ]
  },
  {
   "cell_type": "code",
   "execution_count": 2,
   "id": "42beee36",
   "metadata": {},
   "outputs": [
    {
     "name": "stdout",
     "output_type": "stream",
     "text": [
      "40장 구매 가격: 38000 원\n",
      "40개 구매 완료! 남은 재고: 9960개\n",
      "구매 후 재고: 9960 개\n"
     ]
    }
   ],
   "source": [
    "class Articles:\n",
    "    def __init__(self, name, stock, price):\n",
    "        self.name = name      # 제품 이름\n",
    "        self.stock = stock    # 재고 수량\n",
    "        self.price = price    # 단가\n",
    "\n",
    "    def offer_price(self, quantity):\n",
    "        \"\"\"구매 수량에 따른 총 가격 계산\"\"\"\n",
    "        if 1 <= quantity <= 10:\n",
    "            total = self.price * quantity\n",
    "        elif 11 <= quantity <= 50:\n",
    "            total = self.price * quantity * 0.95   # 5% 할인\n",
    "        else:  # 51개 이상\n",
    "            total = self.price * quantity * 0.90   # 10% 할인\n",
    "        return int(total)  # 가격은 정수로 반환\n",
    "\n",
    "    def purchase(self, quantity):\n",
    "        \"\"\"구매 시 재고 감소\"\"\"\n",
    "        if quantity <= self.stock:\n",
    "            self.stock -= quantity\n",
    "            print(f\"{quantity}개 구매 완료! 남은 재고: {self.stock}개\")\n",
    "        else:\n",
    "            print(\"재고가 부족합니다!\")\n",
    "\n",
    "\n",
    "# 실행 예시\n",
    "mask = Articles(\"mask\", 10000, 1000)\n",
    "\n",
    "# 40장 구매 가격 출력\n",
    "price_40 = mask.offer_price(40)\n",
    "print(\"40장 구매 가격:\", price_40, \"원\")\n",
    "\n",
    "# 실제 구매 진행 (재고 감소)\n",
    "mask.purchase(40)\n",
    "\n",
    "# 구매 후 재고 확인\n",
    "print(\"구매 후 재고:\", mask.stock, \"개\")"
   ]
  },
  {
   "cell_type": "markdown",
   "id": "739840d1",
   "metadata": {},
   "source": [
    "### 6-6\n",
    "> 다음 프로그램을 실행했을 때 아래 내용이 출력되도록 클래스를 정의하라.<br> 학번(id) 앞 4자리가 2018보다 작으면 grade() 메소드에 의해 “3학년입니다“가 출력되고 아니면 ”3학년이 아닙니다“가 출력된다. "
   ]
  },
  {
   "cell_type": "code",
   "execution_count": 4,
   "id": "c502a2c3",
   "metadata": {},
   "outputs": [
    {
     "name": "stdout",
     "output_type": "stream",
     "text": [
      "이름: 홍길동, 학번: 20150001, 학과: 로봇공학과\n",
      "3학년입니다\n"
     ]
    }
   ],
   "source": [
    "class Student:\n",
    "    def __init__(self, name, id, dept):\n",
    "        self.name = name\n",
    "        self.id = id\n",
    "        self.dept = dept\n",
    "\n",
    "    def grade(self):\n",
    "        # 학번 앞 4자리 추출\n",
    "        year = int(str(self.id)[:4])\n",
    "        if year < 2018:\n",
    "            print(\"3학년입니다\")\n",
    "        else:\n",
    "            print(\"3학년이 아닙니다\")\n",
    "\n",
    "\n",
    "# 실행 예시\n",
    "man = Student(name=\"홍길동\", id=20150001, dept=\"로봇공학과\")\n",
    "print(\"이름: {}, 학번: {}, 학과: {}\".format(man.name, man.id, man.dept))\n",
    "man.grade()"
   ]
  },
  {
   "cell_type": "markdown",
   "id": "bc26e666",
   "metadata": {},
   "source": [
    "### 6-7 다음 Person 클래스를 상속 받는 Employee 클래스를 정의하라.\n",
    "> Employee 클래스에 employeeID 속성을 추가하고 getID() 메소드를 정의하라.<br> getID() 메소드는 employeeID를 반환하는 메소드이다.<br>\n",
    "Employee 클래스를 이용하여 Employee(\"동양\", 65, 2019)로 생성된 객체의 이름, 나이, ID 를 출력하라."
   ]
  },
  {
   "cell_type": "code",
   "execution_count": 1,
   "id": "0b42c518",
   "metadata": {},
   "outputs": [
    {
     "name": "stdout",
     "output_type": "stream",
     "text": [
      "동양\n",
      "65\n",
      "2019\n"
     ]
    }
   ],
   "source": [
    "class Person:\n",
    "    def __init__(self, name, age):\n",
    "        self.name = name \n",
    "        self.age = age \n",
    "    \n",
    "    def getName(self): \n",
    "        print(self.name) \n",
    "    \n",
    "    def getAge(self): \n",
    "        print(self.age)\n",
    "\n",
    "\n",
    "# Employee 클래스 정의\n",
    "class Employee(Person):\n",
    "    def __init__(self, name, age, employeeID):\n",
    "        # 부모 클래스 초기화\n",
    "        super().__init__(name, age)\n",
    "        self.employeeID = employeeID\n",
    "\n",
    "    def getID(self):\n",
    "        print(self.employeeID)\n",
    "\n",
    "\n",
    "# 실행 예시\n",
    "emp = Employee(\"동양\", 65, 2019)\n",
    "emp.getName()   # 이름 출력\n",
    "emp.getAge()    # 나이 출력\n",
    "emp.getID()     # ID 출력\n"
   ]
  }
 ],
 "metadata": {
  "kernelspec": {
   "display_name": "Python 3",
   "language": "python",
   "name": "python3"
  },
  "language_info": {
   "codemirror_mode": {
    "name": "ipython",
    "version": 3
   },
   "file_extension": ".py",
   "mimetype": "text/x-python",
   "name": "python",
   "nbconvert_exporter": "python",
   "pygments_lexer": "ipython3",
   "version": "3.11.9"
  }
 },
 "nbformat": 4,
 "nbformat_minor": 5
}
