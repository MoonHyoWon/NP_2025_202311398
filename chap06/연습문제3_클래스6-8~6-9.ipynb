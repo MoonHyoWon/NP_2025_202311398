{
 "cells": [
  {
   "cell_type": "markdown",
   "id": "3e818dfd",
   "metadata": {},
   "source": [
    "## 6단원 연습문제\n",
    "날  짜 : 2025.09.24.수요일 (4주차 실습) <br>\n",
    "작성자 : 문효원 <br>\n",
    "학  번 : 202311398 <br>\n",
    "*****"
   ]
  },
  {
   "cell_type": "markdown",
   "id": "0cfcd856",
   "metadata": {},
   "source": [
    "6-8. 앞의 Person 클래스에서 새로운 Person 객체가 생성될 때 ID를 1001번지부터 순차적으로 자 동으로 부여할 수 있도록 Employee 클래스를 포함해서 변경하시오. 새로운 Employee객체를 만들어 getId() 를 호출할 때 Id가 중복되면 안된다."
   ]
  },
  {
   "cell_type": "code",
   "execution_count": 1,
   "id": "2d5e7ae4",
   "metadata": {},
   "outputs": [
    {
     "name": "stdout",
     "output_type": "stream",
     "text": [
      "ID: 1001, 이름: Alice, 나이: 30, 급여: 5000\n",
      "ID: 1002, 이름: Bob, 나이: 28, 급여: 4500\n",
      "ID: 1003, 이름: Charlie, 나이: 35, 급여: 6000\n",
      "1001\n",
      "1002\n",
      "1003\n"
     ]
    }
   ],
   "source": [
    "class Person:\n",
    "    _id_counter = 1000  # 클래스 변수: ID 자동 증가 기준\n",
    "\n",
    "    def __init__(self, name, age):\n",
    "        self.name = name\n",
    "        self.age = age\n",
    "        Person._id_counter += 1   # 새 객체가 생성될 때마다 증가\n",
    "        self._id = Person._id_counter\n",
    "\n",
    "    def getId(self):\n",
    "        return self._id\n",
    "\n",
    "    def show_info(self):\n",
    "        print(f\"ID: {self._id}, 이름: {self.name}, 나이: {self.age}\")\n",
    "\n",
    "\n",
    "# Employee 클래스는 Person 상속\n",
    "class Employee(Person):\n",
    "    def __init__(self, name, age, salary):\n",
    "        super().__init__(name, age)  # 부모 생성자 호출\n",
    "        self.salary = salary\n",
    "\n",
    "    def show_info(self):\n",
    "        print(f\"ID: {self.getId()}, 이름: {self.name}, 나이: {self.age}, 급여: {self.salary}\")\n",
    "\n",
    "\n",
    "if __name__ == \"__main__\":\n",
    "    emp1 = Employee(\"Alice\", 30, 5000)\n",
    "    emp2 = Employee(\"Bob\", 28, 4500)\n",
    "    emp3 = Employee(\"Charlie\", 35, 6000)\n",
    "\n",
    "    emp1.show_info()  # ID 1001\n",
    "    emp2.show_info()  # ID 1002\n",
    "    emp3.show_info()  # ID 1003\n",
    "\n",
    "    print(emp1.getId())  # 1001\n",
    "    print(emp2.getId())  # 1002\n",
    "    print(emp3.getId())  # 1003"
   ]
  },
  {
   "cell_type": "markdown",
   "id": "eca989c2",
   "metadata": {},
   "source": [
    "6-9.  파이썬 언어에서 다음에 대해 조사하고 예제코드를 실행하여 보라 <br>\n",
    "• 1. 파이썬으로 싱글톤 패턴을 구현하는 방법들<br>\n",
    "> 싱글톤 패턴: 프로그램 전체에서 클래스의 인스턴스를 단 하나만 생성하도록 보장하는 패턴<br>\n",
    "\n",
    "   1) 클래스 변수 활용"
   ]
  },
  {
   "cell_type": "code",
   "execution_count": 3,
   "id": "47c8f311",
   "metadata": {},
   "outputs": [
    {
     "name": "stdout",
     "output_type": "stream",
     "text": [
      "True\n"
     ]
    }
   ],
   "source": [
    "class Singleton:\n",
    "    _instance = None\n",
    "\n",
    "    def __new__(cls, *args, **kwargs):\n",
    "        if cls._instance is None:\n",
    "            cls._instance = super().__new__(cls)\n",
    "        return cls._instance\n",
    "\n",
    "a = Singleton()\n",
    "b = Singleton()\n",
    "\n",
    "print(a is b)  # True, 같은 객체"
   ]
  },
  {
   "cell_type": "markdown",
   "id": "61c28c25",
   "metadata": {},
   "source": [
    "   2) 데코레이터 활용"
   ]
  },
  {
   "cell_type": "code",
   "execution_count": 4,
   "id": "e65d329c",
   "metadata": {},
   "outputs": [
    {
     "name": "stdout",
     "output_type": "stream",
     "text": [
      "True\n"
     ]
    }
   ],
   "source": [
    "def singleton(cls):\n",
    "    instances = {}\n",
    "    def wrapper(*args, **kwargs):\n",
    "        if cls not in instances:\n",
    "            instances[cls] = cls(*args, **kwargs)\n",
    "        return instances[cls]\n",
    "    return wrapper\n",
    "\n",
    "@singleton\n",
    "class MyClass:\n",
    "    pass\n",
    "\n",
    "x = MyClass()\n",
    "y = MyClass()\n",
    "print(x is y)  # True"
   ]
  },
  {
   "cell_type": "markdown",
   "id": "dc3fb66c",
   "metadata": {},
   "source": [
    "• 2. 파이썬에서 멀티쓰레드 구현하는 기법<br>\n",
    "> threading 모듈 사용"
   ]
  },
  {
   "cell_type": "code",
   "execution_count": 5,
   "id": "2a753ff8",
   "metadata": {},
   "outputs": [
    {
     "name": "stdout",
     "output_type": "stream",
     "text": [
      "Thread-1: 0\n",
      "Thread-2: 0\n",
      "Thread-1: 1\n",
      "Thread-2: 1\n",
      "Thread-1: 2\n",
      "Thread-2: 2\n",
      "Thread-1: 3Thread-2: 3\n",
      "\n",
      "Thread-1: 4Thread-2: 4\n",
      "\n"
     ]
    }
   ],
   "source": [
    "import threading\n",
    "import time\n",
    "\n",
    "def print_numbers():\n",
    "    for i in range(5):\n",
    "        print(f\"{threading.current_thread().name}: {i}\")\n",
    "        time.sleep(0.5)\n",
    "\n",
    "# 스레드 생성\n",
    "t1 = threading.Thread(target=print_numbers, name=\"Thread-1\")\n",
    "t2 = threading.Thread(target=print_numbers, name=\"Thread-2\")\n",
    "\n",
    "t1.start()\n",
    "t2.start()\n",
    "\n",
    "t1.join()\n",
    "t2.join()"
   ]
  },
  {
   "cell_type": "markdown",
   "id": "e65b5c17",
   "metadata": {},
   "source": [
    "• 3. 멀티쓰레드에서 공유 변수에 대한 Critical Section 을 보호하는 기법\n",
    "> 문제: 여러 쓰레드가 공유 변수를 동시에 변경하면 데이터가 꼬임<br>\n",
    "해결법: Lock 사용"
   ]
  },
  {
   "cell_type": "code",
   "execution_count": 6,
   "id": "430ef7f7",
   "metadata": {},
   "outputs": [
    {
     "name": "stdout",
     "output_type": "stream",
     "text": [
      "50000\n"
     ]
    }
   ],
   "source": [
    "import threading\n",
    "\n",
    "counter = 0\n",
    "lock = threading.Lock()\n",
    "\n",
    "def increment():\n",
    "    global counter\n",
    "    for _ in range(10000):\n",
    "        with lock:  # Critical Section 보호\n",
    "            counter += 1\n",
    "\n",
    "threads = []\n",
    "for _ in range(5):\n",
    "    t = threading.Thread(target=increment)\n",
    "    threads.append(t)\n",
    "    t.start()\n",
    "\n",
    "for t in threads:\n",
    "    t.join()\n",
    "\n",
    "print(counter)  # 항상 50000"
   ]
  }
 ],
 "metadata": {
  "kernelspec": {
   "display_name": "Python 3",
   "language": "python",
   "name": "python3"
  },
  "language_info": {
   "codemirror_mode": {
    "name": "ipython",
    "version": 3
   },
   "file_extension": ".py",
   "mimetype": "text/x-python",
   "name": "python",
   "nbconvert_exporter": "python",
   "pygments_lexer": "ipython3",
   "version": "3.11.9"
  }
 },
 "nbformat": 4,
 "nbformat_minor": 5
}
