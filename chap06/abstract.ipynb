{
 "cells": [
  {
   "cell_type": "code",
   "execution_count": null,
   "id": "b7e16c20",
   "metadata": {},
   "outputs": [
    {
     "name": "stdout",
     "output_type": "stream",
     "text": [
      "멍멍\n"
     ]
    },
    {
     "ename": "TypeError",
     "evalue": "Animal() takes no arguments",
     "output_type": "error",
     "traceback": [
      "\u001b[31m---------------------------------------------------------------------------\u001b[39m",
      "\u001b[31mTypeError\u001b[39m                                 Traceback (most recent call last)",
      "\u001b[36mCell\u001b[39m\u001b[36m \u001b[39m\u001b[32mIn[1]\u001b[39m\u001b[32m, line 13\u001b[39m\n\u001b[32m     10\u001b[39m d = Dog()\n\u001b[32m     11\u001b[39m \u001b[38;5;28mprint\u001b[39m(d.sound()) \u001b[38;5;66;03m# \"멍멍\"\u001b[39;00m\n\u001b[32m---> \u001b[39m\u001b[32m13\u001b[39m a = \u001b[43mAnimal\u001b[49m\u001b[43m(\u001b[49m\u001b[43mDog\u001b[49m\u001b[43m(\u001b[49m\u001b[43m)\u001b[49m\u001b[43m)\u001b[49m\n\u001b[32m     14\u001b[39m \u001b[38;5;28mprint\u001b[39m(a.sound())\n",
      "\u001b[31mTypeError\u001b[39m: Animal() takes no arguments"
     ]
    }
   ],
   "source": [
    "from abc import ABC, abstractmethod\n",
    "class Animal(ABC):\n",
    "    @abstractmethod\n",
    "    def sound(self):\n",
    "        pass\n",
    "class Dog(Animal):\n",
    "    def sound(self):\n",
    "        return \"멍멍\"\n",
    "# a = Animal() # 에러: 추상 클래스는 인스턴스화 불가 \n",
    "d = Dog()\n",
    "print(d.sound()) # \"멍멍\"\n",
    "\n",
    "a = Animal(Dog()) # 안 되는 것이 맞다!\n",
    "print(a.sound())"
   ]
  },
  {
   "cell_type": "markdown",
   "id": "e535e0ed",
   "metadata": {},
   "source": [
    "- Animal은 추상 클래스(ABC) 라서 직접 인스턴스를 만들 수 없다.\n",
    "- Animal(Dog()) 처럼 Dog() 객체를 넣는 방식은 문법적으로 맞지 않다.\n",
    "\n",
    "-> 완벽한 객체 지향이 아니라 불가능한 것, 원래는 되야하는 것이 정상?"
   ]
  }
 ],
 "metadata": {
  "kernelspec": {
   "display_name": "Python 3",
   "language": "python",
   "name": "python3"
  },
  "language_info": {
   "codemirror_mode": {
    "name": "ipython",
    "version": 3
   },
   "file_extension": ".py",
   "mimetype": "text/x-python",
   "name": "python",
   "nbconvert_exporter": "python",
   "pygments_lexer": "ipython3",
   "version": "3.11.9"
  }
 },
 "nbformat": 4,
 "nbformat_minor": 5
}
