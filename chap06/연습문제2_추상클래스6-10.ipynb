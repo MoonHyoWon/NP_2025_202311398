{
 "cells": [
  {
   "cell_type": "markdown",
   "id": "94bfc3fa",
   "metadata": {},
   "source": [
    "## 6단원 연습문제\n",
    "날  짜 : 2025.09.24.수요일 (4주차 실습) <br>\n",
    "작성자 : 문효원 <br>\n",
    "학  번 : 202311398 <br>\n",
    "*****"
   ]
  },
  {
   "cell_type": "markdown",
   "id": "34dbcf4e",
   "metadata": {},
   "source": [
    "### 1. 동물(Animal)을 울음을 추상 메소드로 하는 추상클래스로 정의하고,\n",
    "• 개(Dog)와 고양이(Cat)를 구체적인 클래스로 정의합니다.<br>\n",
    "• 각 동물의 울음소리를 출력하는 프로그램을 작성하시오.<br>\n",
    "• 각 동물객체는 자신의 이름을 속성으로 가지며, 생성자에서 이름을 초기화합니다.<br>\n",
    "• 추가적으로 Animal 클래스는 현재 생성된 동물 객체의 수를 클래스 변수로 가지고, 정적 메소드로 현재 동물 객체의 수를 반환하는 메소드를 구현합니다.<br>\n",
    "• 객체가 생성(__init__)될 때 객체의 수를 증가하고 삭제(__del__(self) ) 될 때 객체의 수를 감소합니다.<br>"
   ]
  },
  {
   "cell_type": "code",
   "execution_count": null,
   "id": "4b24eb6e",
   "metadata": {},
   "outputs": [
    {
     "name": "stdout",
     "output_type": "stream",
     "text": [
      "가나디이/가 멍멍하고 울어요\n",
      "고냐니이/가 야옹하고 울어요\n",
      "전체 동물 수 :  2\n",
      "꾸꺄이/가 멍멍하고 울어요\n",
      "전체 동물 수 :  3\n",
      "쿠키이/가 멍멍하고 울어요\n",
      "새벽이/가 야옹하고 울어요\n",
      "백설기이/가 멍멍하고 울어요\n",
      "나비이/가 야옹하고 울어요\n"
     ]
    }
   ],
   "source": [
    "from abc import ABC, abstractmethod\n",
    "\n",
    "class Animal(ABC):\n",
    "    animal_count = 0                        # 클래스 변수로 동물 객체 수를 지정\n",
    "\n",
    "    def __init__(self):\n",
    "        Animal.animal_count += 1\n",
    "\n",
    "    @abstractmethod\n",
    "    def sound(self):\n",
    "        pass\n",
    "\n",
    "    @staticmethod\n",
    "    def get_animal_count():\n",
    "        return Animal.animal_count          # 현재 동물 객체 수 반환\n",
    "\n",
    "class Dog(Animal):\n",
    "    def __init__(self, name):               # 생성자에서 이름을 초기화 \n",
    "        super().__init__()                  # 부모 클래스의 생성자 호출\n",
    "        self.__name = name\n",
    "\n",
    "    def sound(self):\n",
    "        return f\"{self.__name}이/가 멍멍하고 울어요\"\n",
    "\n",
    "class Cat(Animal):\n",
    "    def __init__(self, name):\n",
    "        super().__init__()\n",
    "        self.__name = name\n",
    "    \n",
    "    # 추상 메소드 구현\n",
    "    def sound(self):\n",
    "        return f\"{self.__name}이/가 야옹하고 울어요\"\n",
    "\n",
    "if __name__ == \"__main__\":\n",
    "    mydog : Dog = Dog(\"가나디\")\n",
    "    mycat : Cat = Cat(\"고냐니\")\n",
    "\n",
    "    print(mydog.sound())\n",
    "    print(mycat.sound())\n",
    "\n",
    "    print(\"전체 동물 수 : \", Animal.get_animal_count())\n",
    "\n",
    "    #ani = Animal = Animal()  # 추상 클래스는 객체 생성 불가\n",
    "    ani = Animal = Dog(\"꾸꺄\")\n",
    "    print(ani.sound())        # Animal을 상속하므로 공통 메서드 sound()를 호출 가능\n",
    "    print(\"전체 동물 수 : \", Animal.get_animal_count())\n",
    "\n",
    "    animalList = [Dog(\"쿠키\"), Cat(\"새벽\"), Dog(\"백설기\"), Cat(\"나비\")]\n",
    "    for animal in animalList:   # animal은 Dog 또는 Cat 객체지만, 모두 Animal을 상속하므로 공통 메서드 sound()를 호출 가능\n",
    "        print(animal.sound())\n",
    "\n",
    "    def make_sound(animals : list[Animal]):\n",
    "        for animal in animals:   # animal은 Dog 또는 Cat 객체지만, 모두 Animal을 상속하므로 공통 메서드 sound()를 호출 가능\n",
    "            print(animal.sound())"
   ]
  }
 ],
 "metadata": {
  "kernelspec": {
   "display_name": "Python 3",
   "language": "python",
   "name": "python3"
  },
  "language_info": {
   "codemirror_mode": {
    "name": "ipython",
    "version": 3
   },
   "file_extension": ".py",
   "mimetype": "text/x-python",
   "name": "python",
   "nbconvert_exporter": "python",
   "pygments_lexer": "ipython3",
   "version": "3.11.9"
  }
 },
 "nbformat": 4,
 "nbformat_minor": 5
}
