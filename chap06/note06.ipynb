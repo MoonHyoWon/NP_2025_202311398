{
 "cells": [
  {
   "cell_type": "markdown",
   "id": "44cf1363",
   "metadata": {},
   "source": [
    "## 6단원 실습\n",
    "날  짜 : 2025.09.24.수요일 (4주차 실습) <br>\n",
    "작성자 : 문효원 <br>\n",
    "학  번 : 202311398 <br>\n",
    "*****"
   ]
  },
  {
   "cell_type": "markdown",
   "id": "32d063dd",
   "metadata": {},
   "source": [
    "## 객체 지향 프로그래밍\n",
    "> 객체 (object) == 클래스(class)를 인스턴스화(instantiation)한 것<br>\n",
    "> 속성 (변수)<br>\n",
    "> 동작 (함수) == 메소드 (method)"
   ]
  },
  {
   "cell_type": "markdown",
   "id": "4fcfc53e",
   "metadata": {},
   "source": [
    "## 클래스\n",
    "> 자동차 클래스로 차의 색상과 속도 접근하기"
   ]
  },
  {
   "cell_type": "code",
   "execution_count": 3,
   "id": "74ed7e15",
   "metadata": {},
   "outputs": [
    {
     "name": "stdout",
     "output_type": "stream",
     "text": [
      "색상:  Black 속도:  60\n",
      "색상:  Red\n",
      "속도:  70\n",
      "속도:  50\n"
     ]
    }
   ],
   "source": [
    "class Car :\n",
    "    def __init__(self, color, speed):   # 초기화 메소드. self는 객체를 나타냄 \n",
    "        self.color = color   # 인스턴스 변수 정의\n",
    "        self.speed = speed\n",
    "    def speedUp(self, v):   # 메소드의 첫 번째 매개변수는 self\n",
    "        self.speed = self.speed + v\n",
    "        return self.speed\n",
    "    def speedDown(self, v):\n",
    "        self.speed = self.speed - v   # 다른 메소드에서 정의된 변수 접근 \n",
    "        return self.speed\n",
    "\n",
    "mycar = Car('Black', 60) #Car class 객체 생성\n",
    "print('색상: ', mycar.color, '속도: ', mycar.speed) #속성 접근 \n",
    "mycar.color = \"Red\" #속성 변경도 가능\n",
    "print('색상: ', mycar.color)\n",
    "mycar.speedUp(10) #speedup() method 호출 \n",
    "print('속도: ', mycar.speed)\n",
    "mycar.speedDown(20) #speeddown() method 호출 \n",
    "print('속도: ', mycar.speed)"
   ]
  },
  {
   "cell_type": "markdown",
   "id": "a77a74a8",
   "metadata": {},
   "source": [
    "> 덧셈과 뺄셈이 있는 계산기"
   ]
  },
  {
   "cell_type": "code",
   "execution_count": 4,
   "id": "cbfb14ce",
   "metadata": {},
   "outputs": [
    {
     "name": "stdout",
     "output_type": "stream",
     "text": [
      "(3, 0)\n",
      "2\n",
      "3\n",
      "1 1\n"
     ]
    }
   ],
   "source": [
    "class Calc:\n",
    "    count = 0  # 클래스 변수 (모든 인스턴스가 공유)\n",
    "\n",
    "    def add(self, a=0, b=0):\n",
    "        self.a = a  # 인스턴스 변수\n",
    "        self.b = b\n",
    "        Calc.count += 1   # 클래스 변수 증가\n",
    "        return self.a + self.b\n",
    "\n",
    "    def minus(self, a, b):\n",
    "        if a == 0 or b == 0:\n",
    "            return a - b, Calc.count\n",
    "        else:\n",
    "            return a - b\n",
    "\n",
    "\n",
    "obj = Calc()\n",
    "print(obj.minus(3, 0)) \n",
    "print(obj.minus(3, 1)) \n",
    "print(obj.add(1, 2))   \n",
    "print(obj.count, Calc.count) # 인스턴스 변수(obj.count)는 변하지만 클래스 변수(Calc.count)는 변하지 않음"
   ]
  },
  {
   "cell_type": "markdown",
   "id": "2093e4dc",
   "metadata": {},
   "source": [
    "### 클래스 상속 (inheritance)"
   ]
  },
  {
   "cell_type": "code",
   "execution_count": 5,
   "id": "a0a1ff70",
   "metadata": {},
   "outputs": [
    {
     "name": "stdout",
     "output_type": "stream",
     "text": [
      "Name: Lee Age: 29\n",
      "Name: Kim Age: 48\n",
      "My School is HighSchool\n"
     ]
    }
   ],
   "source": [
    "class People:\n",
    "    def __init__(self, age=0, name=None):\n",
    "        self.__age = age\n",
    "        self.__name = name\n",
    "\n",
    "    def introMe(self):\n",
    "        print(\"Name:\", self.__name, \"Age:\", str(self.__age))\n",
    "\n",
    "class Teacher(People):\n",
    "    def __init__(self, age=0, name=None, school=None):\n",
    "        super().__init__(age, name)  # 부모 클래스의 생성자 호출\n",
    "        self.school = school         # Teacher 고유 속성\n",
    "\n",
    "    def showSchool(self):\n",
    "        print(\"My School is\", self.school)\n",
    "\n",
    "# 실행 예시\n",
    "p1 = People(29, \"Lee\")                 # ➊ People 객체\n",
    "p1.introMe()                           # ➋ People.introMe() 호출\n",
    "# 출력: Name: Lee age: 29\n",
    "\n",
    "t1 = Teacher(48, \"Kim\", \"HighSchool\")  # ➌ Teacher 객체\n",
    "t1.introMe()                           # ➍ People.introMe() 호출\n",
    "# 출력: Name: Kim age: 48\n",
    "\n",
    "t1.showSchool()                        # ➎ Teacher.showSchool() 호출\n",
    "# 출력: My School is HighSchool"
   ]
  },
  {
   "cell_type": "markdown",
   "id": "523b4c64",
   "metadata": {},
   "source": [
    "### 메소드 오버라이딩 (overriding)"
   ]
  },
  {
   "cell_type": "code",
   "execution_count": 6,
   "id": "0fc9f182",
   "metadata": {},
   "outputs": [
    {
     "name": "stdout",
     "output_type": "stream",
     "text": [
      "Name: Lee age: 29\n",
      "Name: Park age: 17\n",
      "Grade: 2\n"
     ]
    }
   ],
   "source": [
    "class People:  # 부모 클래스\n",
    "    def __init__(self, age=0, name=None):\n",
    "        self.__age = age\n",
    "        self.__name = name\n",
    "\n",
    "    def introMe(self):\n",
    "        print(\"Name:\", self.__name, \"age:\", str(self.__age))\n",
    "\n",
    "class Student(People):  # 자식 클래스\n",
    "    def __init__(self, age=0, name=None, grade=None):\n",
    "        super().__init__(age, name)   # 부모 클래스 생성자 호출\n",
    "        self.__grade = grade          # 자식 클래스 고유 변수\n",
    "\n",
    "    # 부모 클래스 메소드를 재정의(오버라이딩)\n",
    "    def introMe(self):\n",
    "        super().introMe()  # 부모 메소드 먼저 실행\n",
    "        print(\"Grade:\", self.__grade)\n",
    "\n",
    "# 실행 예시\n",
    "p1 = People(29, \"Lee\")\n",
    "p1.introMe()   # ➊ People의 introMe() 호출\n",
    "\n",
    "s1 = Student(17, \"Park\", 2)\n",
    "s1.introMe()   # ➋ Student의 introMe() 호출"
   ]
  },
  {
   "cell_type": "markdown",
   "id": "b5fbd2de",
   "metadata": {},
   "source": [
    "### 다형성 (poiymorphism)"
   ]
  },
  {
   "cell_type": "code",
   "execution_count": 7,
   "id": "b6527b9f",
   "metadata": {},
   "outputs": [
    {
     "name": "stdout",
     "output_type": "stream",
     "text": [
      "안녕하세요\n",
      "Hello\n"
     ]
    }
   ],
   "source": [
    "class Korean(object):\n",
    "    def greeting(self):\n",
    "        print(\"안녕하세요\")\n",
    "\n",
    "class American(object):\n",
    "    def greeting(self):\n",
    "        print(\"Hello\")\n",
    "\n",
    "###############################\n",
    "\n",
    "def sayhello(people):\n",
    "    people.greeting()\n",
    "\n",
    "# 객체 생성\n",
    "Kim = Korean()    # Korean 클래스 객체\n",
    "John = American() # American 클래스 객체\n",
    "\n",
    "# 실행\n",
    "sayhello(Kim)   # 동일한 함수인데 인자에 따라 출력이 다름\n",
    "sayhello(John)\n"
   ]
  },
  {
   "cell_type": "markdown",
   "id": "b159956d",
   "metadata": {},
   "source": [
    "### 가시성 (Visivility)\n",
    "> 관례적으로 다음과 같이 가시성을 표현<br>\n",
    "public: 이름 앞에 밑줄 없음 (예: value) → 어디서나 접근 가능 <br>\n",
    "protected: 이름 앞에 밑줄 1개 (예: _value) → 하위 클래스에서 접근 권장, 외부에서 직접 접근은 권장하지 않음<br>\n",
    "private: 이름 앞에 밑줄 2개 (예: __value) → 클래스 내부에서만 접근, 이름이 맹글링(name mangling)되어 외부/하위 클래스에서 직접 접근 어렵게 만듦<br>\n"
   ]
  },
  {
   "cell_type": "code",
   "execution_count": 9,
   "id": "c0b4c460",
   "metadata": {},
   "outputs": [
    {
     "name": "stdout",
     "output_type": "stream",
     "text": [
      "=== Base 객체 직접 접근 ===\n",
      "public: 1\n",
      "protected: 2\n",
      "\n",
      "=== Child 클래스에서 접근 ===\n",
      "public: 1\n",
      "protected: 2\n",
      "\n",
      "=== Other 클래스에서 접근 ===\n",
      "public: 1\n",
      "protected: 2\n"
     ]
    }
   ],
   "source": [
    "class Base:\n",
    "    def __init__(self):\n",
    "        self.public_value = 1        # public\n",
    "        self._protected_value = 2    # protected\n",
    "        self.__private_value = 3     # private \n",
    "\n",
    "\n",
    "class Child(Base):\n",
    "    def show(self):\n",
    "        print(\"=== Child 클래스에서 접근 ===\")\n",
    "        print(\"public:\", self.public_value)        # 가능\n",
    "        print(\"protected:\", self._protected_value) # 가능\n",
    "        # print(self.__private_value)              # 불가 (AttributeError 발생)\n",
    "\n",
    "\n",
    "class Other:\n",
    "    def show(self, obj: Base):\n",
    "        print(\"=== Other 클래스에서 접근 ===\")\n",
    "        print(\"public:\", obj.public_value)         # 가능\n",
    "        print(\"protected:\", obj._protected_value)  # 가능 (권장되지 않음)\n",
    "        # print(obj.__private_value)               # 불가 (AttributeError 발생)\n",
    "\n",
    "\n",
    "# 테스트 실행\n",
    "print(\"=== Base 객체 직접 접근 ===\")\n",
    "b = Base()\n",
    "print(\"public:\", b.public_value)        # 가능\n",
    "print(\"protected:\", b._protected_value) # 가능 (하지만 관례상 사용하지 않음)\n",
    "# print(b.__private_value)              # 불가 (AttributeError)\n",
    "\n",
    "print()\n",
    "\n",
    "c = Child()\n",
    "c.show()\n",
    "\n",
    "print()\n",
    "\n",
    "o = Other()\n",
    "o.show(b)\n"
   ]
  },
  {
   "cell_type": "markdown",
   "id": "3b97ccf8",
   "metadata": {},
   "source": [
    "### 추상 메소드 (Abstract methods)"
   ]
  },
  {
   "cell_type": "code",
   "execution_count": 10,
   "id": "b8e48bfc",
   "metadata": {},
   "outputs": [
    {
     "name": "stdout",
     "output_type": "stream",
     "text": [
      "멍멍\n"
     ]
    }
   ],
   "source": [
    "from abc import ABC, abstractmethod\n",
    "\n",
    "# 추상 클래스 정의\n",
    "class Animal(ABC):\n",
    "    @abstractmethod\n",
    "    def sound(self):\n",
    "        pass\n",
    "\n",
    "\n",
    "# 추상 메소드를 구현한 구체 클래스\n",
    "class Dog(Animal):\n",
    "    def sound(self):\n",
    "        return \"멍멍\"\n",
    "\n",
    "\n",
    "# 실행 테스트\n",
    "# a = Animal()  # ❌ 에러: 추상 클래스는 직접 인스턴스화할 수 없음\n",
    "d = Dog()\n",
    "print(d.sound())  # ✅ \"멍멍\"\n"
   ]
  },
  {
   "cell_type": "markdown",
   "id": "d3151b2a",
   "metadata": {},
   "source": [
    "### 정적 멤버 (static variable, static methods)\n",
    "> 클래스 전체에서 공유되는 변수, 메소드<br>\n",
    "> 메서드의 경우 @staticmethod 데코레이터를 사용해 정적 메서드를 정의"
   ]
  },
  {
   "cell_type": "code",
   "execution_count": 11,
   "id": "50c8785c",
   "metadata": {},
   "outputs": [
    {
     "name": "stdout",
     "output_type": "stream",
     "text": [
      "클래스 변수 count: 1\n",
      "객체 변수 object_counter: 1\n",
      "객체 변수 object_counter 증가 후: 2\n"
     ]
    }
   ],
   "source": [
    "class Counter:\n",
    "    count = 0  # 클래스 변수(정적 멤버)\n",
    "\n",
    "    def __init__(self):\n",
    "        self.__object_counter = 1  # private 인스턴스 변수\n",
    "\n",
    "    @staticmethod\n",
    "    def increment_class():\n",
    "        Counter.count += 1\n",
    "\n",
    "    def increment_object(self):\n",
    "        self.__object_counter += 1  # private 멤버 내부 접근 가능\n",
    "\n",
    "    def get_object_counter(self):\n",
    "        return self.__object_counter  # 외부에서 안전하게 접근하기 위한 메소드\n",
    "\n",
    "\n",
    "if __name__ == \"__main__\":\n",
    "    Counter.increment_class()\n",
    "    print(\"클래스 변수 count:\", Counter.count)  # 1\n",
    "\n",
    "    # 인스턴스 생성\n",
    "    c = Counter()\n",
    "\n",
    "    # private 변수는 직접 접근 불가 → AttributeError 발생\n",
    "    # print(c.__object_counter)\n",
    "\n",
    "    # 대신 getter 메서드로 접근\n",
    "    print(\"객체 변수 object_counter:\", c.get_object_counter())  # 1\n",
    "\n",
    "    # 객체 변수 증가\n",
    "    c.increment_object()\n",
    "    print(\"객체 변수 object_counter 증가 후:\", c.get_object_counter())  # 2\n"
   ]
  },
  {
   "cell_type": "markdown",
   "id": "79b9188b",
   "metadata": {},
   "source": [
    "### 둔더(== __) 메소드(Dunder methods)\n",
    "> <span style=\"color:red\">D</span>ouble <span style=\"color:red\">Under</span>lines 의 약자<br>\n",
    "파이썬에서는 Underline은 특별한 의미로 사용할 때가 많음<br>\n",
    "\n",
    " __ XXX __ 메소드는 자동으로 호출되는 경우가 많음<br>\n",
    "이러한 메소드를 재정의 하여 사용자 코드를 수행하도록 할 수 있음\n",
    "\n",
    "<변수에서 사용될 경우><br>\n",
    "num == public (일반 변수) <br>\n",
    "_num == private (내부용 변수)<br>\n",
    "__num == protected (개인용 변수) → 네임 맹글링(name mangling : 수행할 때 인터프리터에서 이름이 바뀌는 것) 적용 <br>"
   ]
  },
  {
   "cell_type": "code",
   "execution_count": 1,
   "id": "4ed266e5",
   "metadata": {},
   "outputs": [
    {
     "name": "stdout",
     "output_type": "stream",
     "text": [
      "Student(name=Alice, age=20)\n",
      "Student(name=Bob, age=22)\n",
      "False\n",
      "True\n",
      "Student Alice is being deleted\n"
     ]
    }
   ],
   "source": [
    "class Student:\n",
    "    def __init__(self, name, age):\n",
    "        self.name = name\n",
    "        self.age = age\n",
    "\n",
    "    def __str__(self):\n",
    "        return f\"Student(name={self.name}, age={self.age})\"\n",
    "\n",
    "    def __eq__(self, other):\n",
    "        if isinstance(other, Student):\n",
    "            return self.name == other.name and self.age == other.age\n",
    "        return False\n",
    "\n",
    "    def __del__(self):\n",
    "        print(f\"Student {self.name} is being deleted\")\n",
    "\n",
    "\n",
    "if __name__ == \"__main__\":\n",
    "    student1 = Student(\"Alice\", 20)\n",
    "    student2 = Student(\"Bob\", 22)\n",
    "    student3 = Student(\"Alice\", 20)\n",
    "\n",
    "    print(student1)             # __str__ 호출\n",
    "    print(student2)             # __str__ 호출\n",
    "\n",
    "    print(student1 == student2) # __eq__ 호출 (False)\n",
    "    print(student1 == student3) # __eq__ 호출 (True)\n",
    "\n",
    "    del student1                # __del__ 호출"
   ]
  },
  {
   "cell_type": "markdown",
   "id": "bd11c0fc",
   "metadata": {},
   "source": [
    "### 데코레이터 (decorator)\n",
    "> 함수나 클래스의 동작을 수정하거나 확장할 때 사용하는 문법<br>\n",
    "함수(또는 메서드) 정의 위에 <span style=\"color:skyblue\">@데코레이터이름</span> 형태로 사용"
   ]
  },
  {
   "cell_type": "code",
   "execution_count": 2,
   "id": "c0acaf67",
   "metadata": {},
   "outputs": [
    {
     "name": "stdout",
     "output_type": "stream",
     "text": [
      "=== 예제 1: 기본 데코레이터 ===\n",
      "함수 실행 전\n",
      "Hello, World!\n",
      "함수 실행 후\n"
     ]
    }
   ],
   "source": [
    "def simple_decorator(func):\n",
    "    def wrapper():\n",
    "        print(\"함수 실행 전\")\n",
    "        result = func()\n",
    "        print(\"함수 실행 후\")\n",
    "        return result\n",
    "    return wrapper\n",
    "\n",
    "@simple_decorator\n",
    "def say_hello():\n",
    "    print(\"Hello, World!\")\n",
    "\n",
    "if __name__ == \"__main__\":\n",
    "    print(\"=== 예제 1: 기본 데코레이터 ===\")\n",
    "    say_hello()"
   ]
  },
  {
   "cell_type": "markdown",
   "id": "5d1aa180",
   "metadata": {},
   "source": [
    "#### 이미 작성된 함수의 기능 확장 방법 (2가지)\n",
    "##### 1. 함수 재할당 방식\n",
    "원래 함수 이름에 다시 데코레이터를 적용한 함수 할당<br>\n",
    "기존 코드(클라이언트 코드) 변경 없이 사용 가능\n",
    "\n",
    "> <span style=\"color:lightgreen\">예: say_hello = simple_decorator(say_hello)</span>\n",
    "\n",
    "\n",
    "##### 2. 새로운 함수명 부여 방식\n",
    "데코레이터 적용 결과를 새로운 이름으로 할당<br>\n",
    "기존 함수는 그대로 두고, 새 코드에서 확장된 기능 사용\n",
    "\n",
    "> <span style=\"color:lightgreen\">예: new_hello = simple_decorator(say_hello)</span>"
   ]
  },
  {
   "cell_type": "code",
   "execution_count": 3,
   "id": "94411c6e",
   "metadata": {},
   "outputs": [
    {
     "name": "stdout",
     "output_type": "stream",
     "text": [
      "=== 함수 재할당 ===\n",
      "함수 실행 전\n",
      "Hello, World!\n",
      "함수 실행 후\n",
      "\n",
      "=== 다른 함수명 사용 ===\n",
      "함수 실행 전\n",
      "Hello, World!\n",
      "함수 실행 후\n"
     ]
    }
   ],
   "source": [
    "def say_hello():\n",
    "    print(\"Hello, World!\") \n",
    "\n",
    "def simple_decorator(func):\n",
    "    def wrapper():\n",
    "        print(\"함수 실행 전\")\n",
    "        result = func()\n",
    "        print(\"함수 실행 후\")\n",
    "        return result\n",
    "    return wrapper\n",
    "\n",
    "# 원본 함수 백업\n",
    "original_say_hello = say_hello\n",
    "\n",
    "# 1. 함수 재할당 (기존 이름 유지)\n",
    "say_hello = simple_decorator(original_say_hello)\n",
    "\n",
    "# 2. 다른 함수명 사용 (새 이름으로 확장)\n",
    "decorated_say_hello = simple_decorator(original_say_hello)\n",
    "\n",
    "if __name__ == \"__main__\":\n",
    "    print(\"=== 함수 재할당 ===\")\n",
    "    say_hello()  # 확장된 기능 실행\n",
    "\n",
    "    print(\"\\n=== 다른 함수명 사용 ===\")\n",
    "    decorated_say_hello()  # 확장된 기능 실행"
   ]
  }
 ],
 "metadata": {
  "kernelspec": {
   "display_name": "Python 3",
   "language": "python",
   "name": "python3"
  },
  "language_info": {
   "codemirror_mode": {
    "name": "ipython",
    "version": 3
   },
   "file_extension": ".py",
   "mimetype": "text/x-python",
   "name": "python",
   "nbconvert_exporter": "python",
   "pygments_lexer": "ipython3",
   "version": "3.11.9"
  }
 },
 "nbformat": 4,
 "nbformat_minor": 5
}
