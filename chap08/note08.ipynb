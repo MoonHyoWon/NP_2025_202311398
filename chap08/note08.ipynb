{
 "cells": [
  {
   "cell_type": "markdown",
   "id": "551e5b68",
   "metadata": {},
   "source": [
    "## 8단원 실습\n",
    "날  짜 : 2025.10.01.수요일 (5주차 실습) <br>\n",
    "작성자 : 문효원 <br>\n",
    "학  번 : 202311398 <br>\n",
    "*****"
   ]
  },
  {
   "cell_type": "markdown",
   "id": "c5ae5fe6",
   "metadata": {},
   "source": [
    "### 예외 처리\n",
    "> 프로그램 실행 도중에 오류가 발생하면 생성되는 특별한 <br>\n",
    "<b>print(1/0)</b>을 실행하면 <span style=\"color:red\">ZeroDivisionError 예외</span> 발생<br>\n",
    "\n",
    "예외가 발생하면 파이썬은 프로그램 실행을 중단<br>\n",
    "▶ 예외처리란 <span style=\"color:red\">예외가 발생했을 때 프로그램 실행을 중단하지 않고 처리하는 방법</span>을 정의한 프로그램 부분<br>"
   ]
  },
  {
   "cell_type": "markdown",
   "id": "41c0000f",
   "metadata": {},
   "source": [
    "예외의 종류\n",
    "- <span style=\"color:yellow\">ZeroDivisionError</span> = 0으로 나눌 때\n",
    "- <span style=\"color:yellow\">IndexError</span> = 인덱스가 범위를 벗어날 때\n",
    "- <span style=\"color:yellow\">FileNotFoundError</span> = 존재하지 않는 파일을 열려고 할 때\n",
    "- <span style=\"color:yellow\">ValueError</span> = 원하는 값을 입력 받지 못할 때\n",
    "- <span style=\"color:yellow\">NameError</span> = 정의되지 않은 변수를 사용할 때\n",
    "- <span style=\"color:yellow\">TypeError</span> = 데이터형이 맞지 않는 연산을 할 때"
   ]
  },
  {
   "cell_type": "code",
   "execution_count": 1,
   "id": "b1f463a2",
   "metadata": {},
   "outputs": [
    {
     "name": "stdout",
     "output_type": "stream",
     "text": [
      "ZeroDivisionError: division by zero\n",
      "IndexError: list index out of range\n",
      "FileNotFoundError: [Errno 2] No such file or directory: 'Nofile.txt'\n",
      "ValueError: invalid literal for int() with base 10: '1.23'\n",
      "NameError: name 'var' is not defined\n",
      "TypeError: can only concatenate str (not \"int\") to str\n"
     ]
    }
   ],
   "source": [
    "# ZeroDivisionError: 0으로 나누기\n",
    "try:\n",
    "    result = 5 / 0\n",
    "except ZeroDivisionError as e:\n",
    "    print(\"ZeroDivisionError:\", e)\n",
    "\n",
    "# IndexError: 리스트 범위 벗어나기\n",
    "a = [0, 1, 2]\n",
    "try:\n",
    "    print(a[3])\n",
    "except IndexError as e:\n",
    "    print(\"IndexError:\", e)\n",
    "\n",
    "# FileNotFoundError: 존재하지 않는 파일 열기\n",
    "try:\n",
    "    fp = open(\"Nofile.txt\", \"r\")\n",
    "except FileNotFoundError as e:\n",
    "    print(\"FileNotFoundError:\", e)\n",
    "\n",
    "# ValueError: 잘못된 형식 변환\n",
    "try:\n",
    "    num = int(\"1.23\")  # int()는 소수 문자열 변환 불가\n",
    "except ValueError as e:\n",
    "    print(\"ValueError:\", e)\n",
    "\n",
    "# NameError: 정의되지 않은 변수 사용\n",
    "try:\n",
    "    1 + var*2\n",
    "except NameError as e:\n",
    "    print(\"NameError:\", e)\n",
    "\n",
    "# TypeError: 서로 다른 자료형 연산\n",
    "try:\n",
    "    \"str\" + 1\n",
    "except TypeError as e:\n",
    "    print(\"TypeError:\", e)"
   ]
  },
  {
   "cell_type": "markdown",
   "id": "e8f2bc76",
   "metadata": {},
   "source": [
    "try:<br>\n",
    "&nbsp;&nbsp;&nbsp;&nbsp;a = 1 / b ➊①<br>\n",
    "except ZeroDivisionError: ②<br>\n",
    "&nbsp;&nbsp;&nbsp;&nbsp;print(\"0으로 나눌 수 없습니다\") ➋③<br>\n",
    "else: <br>\n",
    "&nbsp;&nbsp;&nbsp;&nbsp;print(a) ➌④<br>\n",
    "\n",
    "• ➊ a=1/b를 실행하고 ZeroDivisionError 예외가 발생하면 ➋ 문장 실행<br>\n",
    "• ZeroDivisionError가 아닌 다른 예외가 발생하면 프로그램 중단<br>\n",
    "• 예외가 발생하지 않으면 ➌ 문장 실행<br>\n",
    "• <span style=\"color:red\">else: 블록은 생략 가능</span><br>\n",
    "• except ZeroDivisionError: 에서 <span style=\"color:red\">ZeroDivisionError를 생략하면 모든 예외에 대해 ➋ 문장 실행</span><br>\n",
    "<br>\n",
    "<br>\n",
    "• <span style=\"color:red\">Try 블록</span>: ➊을 실행하고 예외가 발생하면\n",
    "\n",
    "except Exception as e: ②<br>\n",
    "• <span style=\"color:red\">Except 블록</span>: 어떤 종류의 예외 ➋ 가 발생하면 <span style=\"color:yellow\">예외객체</span>를 <span style=\"color:yellow\">e</span>로 받고 ➌ 문장 실행<br>\n",
    "&nbsp;- 예외의 종류는 모르지만 예외가 발생할 이유를 알고 싶을 때 ➋와 같이 사용. <span style=\"color:yellow\">e</span>는 <span style=\"color:yellow\">예외와 관련된 메시지 저장</span><br>\n",
    "\n",
    "• <span style=\"color:red\">Else 블록</span>: 예외가 발생하지 않으면 ➌ 문장 실행"
   ]
  },
  {
   "cell_type": "markdown",
   "id": "ab37cb45",
   "metadata": {},
   "source": [
    "import sys<br>\n",
    "try:<br>\n",
    "&nbsp;&nbsp;&nbsp;&nbsp;fp = open('sample.txt')<br>\n",
    "&nbsp;&nbsp;&nbsp;&nbsp;sl = fp.readline()<br>\n",
    "&nbsp;&nbsp;&nbsp;&nbsp;value = int(sl.strip())<br>\n",
    "except OSError as err:<br>\n",
    "&nbsp;&nbsp;&nbsp;&nbsp;print(\"OS 오류:\", err) ➊<br>\n",
    "except ValueError:<br>\n",
    "&nbsp;&nbsp;&nbsp;&nbsp;print(\"정수로 변환할 수 없습니다\") ➋<br>\n",
    "except:  <span style=\"color:green\"># Unknown Exception Occurred</span><br>\n",
    "&nbsp;&nbsp;&nbsp;&nbsp;print(\"알 수 없는 오류가 발생하였습니다\") ➌<br>\n",
    "\n",
    "• try: 블록 실행 결과 OSError 예외가 발생하면 ➊문장 실행<br>\n",
    "• Except: ValueError 예외가 발생하면 ➋문장 실행<br>\n",
    "• 기타 예외가 발생하면 ➌문장 실행"
   ]
  },
  {
   "cell_type": "markdown",
   "id": "09afe31f",
   "metadata": {},
   "source": [
    "try:<br>\n",
    "&nbsp;&nbsp;&nbsp;&nbsp;result = x / y ➊<br>\n",
    "except ZeroDivisionError:<br>\n",
    "&nbsp;&nbsp;&nbsp;&nbsp;print(\"0으로 나눌 수 없습니다\") ➋<br>\n",
    "except:<br>\n",
    "&nbsp;&nbsp;&nbsp;&nbsp;print(result) ➌<br>\n",
    "finally:<br>\n",
    "&nbsp;&nbsp;&nbsp;&nbsp;print(\"예외처리가 끝났습니다\") ➍<br>\n",
    "\n",
    "• <span style=\"color:red\">Try</span> 블록: ➊문장을 실행하고 ZeroDivisionError<br>\n",
    "• <span style=\"color:red\">Except</span> 블록: ZeroDivisionError 예외가 발생하면 ➋ 문장 실행<br>\n",
    "• <span style=\"color:red\">Except</span> 블록2: 예외 객체가 지정되지 않은 예외가 발생하면 ➌ 문장 실행<br>\n",
    "• <span style=\"color:red\">Finally</span> 블록: <span style=\"color:red\">예외 발생에 관계없이 항상</span> ➍ 문장 실행. 따라서 <span style=\"color:red\">finally 블록은 <b>항상 실행</b>됨</span><br>\n",
    "• except-else 블록은 생략 가능(try-finally)<br>"
   ]
  },
  {
   "cell_type": "code",
   "execution_count": 3,
   "id": "eb4f3609",
   "metadata": {},
   "outputs": [
    {
     "name": "stdout",
     "output_type": "stream",
     "text": [
      "숫자가 아닌 값을 입력했습니다.\n",
      "프로그램 종료.\n"
     ]
    }
   ],
   "source": [
    "class NegativeNumberError(Exception):\n",
    "    def __init__(self, value):\n",
    "        self.value = value\n",
    "        self.message = f\"음수는 허용되지 않습니다: 입력값({value})\"\n",
    "        super().__init__(self.message)\n",
    "\n",
    "    def __str__(self):\n",
    "        return self.message\n",
    "\n",
    "\n",
    "def process_number(n):\n",
    "    if n < 0:\n",
    "        raise NegativeNumberError(n)\n",
    "    return n * 2\n",
    "\n",
    "\n",
    "try:\n",
    "    num = int(input(\"양의 정수를 입력하세요: \"))\n",
    "    result = process_number(num)\n",
    "except ValueError:\n",
    "    print(\"숫자가 아닌 값을 입력했습니다.\")\n",
    "except NegativeNumberError as e:\n",
    "    print(f\"사용자 정의 예외 발생: {e}\")\n",
    "else:\n",
    "    print(f\"처리 결과: {result}\")\n",
    "finally:\n",
    "    print(\"프로그램 종료.\")"
   ]
  },
  {
   "cell_type": "markdown",
   "id": "e5f7ab48",
   "metadata": {},
   "source": [
    "### 파일 처리\n",
    "❖ 표준 입출력<br>\n",
    "• <span style=\"color:yellow\">표준 입력 (standard input)</span> : 키보드<br>\n",
    "• <span style=\"color:yellow\">표준 출력 (standard output)</span> : 콘솔 화면<br>\n",
    "• <span style=\"color:yellow\">표준 에러 (standard error)</span> : 콘솔 화면<br>\n",
    "\n",
    "❖ 파일 입출력<br>\n",
    "• <span style=\"color:red\">표준 입출력 대신</span>에 <span style=\"color:red\">파일에 기록</span>하는 것<br>\n",
    "• <span style=\"color:yellow\">텍스트(text) 파일</span> : 사람이 볼 수 있는 문자 데이터를 저장 (메모장으로 확인 가능)<br>\n",
    "• <span style=\"color:yellow\">이진(binary) 파일</span>: 이진수 데이터를 저장<br>\n",
    "\n",
    "❖ 파일 처리 과정<br>\n",
    "• 열기 : 파일 이름과 처리목적(읽기 또는 쓰기)를 지정해 사용하려는 파일을 열기<br>\n",
    "• 사용 : 열린 파일에 대한 읽기 또는 쓰기를 진행<br>\n",
    "• 닫기 : 파일의 사용이 끝나면 열린 파일을 닫아 버퍼에 있는 내용을 디스크에 모두 반영<br>\n",
    "\n",
    "❖ 파일의 열기<br>\n",
    "• fp = open(“filename”, “mode”)<br>\n",
    "• Filename : 열고자 하는 파일명 (절대경로 혹은 상대경로로 지정)<br>\n",
    "• mode : r, w, a, x / r+, w+, a+ / rb, wb, ab, rb+, wb+, ab+<br>\n",
    "⇒ <span style=\"color:red\">x</span> : 배타적 생성 모드. <u>파일이 있으면 오류 발생.</u> <span style=\"color:red\">없으면 새로 생성</span><br>"
   ]
  },
  {
   "cell_type": "code",
   "execution_count": 4,
   "id": "cdac5fde",
   "metadata": {},
   "outputs": [],
   "source": [
    "ofile = open(\"./phonebook.txt\", \"w\", encoding=\"utf-8\")  # 파일 열기 (쓰기 모드)\n",
    "\n",
    "ofile.write(\"John Doe, 123-456-7890\\n\")\n",
    "ofile.write(\"Jane Smith, 987-654-3210\\n\")\n",
    "ofile.write(\"Alice Johnson, 555-123-4567\\n\")\n",
    "ofile.write(\"Bob Brown, 444-987-6543\\n\")\n",
    "ofile.write(\"Charlie Davis, 333-222-1111\\n\")\n",
    "ofile.write(\"Eve White, 777-888-9999\\n\")\n",
    "\n",
    "ofile.close()  # 파일 닫기"
   ]
  },
  {
   "cell_type": "code",
   "execution_count": 5,
   "id": "842e4ecb",
   "metadata": {},
   "outputs": [
    {
     "name": "stdout",
     "output_type": "stream",
     "text": [
      "John Doe, 123-456-7890\n",
      "Jane Smith, 987-654-3210\n",
      "Alice Johnson, 555-123-4567\n",
      "Bob Brown, 444-987-6543\n",
      "Charlie Davis, 333-222-1111\n",
      "Eve White, 777-888-9999\n",
      "John Doe, 123-456-7890\n",
      "Jane Smith, 987-654-3210\n",
      "Alice Johnson, 555-123-4567\n",
      "Bob Brown, 444-987-6543\n",
      "Charlie Davis, 333-222-1111\n",
      "Eve White, 777-888-9999\n"
     ]
    }
   ],
   "source": [
    "# 한 줄씩 읽기\n",
    "rfile = open(\"./phonebook.txt\", \"r\", encoding=\"utf-8\")\n",
    "\n",
    "line: str = rfile.readline()\n",
    "while line:\n",
    "    print(line.strip())\n",
    "    line = rfile.readline()\n",
    "\n",
    "rfile.close()\n",
    "\n",
    "\n",
    "# 또는 (파일이 작을 때만 사용 권장)\n",
    "rfile = open(\"./phonebook.txt\", \"r\", encoding=\"utf-8\")\n",
    "\n",
    "lines: list = rfile.readlines()\n",
    "for line in lines:\n",
    "    print(line.strip())\n",
    "\n",
    "rfile.close()\n"
   ]
  },
  {
   "cell_type": "code",
   "execution_count": 6,
   "id": "6a861175",
   "metadata": {},
   "outputs": [
    {
     "name": "stdout",
     "output_type": "stream",
     "text": [
      "File not found: [Errno 2] No such file or directory: './phonebook1.txt'\n"
     ]
    }
   ],
   "source": [
    "try:\n",
    "    rfile = open(\"./phonebook1.txt\", \"r\", encoding=\"utf-8\")\n",
    "    line: str = rfile.readline()\n",
    "    while line:\n",
    "        print(line.strip())\n",
    "        line = rfile.readline()\n",
    "    rfile.close()\n",
    "except FileNotFoundError as e:\n",
    "    print(\"File not found:\", e)"
   ]
  },
  {
   "cell_type": "code",
   "execution_count": 7,
   "id": "5a5d73f4",
   "metadata": {},
   "outputs": [
    {
     "name": "stdout",
     "output_type": "stream",
     "text": [
      "Name: John Doe, Phone: 123-456-7890\n",
      "Name: Jane Smith, Phone: 987-654-3210\n",
      "Name: Alice Johnson, Phone: 555-123-4567\n",
      "Name: Bob Brown, Phone: 444-987-6543\n",
      "Name: Charlie Davis, Phone: 333-222-1111\n",
      "Name: Eve White, Phone: 777-888-9999\n",
      "-----\n",
      "Name: John Doe, Phone: 123-456-7890\n",
      "Name: Jane Smith, Phone: 987-654-3210\n",
      "Name: Alice Johnson, Phone: 555-123-4567\n",
      "Name: Bob Brown, Phone: 444-987-6543\n",
      "Name: Charlie Davis, Phone: 333-222-1111\n",
      "Name: Eve White, Phone: 777-888-9999\n"
     ]
    }
   ],
   "source": [
    "# 전화번호부 딕셔너리 정의\n",
    "contacts: dict = {\n",
    "    '123-456-7890': 'John Doe',\n",
    "    '987-654-3210': 'Jane Smith',\n",
    "    '555-123-4567': 'Alice Johnson',\n",
    "    '444-987-6543': 'Bob Brown',\n",
    "    '333-222-1111': 'Charlie Davis',\n",
    "    '777-888-9999': 'Eve White'\n",
    "}\n",
    "\n",
    "# 파일에 쓰기\n",
    "with open(\"./phonebook.txt\", \"w\", encoding=\"utf-8\") as wfile:\n",
    "    for key, value in contacts.items():\n",
    "        wfile.write(f\"{value}, {key}\\n\")\n",
    "\n",
    "# 파일에서 한 줄씩 읽기 (while)\n",
    "with open(\"./phonebook.txt\", \"r\", encoding=\"utf-8\") as rfile:\n",
    "    line: str = rfile.readline()\n",
    "    while line:\n",
    "        name, phone = line.strip().split(\", \")\n",
    "        print(f\"Name: {name}, Phone: {phone}\")\n",
    "        line = rfile.readline()\n",
    "\n",
    "print(\"-----\")\n",
    "\n",
    "# 파일에서 한 줄씩 읽기 (for)\n",
    "with open(\"./phonebook.txt\", \"r\", encoding=\"utf-8\") as rfile:\n",
    "    for line in rfile:\n",
    "        name, phone = line.strip().split(\", \")\n",
    "        print(f\"Name: {name}, Phone: {phone}\")"
   ]
  },
  {
   "cell_type": "code",
   "execution_count": 8,
   "id": "0b8eeb8f",
   "metadata": {},
   "outputs": [],
   "source": [
    "ofile = open(\"./phonebook.txt\", \"a\", encoding=\"utf-8\")  # 열기\n",
    "ofile.write(\"홍길동, 123-456-7890\\n김정렬, 987-654-3210\\n\")\n",
    "ofile.close()"
   ]
  },
  {
   "cell_type": "markdown",
   "id": "0e862d30",
   "metadata": {},
   "source": [
    "<이진 파일>"
   ]
  },
  {
   "cell_type": "markdown",
   "id": "f83215ad",
   "metadata": {},
   "source": [
    "❖  <span style=\"color:yellow\">이미지, 음악, 영상 파일 들은</span> 텍스트파일이 아니어서 <span style=\"color:yellow\">메모장으로 읽을 수 없음</span> (문자 깨짐)<br>\n",
    "• 해당 파일들은 특정한 인코딩 규칙에 의해 <span style=\"color:yellow\">이진으로 저장</span>됨<br>\n",
    "• 따라서 <span style=\"color:yellow\">특정한 디코딩 규칙에 의해 원래 데이터로 복구</span>해야 함<br>\n",
    "\n",
    "❖  이진 파일의 읽고 쓰기<br>\n",
    "• r: bytes = f.read(<바이트수>)<br>\n",
    "• write(<바이트 객체>)<br>\n",
    "• Type(bytes) : 바이트로 직렬화된 바이트 스트림 객체<br>\n",
    "\n",
    "❖  유니코드 문자열 → 바이트 변환<br>\n",
    "• strb : bytes = str.encode(‘utf-8’) → 한글 1글자에 3바이트, 영문 1글자에 1바이트로 변환<br>\n",
    "• strb.ljust(bsize, fillchar) → bsize만큼 할당하고 왼쪽 정렬, 나머지는 fillchar 로 채움<br>\n",
    "• 예) str = ‘한글‘, strb = str.encode(‘utf-8’).ljust(16, b’\\x00’) : 16바이트 할당하여 왼쪽정렬, 나머지는 0으로 채움<br>\n",
    "\n",
    "❖  바이트 → 유니코드 변환<br>\n",
    "• Str : str = strb[:16].rstrip(b’\\x00’).decode(‘utf-8’), 읽어들인 바이트스트림의 16바이트 끊고 우측 0을 제거 한 후 utf-8로 디코드하여 유니코드 얻기<br>"
   ]
  },
  {
   "cell_type": "code",
   "execution_count": 9,
   "id": "42685f16",
   "metadata": {},
   "outputs": [
    {
     "name": "stdout",
     "output_type": "stream",
     "text": [
      "연락처가 contacts.dat 파일에 저장되었습니다.\n",
      "\n",
      "전화번호: 010-1234-5678, 이름: 홍길동, 나이: 25\n",
      "전화번호: 010-2345-6789, 이름: 김철수, 나이: 30\n",
      "전화번호: 010-3456-7890, 이름: 이영희, 나이: 28\n",
      "전화번호: 010-4567-8901, 이름: 박민수, 나이: 35\n",
      "\n",
      "--- struct 예제 ---\n",
      "123\n",
      "45.66999816894531\n",
      "b'abc'\n",
      "총 바이트 크기: 11\n",
      "네트워크 헤더: b'\\x00\\x00\\x124\\x00P'\n"
     ]
    }
   ],
   "source": [
    "import struct\n",
    "\n",
    "# ✅ 연락처 클래스 정의\n",
    "class ContactRecord:\n",
    "    def __init__(self, phone: str, name: str, age: int = None):\n",
    "        self.phone = phone\n",
    "        self.name = name\n",
    "        self.age = age if age is not None else 0\n",
    "\n",
    "    def __str__(self) -> str:\n",
    "        return f\"전화번호: {self.phone}, 이름: {self.name}, 나이: {self.age}\"\n",
    "\n",
    "\n",
    "# ✅ 연락처 데이터를 36바이트로 패킹 (16s + 16s + i)\n",
    "def pack_contact_record(contact: ContactRecord) -> bytes:\n",
    "    \"\"\"\n",
    "    ContactRecord 객체를 36바이트 레코드로 패킹하는 함수\n",
    "    - 전화번호: 16바이트 문자열\n",
    "    - 이름: 16바이트 문자열\n",
    "    - 나이: 4바이트 정수\n",
    "    \"\"\"\n",
    "\n",
    "    phone_bytes = contact.phone.encode('utf-8')[:16].ljust(16, b'\\x00')\n",
    "    name_bytes = contact.name.encode('utf-8')[:16].ljust(16, b'\\x00')\n",
    "    return struct.pack(\"16s16si\", phone_bytes, name_bytes, contact.age)\n",
    "\n",
    "\n",
    "# ✅ 언패킹 함수 (바이너리를 ContactRecord로 복원)\n",
    "def unpack_contact_record(record: bytes) -> ContactRecord:\n",
    "    phone_bytes, name_bytes, age = struct.unpack(\"16s16si\", record)\n",
    "    phone = phone_bytes.rstrip(b'\\x00').decode('utf-8', errors='ignore')\n",
    "    name = name_bytes.rstrip(b'\\x00').decode('utf-8', errors='ignore')\n",
    "    return ContactRecord(phone, name, age)\n",
    "\n",
    "\n",
    "# ✅ 테스트용 연락처 데이터\n",
    "contacts = [\n",
    "    ContactRecord(\"010-1234-5678\", \"홍길동\", 25),\n",
    "    ContactRecord(\"010-2345-6789\", \"김철수\", 30),\n",
    "    ContactRecord(\"010-3456-7890\", \"이영희\", 28),\n",
    "    ContactRecord(\"010-4567-8901\", \"박민수\", 35)\n",
    "]\n",
    "\n",
    "\n",
    "# ✅ 바이너리 파일에 저장\n",
    "with open(\"contacts.dat\", \"wb\") as f:\n",
    "    for c in contacts:\n",
    "        record = pack_contact_record(c)\n",
    "        f.write(record)\n",
    "\n",
    "print(\"연락처가 contacts.dat 파일에 저장되었습니다.\\n\")\n",
    "\n",
    "\n",
    "# ✅ 파일에서 읽어오기\n",
    "with open(\"contacts.dat\", \"rb\") as f:\n",
    "    record_size = struct.calcsize(\"16s16si\")\n",
    "    while True:\n",
    "        record = f.read(record_size)\n",
    "        if not record:\n",
    "            break\n",
    "        contact = unpack_contact_record(record)\n",
    "        print(contact)\n",
    "\n",
    "\n",
    "# ✅ struct 모듈의 다른 예제 (데모용)\n",
    "data = struct.pack('i f 3s', 123, 45.67, b'abc')\n",
    "num, flt, string = struct.unpack('i f 3s', data)\n",
    "\n",
    "print(\"\\n--- struct 예제 ---\")\n",
    "print(num)      # 123\n",
    "print(flt)      # 45.67\n",
    "print(string)   # b'abc'\n",
    "\n",
    "# 포맷 전체 크기 확인\n",
    "print(\"총 바이트 크기:\", struct.calcsize('i f 3s'))\n",
    "\n",
    "# 이름 + 나이를 24바이트로 저장\n",
    "name = \"홍길동\"\n",
    "age = 25\n",
    "record = struct.pack('20s i', name.encode('utf-8'), age)\n",
    "\n",
    "# 네트워크 전송용 헤더 (빅엔디안)\n",
    "header = struct.pack('!IH', 0x1234, 80)\n",
    "print(\"네트워크 헤더:\", header)"
   ]
  },
  {
   "cell_type": "code",
   "execution_count": 10,
   "id": "10315e6c",
   "metadata": {},
   "outputs": [
    {
     "name": "stdout",
     "output_type": "stream",
     "text": [
      "36바이트 레코드로 저장:\n",
      "  저장: 전화번호: 010-1234-5678, 이름: 홍길동, 나이: 25\n",
      "  저장: 전화번호: 010-2345-6789, 이름: 김철수, 나이: 30\n",
      "  저장: 전화번호: 010-3456-7890, 이름: 이영희, 나이: 28\n",
      "  저장: 전화번호: 010-4567-8901, 이름: 박민수, 나이: 35\n",
      "\n",
      "36바이트 레코드 읽기:\n",
      "  레코드 1: 전화번호: 010-1234-5678, 이름: 홍길동, 나이: 25\n",
      "  레코드 2: 전화번호: 010-2345-6789, 이름: 김철수, 나이: 30\n",
      "  레코드 3: 전화번호: 010-3456-7890, 이름: 이영희, 나이: 28\n",
      "  레코드 4: 전화번호: 010-4567-8901, 이름: 박민수, 나이: 35\n",
      "\n",
      "contacts_struct.bin: 144바이트 (4개 레코드)\n"
     ]
    }
   ],
   "source": [
    "import os\n",
    "\n",
    "print(\"36바이트 레코드로 저장:\")\n",
    "with open(\"./contacts_struct.bin\", \"wb\") as file:\n",
    "    for contact in contacts:\n",
    "        record = pack_contact_record(contact)\n",
    "        file.write(record)\n",
    "        print(f\"  저장: {contact}\")\n",
    "\n",
    "print(\"\\n36바이트 레코드 읽기:\")\n",
    "with open(\"./contacts_struct.bin\", \"rb\") as file:\n",
    "    record_num = 1\n",
    "    while True:\n",
    "        record = file.read(36)  # 16+16+4\n",
    "        if not record or len(record) < 36:\n",
    "            break\n",
    "        contact = unpack_contact_record(record)\n",
    "        print(f\"  레코드 {record_num}: {contact}\")\n",
    "        record_num += 1\n",
    "\n",
    "# 파일 크기 확인\n",
    "if os.path.exists(\"./contacts_struct.bin\"):\n",
    "    size = os.path.getsize(\"./contacts_struct.bin\")\n",
    "    records = size // 36\n",
    "    print(f\"\\ncontacts_struct.bin: {size}바이트 ({records}개 레코드)\")"
   ]
  },
  {
   "cell_type": "markdown",
   "id": "49ed3719",
   "metadata": {},
   "source": [
    "<파일의 임의 접근> <br>\n",
    "\n",
    "❖ <span style=\"color:red\">특정 위치(오프셋)</span>로 가서 데이터를 읽거나 써야 할 필요가 있을 때 사용<br>\n",
    "❖ 특히 고정 길이 파일 구조의 특정 레코드를 임의로 접근<br>\n",
    "❖ 순차적이 아닌 임의 접근하므로 모든 레코드가 아닌 해당 레코드만 변경 가능<br>\n",
    "\n",
    "❖ 함수: f.seek(offset, from)<br>\n",
    "• offset : 이동할 파일의 위치 (0~n-1, n은 파일 사이즈(Byte))<br>\n",
    "• From : 0 – 파일 처음부터, 1 – 파일 현재 커서 위치부터,  2 – 파일의 끝부터<br>\n",
    "• 예( f.seek(10,0) : 처음부터 10의 위치, f.seek(10, 2) : 끝에서 10번째 위치, f.seek(10,1) 현재 위치 부터 10만큼 뒤<br>\n",
    "• 현재 위치 (커서 위치) : 파일을 읽거나 쓸 때 쓴 바이트만큼 커서 위치가 증가<br>\n",
    "• 오픈했을 때 커서 위치는 0<br>\n",
    "\n",
    "❖ 함수: f.tell()<br>\n",
    "• 열린 파일 f의 파일포인터 현재 위치를 알고 싶을 때<br>"
   ]
  },
  {
   "cell_type": "code",
   "execution_count": 11,
   "id": "0b2dc8f1",
   "metadata": {},
   "outputs": [
    {
     "name": "stdout",
     "output_type": "stream",
     "text": [
      "레코드 3 수정 완료:\n",
      "  이전: 전화번호: 010-3456-7890, 이름: 이영희, 나이: 28\n",
      "  이후: 전화번호: 010-3456-7890, 이름: 최영수, 나이: 29\n",
      "수정 완료!\n"
     ]
    }
   ],
   "source": [
    "def update_contact_in_binary_file(filename: str, target_phone: str, new_name: str, new_age: int) -> bool:\n",
    "    \"\"\"\n",
    "    이진 파일에서 특정 전화번호의 연락처 정보를 수정\n",
    "    - filename: 바이너리 파일 경로\n",
    "    - target_phone: 수정할 연락처 전화번호\n",
    "    - new_name: 새 이름\n",
    "    - new_age: 새 나이\n",
    "    반환값: True -> 수정 성공, False -> 실패\n",
    "    \"\"\"\n",
    "    try:\n",
    "        with open(filename, \"r+b\") as file:  # 읽기+쓰기 모드\n",
    "            record_num = 0\n",
    "            while True:\n",
    "                position = file.tell()          # 현재 위치 저장\n",
    "                record = file.read(36)          # 36바이트 레코드\n",
    "                if not record or len(record) < 36:\n",
    "                    break\n",
    "                record_num += 1\n",
    "                contact = unpack_contact_record(record)\n",
    "                # 해당 전화번호 찾기\n",
    "                if contact.phone == target_phone:\n",
    "                    # 새로운 연락처 레코드 생성\n",
    "                    new_contact = ContactRecord(target_phone, new_name, new_age)\n",
    "                    new_record = pack_contact_record(new_contact)\n",
    "                    # 해당 위치로 돌아가서 수정\n",
    "                    file.seek(position)\n",
    "                    file.write(new_record)\n",
    "                    print(f\"레코드 {record_num} 수정 완료:\")\n",
    "                    print(f\"  이전: {contact}\")\n",
    "                    print(f\"  이후: {new_contact}\")\n",
    "                    return True\n",
    "\n",
    "            print(f\"전화번호 '{target_phone}'을(를) 찾을 수 없습니다.\")\n",
    "            return False\n",
    "\n",
    "    except FileNotFoundError:\n",
    "        print(f\"파일 '{filename}'을(를) 찾을 수 없습니다.\")\n",
    "        return False\n",
    "\n",
    "# 기존 contacts_struct.bin 파일에서 전화번호 \"010-3456-7890\" 수정\n",
    "success = update_contact_in_binary_file(\n",
    "    \"contacts_struct.bin\",\n",
    "    target_phone=\"010-3456-7890\",\n",
    "    new_name=\"최영수\",\n",
    "    new_age=29\n",
    ")\n",
    "\n",
    "if success:\n",
    "    print(\"수정 완료!\")\n",
    "else:\n",
    "    print(\"수정 실패!\")\n"
   ]
  },
  {
   "cell_type": "markdown",
   "id": "8039fb59",
   "metadata": {},
   "source": [
    "❖ with 표현식 as 변수: <br>\n",
    "• 표현식 : 컨텍스트 관리자를 반환하는 객체<br>\n",
    "• as 변수는 : 그 객체의 리턴값을 변수에 할당<br>\n",
    "• 코드블록이 끝나면 자동으로 자원정리 (__exit__) 가 호출<br>"
   ]
  },
  {
   "cell_type": "code",
   "execution_count": null,
   "id": "940db8fc",
   "metadata": {},
   "outputs": [
    {
     "ename": "UnicodeDecodeError",
     "evalue": "'cp949' codec can't decode byte 0xed in position 158: illegal multibyte sequence",
     "output_type": "error",
     "traceback": [
      "\u001b[31m---------------------------------------------------------------------------\u001b[39m",
      "\u001b[31mUnicodeDecodeError\u001b[39m                        Traceback (most recent call last)",
      "\u001b[36mCell\u001b[39m\u001b[36m \u001b[39m\u001b[32mIn[13]\u001b[39m\u001b[32m, line 2\u001b[39m\n\u001b[32m      1\u001b[39m \u001b[38;5;28;01mwith\u001b[39;00m \u001b[38;5;28mopen\u001b[39m(\u001b[33m\"\u001b[39m\u001b[33mphonebook.txt\u001b[39m\u001b[33m\"\u001b[39m, \u001b[33m\"\u001b[39m\u001b[33mr\u001b[39m\u001b[33m\"\u001b[39m) \u001b[38;5;28;01mas\u001b[39;00m f: \n\u001b[32m----> \u001b[39m\u001b[32m2\u001b[39m     content = \u001b[43mf\u001b[49m\u001b[43m.\u001b[49m\u001b[43mread\u001b[49m\u001b[43m(\u001b[49m\u001b[43m)\u001b[49m \n\u001b[32m      3\u001b[39m     \u001b[38;5;28mprint\u001b[39m(content)\n",
      "\u001b[31mUnicodeDecodeError\u001b[39m: 'cp949' codec can't decode byte 0xed in position 158: illegal multibyte sequence"
     ]
    }
   ],
   "source": [
    "with open(\"data.txt\", \"r\") as f: \n",
    "    content = f.read() \n",
    "    print(content)"
   ]
  },
  {
   "cell_type": "code",
   "execution_count": 14,
   "id": "26e7595f",
   "metadata": {},
   "outputs": [
    {
     "name": "stdout",
     "output_type": "stream",
     "text": [
      "자원 획득\n",
      "작업 시작\n",
      "자원 해제\n"
     ]
    }
   ],
   "source": [
    "class MyContext:\n",
    "    def __enter__(self):\n",
    "        print(\"자원 획득\")\n",
    "        return \"작업 시작\"\n",
    "\n",
    "    def __exit__(self, exc_type, exc_value, traceback):\n",
    "        print(\"자원 해제\")\n",
    "\n",
    "with MyContext() as msg:\n",
    "    print(msg)"
   ]
  },
  {
   "cell_type": "code",
   "execution_count": 15,
   "id": "acb1d028",
   "metadata": {},
   "outputs": [
    {
     "name": "stdout",
     "output_type": "stream",
     "text": [
      "Hello, World!\n",
      "\n"
     ]
    }
   ],
   "source": [
    "from contextlib import contextmanager\n",
    "\n",
    "@contextmanager\n",
    "def open_file(name, mode):\n",
    "    f = open(name, mode)\n",
    "    try:\n",
    "        yield f\n",
    "    finally:\n",
    "        f.close()\n",
    "\n",
    "# 사용 예\n",
    "with open_file(\"data.txt\", \"w+\") as file:\n",
    "    file.write(\"Hello, World!\\n\")\n",
    "    file.seek(0)\n",
    "    content = file.read()\n",
    "    print(content)"
   ]
  },
  {
   "cell_type": "markdown",
   "id": "052aa51e",
   "metadata": {},
   "source": [
    "### F-String (F 문자열)"
   ]
  },
  {
   "cell_type": "code",
   "execution_count": 16,
   "id": "900fb362",
   "metadata": {},
   "outputs": [
    {
     "name": "stdout",
     "output_type": "stream",
     "text": [
      "|||||||||10|||||||||\n",
      "양수부호표시 +10\n",
      "날짜 Tue Aug 16 21:30:00 1988\n",
      "날짜 2025년 10월 12일 07시 19분 09초\n",
      "bool(a)=True\n",
      "소수점 아래 2자리 10.00\n",
      "왼쪽정렬 20,000    \n",
      "수식결과 3 + 4 = 7\n",
      "우측정렬 0000020000\n",
      "중앙정렬과 쉼표표기        20,000       \n"
     ]
    }
   ],
   "source": [
    "from datetime import datetime  # datetime 모듈에서 datetime 클래스만 임포트\n",
    "\n",
    "n = 10\n",
    "m = 20000\n",
    "a = True\n",
    "\n",
    "date = datetime(1988, 8, 16, 21, 30)\n",
    "now = datetime.now()\n",
    "\n",
    "# 기본 출력\n",
    "print(f'{n:|^20}')  # 중앙정렬, 좌우 '|' 채움\n",
    "print(f'양수부호표시 {n:+}')  # 양수는 '+', 음수는 '-'\n",
    "print(f'날짜 {date:%c}')  # 'Tue Aug 16 21:30:00 1988'\n",
    "print(f'날짜 {now:%Y년 %m월 %d일 %H시 %M분 %S초}')  # 현재 시간\n",
    "\n",
    "# 불린값\n",
    "print(f'{bool(a)=}')  # 'bool(a)=True'\n",
    "\n",
    "# 소수점 아래 2자리\n",
    "print(f'소수점 아래 2자리 {n:.2f}')  # '10.00'\n",
    "\n",
    "# 왼쪽 정렬과 쉼표 표시\n",
    "print(f'왼쪽정렬 {m:<10,}')  # '20,000    '\n",
    "\n",
    "# 수식 결과\n",
    "print(f'수식결과 {3 + 4 = }')  # '3 + 4 = 7'\n",
    "\n",
    "# 우측정렬 0 패딩\n",
    "print(f'우측정렬 {m:0>10}')  # '0000020000'\n",
    "\n",
    "# 중앙정렬과 쉼표 표시\n",
    "print(f'중앙정렬과 쉼표표기 {m:^20,}')  # '      20,0\n"
   ]
  },
  {
   "cell_type": "code",
   "execution_count": 17,
   "id": "fa18346d",
   "metadata": {},
   "outputs": [
    {
     "name": "stdout",
     "output_type": "stream",
     "text": [
      "십진수: 255\n",
      "이진수: 11111111\n",
      "이진수 (0b 접두사): 0b11111111\n",
      "팔진수: 377\n",
      "팔진수 (0o 접두사): 0o377\n",
      "십육진수: ff\n",
      "십육진수 (대문자): FF\n",
      "십육진수 (0x 접두사): 0xff\n",
      "십육진수 (대문자, 0X 접두사): 0XFF\n"
     ]
    }
   ],
   "source": [
    "number = 255  # 예제 숫자\n",
    "\n",
    "print(f\"십진수: {number}\")\n",
    "print(f\"이진수: {number:b}\")\n",
    "print(f\"이진수 (0b 접두사): {number:#b}\")\n",
    "print(f\"팔진수: {number:o}\")\n",
    "print(f\"팔진수 (0o 접두사): {number:#o}\")\n",
    "print(f\"십육진수: {number:x}\")\n",
    "print(f\"십육진수 (대문자): {number:X}\")\n",
    "print(f\"십육진수 (0x 접두사): {number:#x}\")\n",
    "print(f\"십육진수 (대문자, 0X 접두사): {number:#X}\")"
   ]
  },
  {
   "cell_type": "code",
   "execution_count": 18,
   "id": "0f0b25e2",
   "metadata": {},
   "outputs": [
    {
     "name": "stdout",
     "output_type": "stream",
     "text": [
      "현재 시간: 2025-10-12 07:20:19.114172\n",
      "기본 포맷: 2025-10-12 07:20:19\n",
      "한국 날짜 형식: 2025년 10월 12일\n",
      "시간만: 07:20:19\n",
      "AM/PM 형식: 2025-10-12 07:20:19 AM\n",
      "요일: Sunday\n",
      "월 이름: October\n",
      "ISO 형식: 2025-10-12T07:20:19\n",
      "\n",
      "생일: 1995년 05월 15일 14시 30분\n"
     ]
    }
   ],
   "source": [
    "from datetime import datetime\n",
    "\n",
    "now = datetime.now()\n",
    "birthday = datetime(1995, 5, 15, 14, 30, 0)\n",
    "\n",
    "# 현재 시간\n",
    "print(f\"현재 시간: {now}\")\n",
    "\n",
    "# 기본 포맷\n",
    "print(f\"기본 포맷: {now:%Y-%m-%d %H:%M:%S}\")\n",
    "\n",
    "# 한국 날짜 형식\n",
    "print(f\"한국 날짜 형식: {now:%Y년 %m월 %d일}\")\n",
    "\n",
    "# 시간만\n",
    "print(f\"시간만: {now:%H:%M:%S}\")\n",
    "\n",
    "# AM/PM 형식\n",
    "print(f\"AM/PM 형식: {now:%Y-%m-%d %I:%M:%S %p}\")\n",
    "\n",
    "# 요일\n",
    "print(f\"요일: {now:%A}\")\n",
    "\n",
    "# 월 이름\n",
    "print(f\"월 이름: {now:%B}\")\n",
    "\n",
    "# ISO 형식\n",
    "print(f\"ISO 형식: {now:%Y-%m-%dT%H:%M:%S}\")\n",
    "\n",
    "# 생일 출력\n",
    "print(f\"\\n생일: {birthday:%Y년 %m월 %d일 %H시 %M분}\")"
   ]
  },
  {
   "cell_type": "code",
   "execution_count": 19,
   "id": "6d24be47",
   "metadata": {},
   "outputs": [
    {
     "name": "stdout",
     "output_type": "stream",
     "text": [
      "10 + 3 = 13\n",
      "10 - 3 = 7\n",
      "10 * 3 = 30\n",
      "10 / 3 = 3.33\n",
      "10 ** 3 = 1000\n",
      "10 % 3 = 1\n",
      "sqrt(10) = 3.16\n",
      "sin(π/2) = 1.00\n",
      "대문자: PYTHON\n",
      "길이: 6\n",
      "첫 글자: p\n",
      "성적: 85점 (합격)\n"
     ]
    }
   ],
   "source": [
    "import math\n",
    "\n",
    "a = 10\n",
    "b = 3\n",
    "name = \"python\"\n",
    "\n",
    "# 수학 연산\n",
    "print(f\"{a} + {b} = {a + b}\")\n",
    "print(f\"{a} - {b} = {a - b}\")\n",
    "print(f\"{a} * {b} = {a * b}\")\n",
    "print(f\"{a} / {b} = {a / b:.2f}\")\n",
    "print(f\"{a} ** {b} = {a ** b}\")\n",
    "print(f\"{a} % {b} = {a % b}\")\n",
    "\n",
    "# 함수 호출\n",
    "print(f\"sqrt({a}) = {math.sqrt(a):.2f}\")\n",
    "print(f\"sin(π/2) = {math.sin(math.pi/2):.2f}\")\n",
    "\n",
    "# 문자열 메서드\n",
    "print(f\"대문자: {name.upper()}\")\n",
    "print(f\"길이: {len(name)}\")\n",
    "print(f\"첫 글자: {name[0]}\")\n",
    "\n",
    "# 조건식\n",
    "score = 85\n",
    "print(f\"성적: {score}점 ({'합격' if score >= 60 else '불합격'})\")"
   ]
  },
  {
   "cell_type": "code",
   "execution_count": 20,
   "id": "17e4363c",
   "metadata": {},
   "outputs": [
    {
     "name": "stdout",
     "output_type": "stream",
     "text": [
      "기본 정렬:\n",
      "'Python              '\n",
      "'              Python'\n",
      "'       Python       '\n",
      "\n",
      "특수 문자로 패딩:\n",
      "'Python--------------'\n",
      "'**************Python'\n",
      "'=======Python======='\n",
      "\n",
      "숫자 정렬:\n",
      "'     1'\n",
      "'    22'\n",
      "'   333'\n",
      "'  4444'\n",
      "\n",
      "테이블 형태:\n",
      "이름        나이   점수\n",
      "김철수       25   85\n",
      "이영희       30   92\n",
      "박민수       22   78\n"
     ]
    }
   ],
   "source": [
    "text = \"Python\"\n",
    "width = 20\n",
    "\n",
    "print(\"기본 정렬:\")\n",
    "print(f\"'{text:<{width}}'\")  # 왼쪽 정렬\n",
    "print(f\"'{text:>{width}}'\")  # 오른쪽 정렬\n",
    "print(f\"'{text:^{width}}'\")  # 가운데 정렬\n",
    "\n",
    "print(\"\\n특수 문자로 패딩:\")\n",
    "print(f\"'{text:-<{width}}'\")  # 왼쪽 정렬, - 패딩\n",
    "print(f\"'{text:*>{width}}'\")  # 오른쪽 정렬, * 패딩\n",
    "print(f\"'{text:=^{width}}'\")  # 가운데 정렬, = 패딩\n",
    "\n",
    "print(\"\\n숫자 정렬:\")\n",
    "numbers = [1, 22, 333, 4444]\n",
    "for num in numbers:\n",
    "    print(f\"'{num:>6}'\")  # 오른쪽 정렬, 폭 6\n",
    "\n",
    "print(\"\\n테이블 형태:\")\n",
    "data = [\n",
    "    (\"이름\", \"나이\", \"점수\"),\n",
    "    (\"김철수\", 25, 85),\n",
    "    (\"이영희\", 30, 92),\n",
    "    (\"박민수\", 22, 78)\n",
    "]\n",
    "for row in data:\n",
    "    print(f\"{row[0]:<8} {row[1]:>3} {row[2]:>4}\")"
   ]
  },
  {
   "cell_type": "code",
   "execution_count": 21,
   "id": "276a8de2",
   "metadata": {},
   "outputs": [
    {
     "name": "stdout",
     "output_type": "stream",
     "text": [
      "딕셔너리 형태: {'name': 'Python'}\n",
      "중괄호 출력: {변수}\n",
      "파일 경로: C:\\Users\\Python\\Documents\n",
      "인용문: She said, 'Hello!'\n",
      "\n",
      "이름: Python\n",
      "길이: 6\n",
      "대문자: PYTHON\n",
      "\n",
      "일반 출력: hello\n",
      "world\n",
      "repr 출력: 'hello\\nworld'\n",
      "x=10, y=20\n",
      "x + y=30\n"
     ]
    }
   ],
   "source": [
    "# f-string 예제\n",
    "\n",
    "name = \"Python\"  # 변수 선언\n",
    "\n",
    "# 중괄호 이스케이프와 특수 문자\n",
    "print(f\"딕셔너리 형태: {{'name': '{name}'}}\")  # 중괄호 출력 (이중 중괄호 사용)\n",
    "print(f\"중괄호 출력: {{변수}}\")\n",
    "\n",
    "# 백슬래시와 따옴표\n",
    "file_path = r\"C:\\Users\\Python\\Documents\"  # r-string 사용\n",
    "quote = \"She said, 'Hello!'\"\n",
    "\n",
    "print(f\"파일 경로: {file_path}\")\n",
    "print(f\"인용문: {quote}\")\n",
    "\n",
    "# 여러 줄 f-string\n",
    "multi_line = f\"\"\"\n",
    "이름: {name}\n",
    "길이: {len(name)}\n",
    "대문자: {name.upper()}\n",
    "\"\"\"\n",
    "print(multi_line)\n",
    "\n",
    "# repr() 형태로 출력 (!r 사용, 디버깅용)\n",
    "debug_var = \"hello\\nworld\"\n",
    "print(f\"일반 출력: {debug_var}\")\n",
    "print(f\"repr 출력: {debug_var!r}\")  # Python 3.8+\n",
    "\n",
    "# f-string에서 변수 이름과 값 출력 (Python 3.8+)\n",
    "x = 10\n",
    "y = 20\n",
    "print(f\"{x=}, {y=}\")\n",
    "print(f\"{x + y=}\")"
   ]
  },
  {
   "cell_type": "code",
   "execution_count": 22,
   "id": "888842b2",
   "metadata": {},
   "outputs": [
    {
     "name": "stdout",
     "output_type": "stream",
     "text": [
      "진행률: |--------------------| 0.0% (0/100)\n",
      "진행률: |████----------------| 20.0% (20/100)\n",
      "진행률: |████████------------| 40.0% (40/100)\n",
      "진행률: |████████████--------| 60.0% (60/100)\n",
      "진행률: |████████████████----| 80.0% (80/100)\n",
      "진행률: |████████████████████| 100.0% (100/100)\n",
      "\n",
      "==================================================\n",
      "[2025-10-12 07:22:07]  INFO | 프로그램이 시작되었습니다\n",
      "[2025-10-12 07:22:07] ERROR | 파일을 찾을 수 없습니다\n",
      "[2025-10-12 07:22:07] DEBUG | 변수 x의 값: 42\n",
      "\n",
      "==================================================\n"
     ]
    }
   ],
   "source": [
    "# 1. 진행률 표시\n",
    "def show_progress(current, total):\n",
    "    percentage = (current / total) * 100\n",
    "    bar_length = 20\n",
    "    filled_length = int(bar_length * current / total)\n",
    "    bar = '█' * filled_length + '-' * (bar_length - filled_length)\n",
    "    return f\"\\r진행률: |{bar}| {percentage:.1f}% ({current}/{total})\"\n",
    "\n",
    "for i in range(0, 101, 20):\n",
    "    print(show_progress(i, 100))\n",
    "print(\"\\n\" + \"=\"*50)\n",
    "\n",
    "# 2. 로그 메시지 포맷팅\n",
    "import datetime\n",
    "\n",
    "def log_message(level, message):\n",
    "    timestamp = datetime.datetime.now()\n",
    "    return f\"[{timestamp:%Y-%m-%d %H:%M:%S}] {level:>5} | {message}\"\n",
    "\n",
    "print(log_message(\"INFO\", \"프로그램이 시작되었습니다\"))\n",
    "print(log_message(\"ERROR\", \"파일을 찾을 수 없습니다\"))\n",
    "print(log_message(\"DEBUG\", \"변수 x의 값: 42\"))\n",
    "\n",
    "print(\"\\n\" + \"=\"*50)"
   ]
  }
 ],
 "metadata": {
  "kernelspec": {
   "display_name": "Python 3",
   "language": "python",
   "name": "python3"
  },
  "language_info": {
   "codemirror_mode": {
    "name": "ipython",
    "version": 3
   },
   "file_extension": ".py",
   "mimetype": "text/x-python",
   "name": "python",
   "nbconvert_exporter": "python",
   "pygments_lexer": "ipython3",
   "version": "3.11.9"
  }
 },
 "nbformat": 4,
 "nbformat_minor": 5
}
