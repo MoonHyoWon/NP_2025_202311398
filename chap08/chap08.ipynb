{
 "cells": [
  {
   "cell_type": "markdown",
   "id": "551e5b68",
   "metadata": {},
   "source": [
    "## 8단원 실습\n",
    "날  짜 : 2025.10.01.수요일 (5주차 실습) <br>\n",
    "작성자 : 문효원 <br>\n",
    "학  번 : 202311398 <br>\n",
    "*****"
   ]
  }
 ],
 "metadata": {
  "language_info": {
   "name": "python"
  }
 },
 "nbformat": 4,
 "nbformat_minor": 5
}
