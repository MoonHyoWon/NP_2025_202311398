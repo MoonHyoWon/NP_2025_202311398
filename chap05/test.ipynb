{
 "cells": [
  {
   "cell_type": "markdown",
   "id": "bdf67e61",
   "metadata": {},
   "source": [
    "## 5단원 수업 중 실습\n",
    "날  짜 : 2025.09.17.수요일 (3주차 실습) <br>\n",
    "작성자 : 문효원 <br>\n",
    "학  번 : 202311398 <br>\n",
    "*****"
   ]
  },
  {
   "cell_type": "code",
   "execution_count": null,
   "id": "8d722e9e",
   "metadata": {},
   "outputs": [
    {
     "name": "stdout",
     "output_type": "stream",
     "text": [
      "5\n"
     ]
    }
   ],
   "source": [
    "mylist = ['this', 'is', 'a', 'test']\n",
    "\n",
    "def mylen(str):\n",
    "    return len(str)\n",
    "\n",
    "def isGood(x):\n",
    "    if len(x) > 2:\n",
    "        return True\n",
    "    else :\n",
    "        return False\n",
    "\n",
    "if __name__ == \"__main__\":\n",
    "    print(mylen('hello'))\n",
    "    filter(lambda x: len(x)>2, ['this', 'is', 'a', 'test']) # 리스트 형 변환이 안 됨!"
   ]
  },
  {
   "cell_type": "code",
   "execution_count": 9,
   "id": "baf7cbd3",
   "metadata": {},
   "outputs": [
    {
     "name": "stdout",
     "output_type": "stream",
     "text": [
      "['__and__', '__class__', '__class_getitem__', '__contains__', '__delattr__', '__dir__', '__doc__', '__eq__', '__format__', '__ge__', '__getattribute__', '__getstate__', '__gt__', '__hash__', '__iand__', '__init__', '__init_subclass__', '__ior__', '__isub__', '__iter__', '__ixor__', '__le__', '__len__', '__lt__', '__ne__', '__new__', '__or__', '__rand__', '__reduce__', '__reduce_ex__', '__repr__', '__ror__', '__rsub__', '__rxor__', '__setattr__', '__sizeof__', '__str__', '__sub__', '__subclasshook__', '__xor__', 'add', 'clear', 'copy', 'difference', 'difference_update', 'discard', 'intersection', 'intersection_update', 'isdisjoint', 'issubset', 'issuperset', 'pop', 'remove', 'symmetric_difference', 'symmetric_difference_update', 'union', 'update']\n"
     ]
    }
   ],
   "source": [
    "print(dir(set))"
   ]
  },
  {
   "cell_type": "code",
   "execution_count": 17,
   "id": "b2e1a45c",
   "metadata": {},
   "outputs": [
    {
     "name": "stdout",
     "output_type": "stream",
     "text": [
      "3\n",
      "Hello, VScode!\n",
      "[1, 2, 3]\n"
     ]
    }
   ],
   "source": [
    "def add(a: int, b: int) -> int: \n",
    "    return a + b\n",
    "\n",
    "def greet(name: str) -> str: \n",
    "    return f\"Hello, {name}!\"\n",
    "\n",
    "def get_list() -> list: \n",
    "    return [1, 2, 3]\n",
    "\n",
    "print(add(1, 2))\n",
    "print(greet(\"VScode\"))\n",
    "print(get_list())"
   ]
  },
  {
   "cell_type": "code",
   "execution_count": 15,
   "id": "44f86eb8",
   "metadata": {},
   "outputs": [
    {
     "name": "stdout",
     "output_type": "stream",
     "text": [
      "이름 = Alice, 나이 = 20\n",
      "내 이름은 Alice이고, 나이는 20입니다.\n",
      "|Alice     |\n",
      "|  Alice   |\n",
      "|     Alice|\n"
     ]
    }
   ],
   "source": [
    "age: int = 20\n",
    "name: str = 'Alice'\n",
    "\n",
    "# print(dir(str)) # 여기중 format 함수가 있다. 이게 fstring에서 사용됨!\n",
    "# str.format()\n",
    "\n",
    "print(f\"이름 = {name}, 나이 = {age}\".format(name, age))\n",
    "\n",
    "newString = f\"내 이름은 {name}이고, 나이는 {age}입니다.\"\n",
    "print(newString)\n",
    "\n",
    "# 왼쪽 정렬 (10칸)\n",
    "print(f\"|{name:<10}|\")\n",
    "\n",
    "# 가운데 정렬 (10칸)\n",
    "print(f\"|{name:^10}|\")\n",
    "\n",
    "# 오른쪽 정렬 (10칸)\n",
    "print(f\"|{name:>10}|\")"
   ]
  }
 ],
 "metadata": {
  "kernelspec": {
   "display_name": "Python 3",
   "language": "python",
   "name": "python3"
  },
  "language_info": {
   "codemirror_mode": {
    "name": "ipython",
    "version": 3
   },
   "file_extension": ".py",
   "mimetype": "text/x-python",
   "name": "python",
   "nbconvert_exporter": "python",
   "pygments_lexer": "ipython3",
   "version": "3.11.9"
  }
 },
 "nbformat": 4,
 "nbformat_minor": 5
}
