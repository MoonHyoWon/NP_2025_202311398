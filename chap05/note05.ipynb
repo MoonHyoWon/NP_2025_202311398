{
 "cells": [
  {
   "cell_type": "markdown",
   "id": "09ff8234",
   "metadata": {},
   "source": [
    "## 5단원 실습\n",
    "날  짜 : 2025.09.17.수요일 (3주차 실습) <br>\n",
    "작성자 : 문효원 <br>\n",
    "학  번 : 202311398 <br>\n",
    "*****"
   ]
  },
  {
   "cell_type": "markdown",
   "id": "242cec3a",
   "metadata": {},
   "source": [
    "## 함수\n",
    "> 이름을 붙여 반복적으로 사용할 수 있는 프로그램 부분\n",
    "\n",
    "< 함수의 사용 이유 ><br>\n",
    "•  프로그램 안에서 중복된 코드를 제거한다.<br>\n",
    "• 복잡한 프로그래밍 작업을 더 간단한 작업들로 분해할 수 있다.<br>\n",
    "• 함수는 한번 만들어지면 다른 프로그램에서도 재사용될 수 있다.<br>\n",
    "• 함수를 사용하면 가독성(프로그램의 이해)이 증대되고, 유지 관리도 쉬워진다.\n",
    "\n",
    "파이썬의 함수는 <span style=\"color:red\">일급 함수</span>이다.<br>\n",
    "일급 함수란? 함수가 다른 값과 똑같이 취급되는 것. 즉, 함수를 변수처럼 사용<br>\n",
    "• 변수에 할당: a = func<br>\n",
    "• 다른 함수의 인자로 전달 가능: func1(func)<br>\n",
    "• return 문으로 반환 가능: return func<br>"
   ]
  },
  {
   "cell_type": "code",
   "execution_count": 1,
   "id": "e0500e6a",
   "metadata": {},
   "outputs": [
    {
     "name": "stdout",
     "output_type": "stream",
     "text": [
      "Hello, John\n"
     ]
    }
   ],
   "source": [
    "# 함수 정의\n",
    "def welcome(name):\n",
    "    print(\"Hello,\", name)  # 출력만 하고 return 문 없음 → None 반환\n",
    "\n",
    "# 함수 호출\n",
    "welcome('John')  # 'John'이 매개변수로 전달됨"
   ]
  },
  {
   "cell_type": "code",
   "execution_count": 2,
   "id": "6a9c4eb8",
   "metadata": {},
   "outputs": [
    {
     "name": "stdout",
     "output_type": "stream",
     "text": [
      "Welcome to Python\n"
     ]
    }
   ],
   "source": [
    "# 함수 정의\n",
    "def prtStr(s):\n",
    "    print(\"%s\" % s)\n",
    "    return  # 반환 값 없이 함수 종료\n",
    "\n",
    "# 매개변수 정의\n",
    "s = \"Welcome to Python\"\n",
    "\n",
    "# 함수 호출\n",
    "prtStr(s)  # s를 매개변수로 전달"
   ]
  },
  {
   "cell_type": "code",
   "execution_count": 3,
   "id": "57b82f93",
   "metadata": {},
   "outputs": [
    {
     "name": "stdout",
     "output_type": "stream",
     "text": [
      "한변의 길이가 5인 정사각형의 넓이는 25\n",
      "한변의 길이가 7인 정사각형의 넓이는 49\n"
     ]
    }
   ],
   "source": [
    "# 함수 정의\n",
    "def squareArea(s):\n",
    "    area = s * s\n",
    "    return area  # area 값이 반환되고 함수 종료\n",
    "\n",
    "# 함수 호출 및 반환 값 저장\n",
    "a = squareArea(5)  # 5를 인자(argument)로 전달\n",
    "b = squareArea(7)\n",
    "\n",
    "# 결과 출력\n",
    "print(\"한변의 길이가 %d인 정사각형의 넓이는 %d\" % (5, a))\n",
    "print(\"한변의 길이가 %d인 정사각형의 넓이는 %d\" % (7, b))"
   ]
  },
  {
   "cell_type": "code",
   "execution_count": 4,
   "id": "f89f750a",
   "metadata": {},
   "outputs": [
    {
     "name": "stdout",
     "output_type": "stream",
     "text": [
      "1275\n",
      "500500\n"
     ]
    }
   ],
   "source": [
    "# 함수 정의\n",
    "def sum_n(n):  # sum은 파이썬 내장함수 이름이라 피하는 게 좋아요\n",
    "    hab = 0\n",
    "    for i in range(1, n + 1):  # 1~n까지 반복\n",
    "        hab = hab + i          # 합에 새로운 수를 더함\n",
    "    return hab                  # 반환값 = hab\n",
    "\n",
    "# 함수 호출 및 결과 저장\n",
    "a = sum_n(50)     # 1부터 50까지 합\n",
    "b = sum_n(1000)   # 1부터 1000까지 합\n",
    "\n",
    "# 결과 출력\n",
    "print(a)  # 1275\n",
    "print(b)  # 500500\n"
   ]
  },
  {
   "cell_type": "markdown",
   "id": "2933c1c1",
   "metadata": {},
   "source": [
    "> 함수와 변수 (지역변수, 전역변수, 매개변수)"
   ]
  },
  {
   "cell_type": "code",
   "execution_count": 7,
   "id": "ca5cff1e",
   "metadata": {},
   "outputs": [
    {
     "name": "stdout",
     "output_type": "stream",
     "text": [
      "func1()의 v = 10\n",
      "func2()의 v = 20\n"
     ]
    }
   ],
   "source": [
    "# 함수 선언부\n",
    "def func1():\n",
    "    v = 10  # 함수 func1() 안의 지역 변수, func1 내에서만 유효\n",
    "    print(\"func1()의 v = %d\" % v)\n",
    "\n",
    "def func2():\n",
    "    v = 20  # 함수 func2() 안의 지역 변수, func2 내에서만 유효\n",
    "    print(\"func2()의 v = %d\" % v)\n",
    "\n",
    "# 메인 코드 부분\n",
    "func1()\n",
    "func2()"
   ]
  },
  {
   "cell_type": "code",
   "execution_count": null,
   "id": "7612fac3",
   "metadata": {},
   "outputs": [
    {
     "name": "stdout",
     "output_type": "stream",
     "text": [
      "func1()의 v = 10\n",
      "func2()의 v = 20\n"
     ]
    }
   ],
   "source": [
    "# 함수 선언부\n",
    "def func1():\n",
    "    v = 10  # 함수 func1() 안의 지역 변수, 지역 변수가 우선 사용\n",
    "    print(\"func1()의 v = %d\" % v)\n",
    "\n",
    "def func2():\n",
    "    print(\"func2()의 v = %d\" % v)  # 함수 func2() 안에서는 전역 변수 사용\n",
    "\n",
    "# 메인 코드\n",
    "v = 20  # 전역 변수, 프로그램 내에서 유효\n",
    "\n",
    "func1()  # 지역 변수 값인 10 출력\n",
    "func2()  # 전역 변수 값인 20 출력"
   ]
  },
  {
   "cell_type": "code",
   "execution_count": 9,
   "id": "c54663fa",
   "metadata": {},
   "outputs": [
    {
     "name": "stdout",
     "output_type": "stream",
     "text": [
      "func1()의 v = 10\n",
      "func2()의 변경된 전역 v = 30\n",
      "30\n"
     ]
    }
   ],
   "source": [
    "# 함수 선언부\n",
    "def func1():\n",
    "    v = 10  # 함수 func1() 안의 지역 변수\n",
    "    print(\"func1()의 v = %d\" % v)\n",
    "\n",
    "def func2():\n",
    "    global v  # v를 전역 변수로 선언\n",
    "    v = 30\n",
    "    print(\"func2()의 변경된 전역 v = %d\" % v)\n",
    "\n",
    "# 메인 코드\n",
    "v = 20  # 함수 밖에서 정의된 전역 변수\n",
    "\n",
    "func1()  # 10 출력 (지역 변수)\n",
    "func2()  # 30 출력 (전역 변수 변경)\n",
    "print(v) # 30 출력 (전역 변수 v가 변경됨)"
   ]
  },
  {
   "cell_type": "markdown",
   "id": "a81081fd",
   "metadata": {},
   "source": [
    "> 기본 매개변수"
   ]
  },
  {
   "cell_type": "code",
   "execution_count": 1,
   "id": "1d10d557",
   "metadata": {},
   "outputs": [
    {
     "name": "stdout",
     "output_type": "stream",
     "text": [
      "default\n",
      "Hi! Hi! Hi! Hi! Hi! \n"
     ]
    }
   ],
   "source": [
    "def prtMesg(message, count=1):  # count의 기본값을 1로 설정\n",
    "    print(message * count)\n",
    "\n",
    "# 호출 예시\n",
    "prtMesg('default')       # message='default', count는 기본값 1 사용\n",
    "prtMesg('Hi! ', 5)       # message='Hi! ', count=5 전달"
   ]
  },
  {
   "cell_type": "code",
   "execution_count": 3,
   "id": "584a49db",
   "metadata": {},
   "outputs": [
    {
     "name": "stdout",
     "output_type": "stream",
     "text": [
      "Hi!  Abe, Nothing new?\n",
      "Hi!  Bob, Good morning!\n"
     ]
    }
   ],
   "source": [
    "def greet(name, msg=\"Nothing new?\"):   # msg의 기본값은 \"Nothing new?\"\n",
    "    print(\"Hi! \", name + ', ' + msg)\n",
    "\n",
    "# 호출\n",
    "greet(\"Abe\")                  # name만 전달 → msg는 기본값 사용\n",
    "greet(\"Bob\", \"Good morning!\") # name과 msg 모두 전달"
   ]
  },
  {
   "cell_type": "markdown",
   "id": "bdb817f9",
   "metadata": {},
   "source": [
    "> 가변 매개변수 (*arg = 튜플, **keywords = 딕셔너리)"
   ]
  },
  {
   "cell_type": "code",
   "execution_count": 4,
   "id": "dc041754",
   "metadata": {},
   "outputs": [
    {
     "name": "stdout",
     "output_type": "stream",
     "text": [
      "6\n",
      "15\n"
     ]
    }
   ],
   "source": [
    "def total(*numbers):   # 가변 인자 *numbers → 전달된 값들이 튜플로 묶임\n",
    "    sum = 0\n",
    "    for n in numbers:  # 전달받은 매개변수를 순회\n",
    "        sum += n\n",
    "    return sum\n",
    "\n",
    "# 호출\n",
    "print(total(1, 2, 3))         # 3개의 인자\n",
    "print(total(1, 2, 3, 4, 5))   # 5개의 인자"
   ]
  },
  {
   "cell_type": "code",
   "execution_count": 5,
   "id": "e3dfd48e",
   "metadata": {},
   "outputs": [
    {
     "name": "stdout",
     "output_type": "stream",
     "text": [
      "Kennedy : 35-th president\n",
      "Obama : 44-th president\n",
      "Trump : 45-th president\n"
     ]
    }
   ],
   "source": [
    "def dicPresident(**keywords):     # **keywords → 딕셔너리 형태로 인자 전달\n",
    "    for i in keywords.keys():     # 딕셔너리의 key를 하나씩 처리\n",
    "        print(\"%s : %d-th president\" % (i, keywords[i]))\n",
    "\n",
    "# 호출\n",
    "dicPresident(Kennedy=35, Obama=44, Trump=45)   # (key=value) 형식으로 전달"
   ]
  },
  {
   "cell_type": "markdown",
   "id": "1f294711",
   "metadata": {},
   "source": [
    "> 키워드 형태로 매개변수 전달"
   ]
  },
  {
   "cell_type": "code",
   "execution_count": 6,
   "id": "4a19108c",
   "metadata": {},
   "outputs": [
    {
     "name": "stdout",
     "output_type": "stream",
     "text": [
      "a= 4 b= 5 c= 3\n",
      "12\n",
      "a= 5 b= 2 c= 7\n",
      "14\n"
     ]
    }
   ],
   "source": [
    "def func(a, b=2, c=3):   # a: 위치 매개변수, b, c: 기본값이 있는 키워드 매개변수\n",
    "    print('a=', a, 'b=', b, 'c=', c)\n",
    "    return a + b + c\n",
    "\n",
    "# 호출 예시\n",
    "print(func(4, 5))       # 위치 인자 전달 → a=4, b=5, c=기본값 3\n",
    "print(func(5, c=7))     # a=5, c=7, b는 기본값 2 사용"
   ]
  },
  {
   "cell_type": "markdown",
   "id": "3a1054d0",
   "metadata": {},
   "source": [
    "> 이름 없는 함수, 람다(lambda) 함수"
   ]
  },
  {
   "cell_type": "code",
   "execution_count": 7,
   "id": "ce19f43c",
   "metadata": {},
   "outputs": [
    {
     "name": "stdout",
     "output_type": "stream",
     "text": [
      "정수의 합 :  30\n",
      "정수의 합 :  40\n"
     ]
    }
   ],
   "source": [
    "# lambda 함수 정의\n",
    "sum = lambda x, y: x + y   # x와 y를 더해서 반환\n",
    "\n",
    "# 호출\n",
    "print(\"정수의 합 : \", sum(10, 20))   # 10 + 20\n",
    "print(\"정수의 합 : \", sum(20, 20))   # 20 + 20"
   ]
  },
  {
   "cell_type": "markdown",
   "id": "f6ec7084",
   "metadata": {},
   "source": [
    "> 재귀함수"
   ]
  },
  {
   "cell_type": "code",
   "execution_count": 8,
   "id": "7a421caf",
   "metadata": {},
   "outputs": [
    {
     "name": "stdout",
     "output_type": "stream",
     "text": [
      "120\n"
     ]
    }
   ],
   "source": [
    "def fact(n):\n",
    "    if n == 1:  # 재귀 함수 종료 조건 (n=1일 때)\n",
    "        return 1\n",
    "    else:\n",
    "        return n * fact(n - 1)  # n! = n * (n-1)!\n",
    "\n",
    "# 호출\n",
    "print(fact(5))"
   ]
  },
  {
   "cell_type": "markdown",
   "id": "edc5b607",
   "metadata": {},
   "source": [
    "### 내장 함수\n",
    "#### eval, int, bin, oct, hex, filter, map, ord, repr, round, zip"
   ]
  },
  {
   "cell_type": "code",
   "execution_count": 9,
   "id": "51a0a4db",
   "metadata": {},
   "outputs": [
    {
     "name": "stdout",
     "output_type": "stream",
     "text": [
      "7\n"
     ]
    }
   ],
   "source": [
    "print(eval('1+2*3'))"
   ]
  },
  {
   "cell_type": "code",
   "execution_count": 10,
   "id": "cb9ae3fb",
   "metadata": {},
   "outputs": [
    {
     "name": "stdout",
     "output_type": "stream",
     "text": [
      "123\n",
      "10\n"
     ]
    }
   ],
   "source": [
    "# 문자열을 10진수 정수로 변환\n",
    "print(int('123'))      # 123\n",
    "\n",
    "# 문자열을 지정한 진수로 해석\n",
    "print(int('1010', 2))  # 2진수 '1010' → 10진수 10"
   ]
  },
  {
   "cell_type": "code",
   "execution_count": 11,
   "id": "e5269980",
   "metadata": {},
   "outputs": [
    {
     "name": "stdout",
     "output_type": "stream",
     "text": [
      "['this', 'test']\n"
     ]
    }
   ],
   "source": [
    "# 리스트에서 길이가 2보다 큰 요소만 추출\n",
    "result = list(filter(lambda x: len(x) > 2, ['this', 'is', 'a', 'test']))\n",
    "print(result)"
   ]
  },
  {
   "cell_type": "code",
   "execution_count": 12,
   "id": "81d4ee8b",
   "metadata": {},
   "outputs": [
    {
     "name": "stdout",
     "output_type": "stream",
     "text": [
      "[1, 9, 25, 81]\n"
     ]
    }
   ],
   "source": [
    "def Squares(n):\n",
    "    return n ** 2\n",
    "\n",
    "numbers = [1, 3, 5, 9]\n",
    "\n",
    "# map 함수로 numbers 요소를 Squares 함수에 적용\n",
    "squared_numbers = list(map(Squares, numbers))\n",
    "print(squared_numbers)"
   ]
  },
  {
   "cell_type": "code",
   "execution_count": 13,
   "id": "214c2b3e",
   "metadata": {},
   "outputs": [
    {
     "name": "stdout",
     "output_type": "stream",
     "text": [
      "12.3\n",
      "12.35\n"
     ]
    }
   ],
   "source": [
    "print(round(12.345, 1))  # 소수점 1자리 → 12.3\n",
    "print(round(12.345, 2))  # 소수점 2자리 → 12.35"
   ]
  },
  {
   "cell_type": "code",
   "execution_count": 14,
   "id": "bf1a3f76",
   "metadata": {},
   "outputs": [
    {
     "name": "stdout",
     "output_type": "stream",
     "text": [
      "Peter Parker is actually Spiderman\n",
      "Clark Kent is actually Superman\n",
      "Wade Wilson is actually Deadpool\n",
      "Bruce Wayne is actually Batman\n",
      "[('Peter Parker', 'Spiderman'), ('Clark Kent', 'Superman'), ('Wade Wilson', 'Deadpool'), ('Bruce Wayne', 'Batman')]\n"
     ]
    }
   ],
   "source": [
    "names = ['Peter Parker', 'Clark Kent', 'Wade Wilson', 'Bruce Wayne']\n",
    "heroes = ['Spiderman', 'Superman', 'Deadpool', 'Batman']\n",
    "\n",
    "# 이름과 히어로를 짝지어 출력\n",
    "for name, hero in zip(names, heroes):\n",
    "    print(f'{name} is actually {hero}')\n",
    "\n",
    "# zip 결과를 리스트로 확인\n",
    "print(list(zip(names, heroes)))"
   ]
  },
  {
   "cell_type": "markdown",
   "id": "1222883a",
   "metadata": {},
   "source": [
    "### 타입이 있는 함수와 변수 정의\n",
    "#### 동적 변수 타입"
   ]
  },
  {
   "cell_type": "code",
   "execution_count": 15,
   "id": "7031b2ea",
   "metadata": {},
   "outputs": [
    {
     "name": "stdout",
     "output_type": "stream",
     "text": [
      "8\n",
      "Hello, Alice!\n",
      "[1, 2, 3]\n"
     ]
    }
   ],
   "source": [
    "# 두 수를 더하는 함수\n",
    "def add(a, b):\n",
    "    return a + b\n",
    "\n",
    "# 인사말을 반환하는 함수\n",
    "def greet(name):\n",
    "    return f\"Hello, {name}!\"\n",
    "\n",
    "# 리스트를 반환하는 함수\n",
    "def get_list():\n",
    "    return [1, 2, 3]\n",
    "\n",
    "# 호출 예시\n",
    "print(add(3, 5))        # 8\n",
    "print(greet(\"Alice\"))    # Hello, Alice!\n",
    "print(get_list())        # [1, 2, 3]"
   ]
  },
  {
   "cell_type": "markdown",
   "id": "ff6e6be1",
   "metadata": {},
   "source": [
    "#### 명시적 변수 타입"
   ]
  },
  {
   "cell_type": "code",
   "execution_count": 16,
   "id": "931cd5de",
   "metadata": {},
   "outputs": [
    {
     "name": "stdout",
     "output_type": "stream",
     "text": [
      "8\n",
      "Hello, Alice!\n",
      "[1, 2, 3]\n"
     ]
    }
   ],
   "source": [
    "# 두 수를 더하는 함수 (정수 입력, 정수 반환)\n",
    "def add(a: int, b: int) -> int:\n",
    "    return a + b\n",
    "\n",
    "# 인사말을 반환하는 함수 (문자열 입력, 문자열 반환)\n",
    "def greet(name: str) -> str:\n",
    "    return f\"Hello, {name}!\"\n",
    "\n",
    "# 리스트를 반환하는 함수\n",
    "def get_list() -> list:\n",
    "    return [1, 2, 3]\n",
    "\n",
    "# 호출 예시\n",
    "print(add(3, 5))       # 8\n",
    "print(greet(\"Alice\"))   # Hello, Alice!\n",
    "print(get_list())       # [1, 2, 3]"
   ]
  },
  {
   "cell_type": "markdown",
   "id": "6dacd9d0",
   "metadata": {},
   "source": [
    "### 타입 힌트 (Type Hint)\n",
    "\n",
    "- **지원 버전:** Python 3.5 이상 (2015년 9월 이후)\n",
    "- **그 이전 버전:** 타입 지정 불가\n",
    "\n",
    "#### 장점\n",
    "1. **코드 가독성 향상**  \n",
    "   - 함수의 입력값과 반환값 타입을 명확히 하여 이해가 쉬워집니다.\n",
    "2. **버그 예방**  \n",
    "   - 타입 불일치로 인한 오류를 사전에 발견 가능\n",
    "3. **도구 지원**  \n",
    "   - `mypy` 등 타입 검사 도구를 활용해 정적 분석 가능\n",
    "4. **대규모 프로젝트 유지보수성 강화**  \n",
    "   - 여러 개발자가 협업할 때 타입 정보를 통해 의도 명확히 전달\n",
    "\n",
    "> **참고:** 타입 힌트를 적극적으로 사용 권장."
   ]
  }
 ],
 "metadata": {
  "kernelspec": {
   "display_name": "Python 3",
   "language": "python",
   "name": "python3"
  },
  "language_info": {
   "codemirror_mode": {
    "name": "ipython",
    "version": 3
   },
   "file_extension": ".py",
   "mimetype": "text/x-python",
   "name": "python",
   "nbconvert_exporter": "python",
   "pygments_lexer": "ipython3",
   "version": "3.11.9"
  }
 },
 "nbformat": 4,
 "nbformat_minor": 5
}
