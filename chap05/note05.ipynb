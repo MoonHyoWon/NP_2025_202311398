{
 "cells": [
  {
   "cell_type": "markdown",
   "id": "09ff8234",
   "metadata": {},
   "source": [
    "## 5단원 실습\n",
    "날  짜 : 2025.09.17.수요일 (3주차 실습) <br>\n",
    "작성자 : 문효원 <br>\n",
    "학  번 : 202311398 <br>\n",
    "*****"
   ]
  },
  {
   "cell_type": "markdown",
   "id": "242cec3a",
   "metadata": {},
   "source": [
    "## 함수\n",
    "> 이름을 붙여 반복적으로 사용할 수 있는 프로그램 부분\n",
    "\n",
    "< 함수의 사용 이유 ><br>\n",
    "•  프로그램 안에서 중복된 코드를 제거한다.<br>\n",
    "• 복잡한 프로그래밍 작업을 더 간단한 작업들로 분해할 수 있다.<br>\n",
    "• 함수는 한번 만들어지면 다른 프로그램에서도 재사용될 수 있다.<br>\n",
    "• 함수를 사용하면 가독성(프로그램의 이해)이 증대되고, 유지 관리도 쉬워진다.\n",
    "\n",
    "파이썬의 함수는 <span style=\"color:red\">일급 함수</span>이다.<br>\n",
    "일급 함수란? 함수가 다른 값과 똑같이 취급되는 것. 즉, 함수를 변수처럼 사용<br>\n",
    "• 변수에 할당: a = func<br>\n",
    "• 다른 함수의 인자로 전달 가능: func1(func)<br>\n",
    "• return 문으로 반환 가능: return func<br>"
   ]
  },
  {
   "cell_type": "code",
   "execution_count": 1,
   "id": "e0500e6a",
   "metadata": {},
   "outputs": [
    {
     "name": "stdout",
     "output_type": "stream",
     "text": [
      "Hello, John\n"
     ]
    }
   ],
   "source": [
    "# 함수 정의\n",
    "def welcome(name):\n",
    "    print(\"Hello,\", name)  # 출력만 하고 return 문 없음 → None 반환\n",
    "\n",
    "# 함수 호출\n",
    "welcome('John')  # 'John'이 매개변수로 전달됨"
   ]
  },
  {
   "cell_type": "code",
   "execution_count": 2,
   "id": "6a9c4eb8",
   "metadata": {},
   "outputs": [
    {
     "name": "stdout",
     "output_type": "stream",
     "text": [
      "Welcome to Python\n"
     ]
    }
   ],
   "source": [
    "# 함수 정의\n",
    "def prtStr(s):\n",
    "    print(\"%s\" % s)\n",
    "    return  # 반환 값 없이 함수 종료\n",
    "\n",
    "# 매개변수 정의\n",
    "s = \"Welcome to Python\"\n",
    "\n",
    "# 함수 호출\n",
    "prtStr(s)  # s를 매개변수로 전달"
   ]
  },
  {
   "cell_type": "code",
   "execution_count": 3,
   "id": "57b82f93",
   "metadata": {},
   "outputs": [
    {
     "name": "stdout",
     "output_type": "stream",
     "text": [
      "한변의 길이가 5인 정사각형의 넓이는 25\n",
      "한변의 길이가 7인 정사각형의 넓이는 49\n"
     ]
    }
   ],
   "source": [
    "# 함수 정의\n",
    "def squareArea(s):\n",
    "    area = s * s\n",
    "    return area  # area 값이 반환되고 함수 종료\n",
    "\n",
    "# 함수 호출 및 반환 값 저장\n",
    "a = squareArea(5)  # 5를 인자(argument)로 전달\n",
    "b = squareArea(7)\n",
    "\n",
    "# 결과 출력\n",
    "print(\"한변의 길이가 %d인 정사각형의 넓이는 %d\" % (5, a))\n",
    "print(\"한변의 길이가 %d인 정사각형의 넓이는 %d\" % (7, b))"
   ]
  },
  {
   "cell_type": "code",
   "execution_count": 4,
   "id": "f89f750a",
   "metadata": {},
   "outputs": [
    {
     "name": "stdout",
     "output_type": "stream",
     "text": [
      "1275\n",
      "500500\n"
     ]
    }
   ],
   "source": [
    "# 함수 정의\n",
    "def sum_n(n):  # sum은 파이썬 내장함수 이름이라 피하는 게 좋아요\n",
    "    hab = 0\n",
    "    for i in range(1, n + 1):  # 1~n까지 반복\n",
    "        hab = hab + i          # 합에 새로운 수를 더함\n",
    "    return hab                  # 반환값 = hab\n",
    "\n",
    "# 함수 호출 및 결과 저장\n",
    "a = sum_n(50)     # 1부터 50까지 합\n",
    "b = sum_n(1000)   # 1부터 1000까지 합\n",
    "\n",
    "# 결과 출력\n",
    "print(a)  # 1275\n",
    "print(b)  # 500500\n"
   ]
  },
  {
   "cell_type": "markdown",
   "id": "2933c1c1",
   "metadata": {},
   "source": [
    "> 함수와 변수 (지역변수, 전역변수)"
   ]
  },
  {
   "cell_type": "code",
   "execution_count": 7,
   "id": "ca5cff1e",
   "metadata": {},
   "outputs": [
    {
     "name": "stdout",
     "output_type": "stream",
     "text": [
      "func1()의 v = 10\n",
      "func2()의 v = 20\n"
     ]
    }
   ],
   "source": [
    "# 함수 선언부\n",
    "def func1():\n",
    "    v = 10  # 함수 func1() 안의 지역 변수, func1 내에서만 유효\n",
    "    print(\"func1()의 v = %d\" % v)\n",
    "\n",
    "def func2():\n",
    "    v = 20  # 함수 func2() 안의 지역 변수, func2 내에서만 유효\n",
    "    print(\"func2()의 v = %d\" % v)\n",
    "\n",
    "# 메인 코드 부분\n",
    "func1()\n",
    "func2()"
   ]
  },
  {
   "cell_type": "code",
   "execution_count": null,
   "id": "7612fac3",
   "metadata": {},
   "outputs": [
    {
     "name": "stdout",
     "output_type": "stream",
     "text": [
      "func1()의 v = 10\n",
      "func2()의 v = 20\n"
     ]
    }
   ],
   "source": [
    "# 함수 선언부\n",
    "def func1():\n",
    "    v = 10  # 함수 func1() 안의 지역 변수, 지역 변수가 우선 사용\n",
    "    print(\"func1()의 v = %d\" % v)\n",
    "\n",
    "def func2():\n",
    "    print(\"func2()의 v = %d\" % v)  # 함수 func2() 안에서는 전역 변수 사용\n",
    "\n",
    "# 메인 코드\n",
    "v = 20  # 전역 변수, 프로그램 내에서 유효\n",
    "\n",
    "func1()  # 지역 변수 값인 10 출력\n",
    "func2()  # 전역 변수 값인 20 출력"
   ]
  },
  {
   "cell_type": "code",
   "execution_count": 9,
   "id": "c54663fa",
   "metadata": {},
   "outputs": [
    {
     "name": "stdout",
     "output_type": "stream",
     "text": [
      "func1()의 v = 10\n",
      "func2()의 변경된 전역 v = 30\n",
      "30\n"
     ]
    }
   ],
   "source": [
    "# 함수 선언부\n",
    "def func1():\n",
    "    v = 10  # 함수 func1() 안의 지역 변수\n",
    "    print(\"func1()의 v = %d\" % v)\n",
    "\n",
    "def func2():\n",
    "    global v  # v를 전역 변수로 선언\n",
    "    v = 30\n",
    "    print(\"func2()의 변경된 전역 v = %d\" % v)\n",
    "\n",
    "# 메인 코드\n",
    "v = 20  # 함수 밖에서 정의된 전역 변수\n",
    "\n",
    "func1()  # 10 출력 (지역 변수)\n",
    "func2()  # 30 출력 (전역 변수 변경)\n",
    "print(v) # 30 출력 (전역 변수 v가 변경됨)"
   ]
  }
 ],
 "metadata": {
  "kernelspec": {
   "display_name": "Python 3",
   "language": "python",
   "name": "python3"
  },
  "language_info": {
   "codemirror_mode": {
    "name": "ipython",
    "version": 3
   },
   "file_extension": ".py",
   "mimetype": "text/x-python",
   "name": "python",
   "nbconvert_exporter": "python",
   "pygments_lexer": "ipython3",
   "version": "3.11.9"
  }
 },
 "nbformat": 4,
 "nbformat_minor": 5
}
