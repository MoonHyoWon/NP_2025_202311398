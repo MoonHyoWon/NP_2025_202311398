{
 "cells": [
  {
   "cell_type": "markdown",
   "id": "54dc93f4",
   "metadata": {},
   "source": [
    "## 5단원 연습문제\n",
    "날  짜 : 2025.09.17.수요일 (3주차 실습) <br>\n",
    "작성자 : 문효원 <br>\n",
    "학  번 : 202311398 <br>\n",
    "*****"
   ]
  },
  {
   "cell_type": "markdown",
   "id": "fcdbb0a1",
   "metadata": {},
   "source": [
    "### 1. 두 개의 매개변수 n, m을 전달받아 m x n개의 * 상자를 출력하는 프로그램을 함수로 작성"
   ]
  },
  {
   "cell_type": "code",
   "execution_count": null,
   "id": "225fec36",
   "metadata": {},
   "outputs": [
    {
     "name": "stdout",
     "output_type": "stream",
     "text": [
      "****\n",
      "****\n"
     ]
    }
   ],
   "source": [
    "def print_stars(n, m):\n",
    "    # n: 행 개수\n",
    "    # m: 열 개수\n",
    "    for i in range(n):       # 행 반복\n",
    "        print('*' * m)       # 한 줄에 '*' m개 출력\n",
    "\n",
    "# 예시 호출\n",
    "print_stars(2, 4)  # 2행 4열"
   ]
  },
  {
   "cell_type": "markdown",
   "id": "cae953c5",
   "metadata": {},
   "source": [
    "### 2. 하나의 숫자를 전달받아 숫자의 자리 합을 구하는 함수를 작성"
   ]
  },
  {
   "cell_type": "code",
   "execution_count": null,
   "id": "ec2f0498",
   "metadata": {},
   "outputs": [
    {
     "name": "stdout",
     "output_type": "stream",
     "text": [
      "15\n",
      "24\n"
     ]
    }
   ],
   "source": [
    "def digit_sum(num):\n",
    "    # num: 정수\n",
    "    # return: 숫자의 자리 합\n",
    "    sum = 0\n",
    "    for digit in str(num):   # 숫자를 문자열로 변환 후 한 자리씩 반복\n",
    "        sum += int(digit)    # 각 자리를 정수로 변환하여 합산\n",
    "    return sum\n",
    "\n",
    "# 호출 예시\n",
    "print(digit_sum(12345))  # 1+2+3+4+5 = 15\n",
    "print(digit_sum(987))    # 9+8+7 = 24"
   ]
  },
  {
   "cell_type": "markdown",
   "id": "b62c9409",
   "metadata": {},
   "source": [
    "### 3. 두 개의 문자열이 서로 다른 처음 위치를 반환하는 함수를 작성. 두 개의 문자열이 같으면 -1을 반환"
   ]
  },
  {
   "cell_type": "code",
   "execution_count": null,
   "id": "51578ca6",
   "metadata": {},
   "outputs": [
    {
     "name": "stdout",
     "output_type": "stream",
     "text": [
      "2\n",
      "-1\n",
      "3\n"
     ]
    }
   ],
   "source": [
    "def first_diff(str1, str2):\n",
    "    # 두 문자열 str1, str2를 비교하여 처음 다른 위치를 반환\n",
    "    # 두 문자열이 같으면 -1 반환\n",
    "    min_len = min(len(str1), len(str2))  # 두 문자열 중 짧은 길이\n",
    "    for i in range(min_len):\n",
    "        if str1[i] != str2[i]:           # 처음 다른 위치 발견\n",
    "            return i\n",
    "    # 길이가 다른 경우 남은 부분이 다르면 그 위치 반환\n",
    "    if len(str1) != len(str2):\n",
    "        return min_len\n",
    "    return -1                             # 완전히 같으면 -1\n",
    "\n",
    "# 예시 호출\n",
    "print(first_diff(\"hello\", \"healo\"))  # 2번째 인덱스에서 다름\n",
    "print(first_diff(\"test\", \"test\"))    # 같음 → -1\n",
    "print(first_diff(\"abc\", \"abcd\"))     # 길이가 다름 → 3번째 인덱스"
   ]
  },
  {
   "cell_type": "markdown",
   "id": "1278ebc9",
   "metadata": {},
   "source": [
    "### 4. 숫자를 전달받아 그 수의 약수를 리스트로 반환하는 함수를 작성"
   ]
  },
  {
   "cell_type": "code",
   "execution_count": null,
   "id": "492cf69b",
   "metadata": {},
   "outputs": [
    {
     "name": "stdout",
     "output_type": "stream",
     "text": [
      "[1, 2, 3, 4, 6, 12]\n",
      "[1, 7]\n"
     ]
    }
   ],
   "source": [
    "def divisors(n):\n",
    "    # n: 정수\n",
    "    # return: n의 약수를 담은 리스트\n",
    "    result = []\n",
    "    for i in range(1, n + 1):\n",
    "        if n % i == 0:       # i가 n의 약수이면\n",
    "            result.append(i)\n",
    "    return result\n",
    "\n",
    "# 호출 예시\n",
    "print(divisors(12))  # [1, 2, 3, 4, 6, 12]\n",
    "print(divisors(7))   # [1, 7]"
   ]
  },
  {
   "cell_type": "markdown",
   "id": "ab3d5ad9",
   "metadata": {},
   "source": [
    "### 5. 문자열과 하나의 문자를 전달받아 문자열에서 문자의 위치를 모두 찾아 리스트로 반환하는 함수를 작성"
   ]
  },
  {
   "cell_type": "code",
   "execution_count": null,
   "id": "c2fb8f9b",
   "metadata": {},
   "outputs": [
    {
     "name": "stdout",
     "output_type": "stream",
     "text": [
      "[1, 3, 5]\n",
      "[2, 3, 9]\n",
      "[]\n"
     ]
    }
   ],
   "source": [
    "def find_all_char_positions(text, char):\n",
    "    # text: 문자열\n",
    "    # char: 찾고 싶은 문자\n",
    "    # return: 문자열에서 문자의 위치를 모두 담은 리스트\n",
    "    positions = []\n",
    "    for i in range(len(text)):\n",
    "        if text[i] == char:\n",
    "            positions.append(i)\n",
    "    return positions\n",
    "\n",
    "# 호출 예시\n",
    "print(find_all_char_positions(\"banana\", \"a\"))  # [1, 3, 5]\n",
    "print(find_all_char_positions(\"hello world\", \"l\"))  # [2, 3, 9]\n",
    "print(find_all_char_positions(\"python\", \"z\"))  # []"
   ]
  },
  {
   "cell_type": "markdown",
   "id": "36e41cca",
   "metadata": {},
   "source": [
    "### 6. 재귀 함수를 이용하여 1부터 100까지의 합을 계산하는 프로그램"
   ]
  },
  {
   "cell_type": "code",
   "execution_count": null,
   "id": "3f8dbc35",
   "metadata": {},
   "outputs": [
    {
     "name": "stdout",
     "output_type": "stream",
     "text": [
      "5050\n"
     ]
    }
   ],
   "source": [
    "def recursive_sum(n):\n",
    "    # n: 합을 구할 마지막 숫자\n",
    "    # return: 1부터 n까지의 합\n",
    "    if n == 1:          # 재귀 종료 조건\n",
    "        return 1\n",
    "    else:\n",
    "        return n + recursive_sum(n - 1)  # n + (n-1까지 합)\n",
    "\n",
    "# 1부터 100까지 합 계산\n",
    "print(recursive_sum(100))"
   ]
  }
 ],
 "metadata": {
  "kernelspec": {
   "display_name": "Python 3",
   "language": "python",
   "name": "python3"
  },
  "language_info": {
   "codemirror_mode": {
    "name": "ipython",
    "version": 3
   },
   "file_extension": ".py",
   "mimetype": "text/x-python",
   "name": "python",
   "nbconvert_exporter": "python",
   "pygments_lexer": "ipython3",
   "version": "3.11.9"
  }
 },
 "nbformat": 4,
 "nbformat_minor": 5
}
