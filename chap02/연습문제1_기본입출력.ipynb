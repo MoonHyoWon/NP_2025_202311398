{
 "cells": [
  {
   "cell_type": "markdown",
   "id": "38661e7c",
   "metadata": {},
   "source": [
    "## 2단원 연습문제1\n",
    "날  짜 : 2025.09.10.수요일 (2주차 실습) <br>\n",
    "작성자 : 문효원 <br>\n",
    "학  번 : 202311398 <br>\n",
    "*****"
   ]
  },
  {
   "cell_type": "markdown",
   "id": "f5203878",
   "metadata": {
    "vscode": {
     "languageId": "plaintext"
    }
   },
   "source": [
    "1. 키보드에서 임의의 두 실수를 입력 받아 곱한 후 그 결과를 출력하는 프로그램을 작성하고 실행 하라"
   ]
  },
  {
   "cell_type": "code",
   "execution_count": 1,
   "id": "c329a107",
   "metadata": {},
   "outputs": [
    {
     "name": "stdout",
     "output_type": "stream",
     "text": [
      "3.0\n"
     ]
    }
   ],
   "source": [
    "float1 = float(input(\"실수1을 입력하시오 : \"))\n",
    "float2 = float(input(\"실수2을 입력하시오 : \"))\n",
    "\n",
    "print(float1 * float2)"
   ]
  },
  {
   "cell_type": "markdown",
   "id": "8e0d6ce5",
   "metadata": {},
   "source": [
    "2. 1마일은 1.609km이다. 키보드에서 마일(정수)을 입력 받아 km로 변환해 출력하는 프로그램을 작성하고 실행하라"
   ]
  },
  {
   "cell_type": "code",
   "execution_count": 2,
   "id": "e4987555",
   "metadata": {},
   "outputs": [
    {
     "name": "stdout",
     "output_type": "stream",
     "text": [
      "38.616\n"
     ]
    }
   ],
   "source": [
    "mile = int(input(\"마일(정수)을 입력하시오 : \"))\n",
    "print(mile * 1.609)"
   ]
  },
  {
   "cell_type": "markdown",
   "id": "4f07a7d8",
   "metadata": {},
   "source": [
    "3. 원의 반지름을 입력 받아 원의 둘레와 원의 면적을 출력하는 프로그램을 작성하라"
   ]
  },
  {
   "cell_type": "code",
   "execution_count": 3,
   "id": "bf7da964",
   "metadata": {},
   "outputs": [
    {
     "name": "stdout",
     "output_type": "stream",
     "text": [
      "원의 둘레 :  18.84\n",
      "원의 넓이 :  28.26\n"
     ]
    }
   ],
   "source": [
    "r = int(input(\"원의 반지름을 입력하시오 : \"))\n",
    "\n",
    "print(\"원의 둘레 : \", float(r * 2 * 3.14))\n",
    "print(\"원의 넓이 : \", float(r * r * 3.14))"
   ]
  }
 ],
 "metadata": {
  "kernelspec": {
   "display_name": "Python 3",
   "language": "python",
   "name": "python3"
  },
  "language_info": {
   "codemirror_mode": {
    "name": "ipython",
    "version": 3
   },
   "file_extension": ".py",
   "mimetype": "text/x-python",
   "name": "python",
   "nbconvert_exporter": "python",
   "pygments_lexer": "ipython3",
   "version": "3.11.9"
  }
 },
 "nbformat": 4,
 "nbformat_minor": 5
}
