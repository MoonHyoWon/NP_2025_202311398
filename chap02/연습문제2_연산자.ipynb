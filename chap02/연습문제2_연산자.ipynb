{
 "cells": [
  {
   "cell_type": "markdown",
   "id": "5b91c272",
   "metadata": {},
   "source": [
    "## 2단원 연습문제2\n",
    "날  짜 : 2025.09.10.수요일 (2주차 실습) <br>\n",
    "작성자 : 문효원 <br>\n",
    "학  번 : 202311398 <br>\n",
    "*****"
   ]
  },
  {
   "cell_type": "markdown",
   "id": "09f6c225",
   "metadata": {},
   "source": [
    "> 산술 및 관계 연산자"
   ]
  },
  {
   "cell_type": "markdown",
   "id": "438eadc9",
   "metadata": {},
   "source": [
    "1. 5와 3을 더한 값을 출력하는 프로그램을 작성하라."
   ]
  },
  {
   "cell_type": "code",
   "execution_count": 1,
   "id": "ee40cc4a",
   "metadata": {},
   "outputs": [
    {
     "name": "stdout",
     "output_type": "stream",
     "text": [
      "8\n"
     ]
    }
   ],
   "source": [
    "print(5+3)"
   ]
  },
  {
   "cell_type": "markdown",
   "id": "17955e54",
   "metadata": {},
   "source": [
    "2. 7에서 3을 뺀 값을 출력하는 프로그램을 작성하라."
   ]
  },
  {
   "cell_type": "code",
   "execution_count": 2,
   "id": "4b4ed668",
   "metadata": {},
   "outputs": [
    {
     "name": "stdout",
     "output_type": "stream",
     "text": [
      "4\n"
     ]
    }
   ],
   "source": [
    "print(7-3)"
   ]
  },
  {
   "cell_type": "markdown",
   "id": "e4209bc4",
   "metadata": {},
   "source": [
    "3. 4를 2로 나눈 값을 출력하는 프로그램을 작성하라."
   ]
  },
  {
   "cell_type": "code",
   "execution_count": 3,
   "id": "f5458594",
   "metadata": {},
   "outputs": [
    {
     "name": "stdout",
     "output_type": "stream",
     "text": [
      "2.0\n"
     ]
    }
   ],
   "source": [
    "print(4/2)"
   ]
  },
  {
   "cell_type": "markdown",
   "id": "29b55188",
   "metadata": {},
   "source": [
    "4. 8을 3으로 나눈 몫과 나머지를 출력하는 프로그램을 작성하라."
   ]
  },
  {
   "cell_type": "code",
   "execution_count": 5,
   "id": "0aa2d488",
   "metadata": {},
   "outputs": [
    {
     "name": "stdout",
     "output_type": "stream",
     "text": [
      "2\n",
      "2\n"
     ]
    }
   ],
   "source": [
    "print(8//3)\n",
    "print(8%3)"
   ]
  },
  {
   "cell_type": "markdown",
   "id": "dca470ba",
   "metadata": {},
   "source": [
    "5. 2의 5제곱을 출력하는 프로그램을 작성하라."
   ]
  },
  {
   "cell_type": "code",
   "execution_count": 6,
   "id": "e3ee6027",
   "metadata": {},
   "outputs": [
    {
     "name": "stdout",
     "output_type": "stream",
     "text": [
      "32\n"
     ]
    }
   ],
   "source": [
    "print(2 ** 5)"
   ]
  },
  {
   "cell_type": "markdown",
   "id": "50b48cd1",
   "metadata": {},
   "source": [
    "6. 입력된 정수가 10보다 크고 20보다 작은지 검사하는 프로그램을 작성하라."
   ]
  },
  {
   "cell_type": "code",
   "execution_count": 7,
   "id": "0dec9c3d",
   "metadata": {},
   "outputs": [
    {
     "name": "stdout",
     "output_type": "stream",
     "text": [
      "True\n"
     ]
    }
   ],
   "source": [
    "score = int(input(\"정수를 입력하시오 : \"))\n",
    "print(score > 10 and score < 20)"
   ]
  },
  {
   "cell_type": "markdown",
   "id": "6c36e636",
   "metadata": {},
   "source": [
    "7. 문자열 \"hello\"와 문자열 \"world\"를 이어 붙인 결과를 출력하는 프로그램을 작성하라."
   ]
  },
  {
   "cell_type": "code",
   "execution_count": 14,
   "id": "0d2a204b",
   "metadata": {},
   "outputs": [
    {
     "name": "stdout",
     "output_type": "stream",
     "text": [
      "hello world\n"
     ]
    }
   ],
   "source": [
    "hello = 'hello'\n",
    "world = 'world'\n",
    "\n",
    "print(f\"{hello} {world}\")"
   ]
  },
  {
   "cell_type": "markdown",
   "id": "d345622c",
   "metadata": {},
   "source": [
    "8. 7을 2로 나눈 결과가 3보다 작은지 검사하는 프로그램을 작성하라."
   ]
  },
  {
   "cell_type": "code",
   "execution_count": 15,
   "id": "03e53fa5",
   "metadata": {},
   "outputs": [
    {
     "name": "stdout",
     "output_type": "stream",
     "text": [
      "False\n"
     ]
    }
   ],
   "source": [
    "print((7/2)<3)"
   ]
  },
  {
   "cell_type": "markdown",
   "id": "01406bfd",
   "metadata": {},
   "source": [
    "9. 변수 x의 값이 5와 같지 않은지 검사하는 프로그램을 작성하라."
   ]
  },
  {
   "cell_type": "code",
   "execution_count": 17,
   "id": "743f82f4",
   "metadata": {},
   "outputs": [
    {
     "name": "stdout",
     "output_type": "stream",
     "text": [
      "True\n"
     ]
    }
   ],
   "source": [
    "x = 6\n",
    "print(x != 5)"
   ]
  },
  {
   "cell_type": "markdown",
   "id": "00cedc2c",
   "metadata": {},
   "source": [
    "10. 변수 y의 값이 10에서 20 사이의 값인지 검사하는 프로그램을 작성하라"
   ]
  },
  {
   "cell_type": "code",
   "execution_count": 18,
   "id": "5094204d",
   "metadata": {},
   "outputs": [
    {
     "name": "stdout",
     "output_type": "stream",
     "text": [
      "True\n"
     ]
    }
   ],
   "source": [
    "y = 17\n",
    "print(y > 10 and y < 20)"
   ]
  },
  {
   "cell_type": "markdown",
   "id": "b1de7e87",
   "metadata": {},
   "source": [
    "> 논리 연산자"
   ]
  },
  {
   "cell_type": "markdown",
   "id": "92bdf95c",
   "metadata": {},
   "source": [
    "1. 5가 3보다 크고 7보다 작은지 검사하는 프로그램을 작성하라."
   ]
  },
  {
   "cell_type": "code",
   "execution_count": 19,
   "id": "8f51f0f4",
   "metadata": {},
   "outputs": [
    {
     "name": "stdout",
     "output_type": "stream",
     "text": [
      "True\n"
     ]
    }
   ],
   "source": [
    "print(3 < 5 and 5 < 7)"
   ]
  },
  {
   "cell_type": "markdown",
   "id": "d3d0dca6",
   "metadata": {},
   "source": [
    "2. 변수 x가 10 이상이고 20 이하인지 검사하는 프로그램을 작성하라."
   ]
  },
  {
   "cell_type": "code",
   "execution_count": 20,
   "id": "9386f01b",
   "metadata": {},
   "outputs": [
    {
     "name": "stdout",
     "output_type": "stream",
     "text": [
      "True\n"
     ]
    }
   ],
   "source": [
    "x = 15\n",
    "print(x >= 10 and x <= 20)"
   ]
  },
  {
   "cell_type": "markdown",
   "id": "686cf5ad",
   "metadata": {},
   "source": [
    "3. 변수 y가 5의 배수이거나 7의 배수인지 검사하는 프로그램을 작성하라."
   ]
  },
  {
   "cell_type": "code",
   "execution_count": 21,
   "id": "27f0f868",
   "metadata": {},
   "outputs": [
    {
     "name": "stdout",
     "output_type": "stream",
     "text": [
      "True\n"
     ]
    }
   ],
   "source": [
    "y = 25\n",
    "print(y%5==0 or y%7==0)"
   ]
  },
  {
   "cell_type": "markdown",
   "id": "b5ff6d39",
   "metadata": {},
   "source": [
    "4. 변수 z가 양수이면서 짝수인지 검사하는 프로그램을 작성하라."
   ]
  },
  {
   "cell_type": "code",
   "execution_count": 22,
   "id": "4dc08cb2",
   "metadata": {},
   "outputs": [
    {
     "name": "stdout",
     "output_type": "stream",
     "text": [
      "False\n"
     ]
    }
   ],
   "source": [
    "z = 25\n",
    "print(z>0 and z%2==0)"
   ]
  },
  {
   "cell_type": "markdown",
   "id": "78e8cf2a",
   "metadata": {},
   "source": [
    "5. 변수 a가 문자열 \"hello\"나 문자열 \"world\" 중 하나인지 검사하는 프로그램을 작성하라."
   ]
  },
  {
   "cell_type": "code",
   "execution_count": 24,
   "id": "9651d16e",
   "metadata": {},
   "outputs": [
    {
     "name": "stdout",
     "output_type": "stream",
     "text": [
      "False\n"
     ]
    }
   ],
   "source": [
    "a = \"hell\"\n",
    "print(a == \"hello\" or a == \"wordl\")"
   ]
  },
  {
   "cell_type": "markdown",
   "id": "eb8ecd29",
   "metadata": {},
   "source": [
    "> 멤버 연산자"
   ]
  },
  {
   "cell_type": "markdown",
   "id": "60b77910",
   "metadata": {},
   "source": [
    "1. 숫자 7이 리스트 [1, 2, 3, 4, 5]에 포함되어 있는지 검사하는 프로그램을 작성하라."
   ]
  },
  {
   "cell_type": "code",
   "execution_count": 26,
   "id": "4a00af61",
   "metadata": {},
   "outputs": [
    {
     "name": "stdout",
     "output_type": "stream",
     "text": [
      "False\n",
      "False\n",
      "False\n",
      "False\n",
      "False\n"
     ]
    }
   ],
   "source": [
    "lis = [1, 2, 3, 4, 5]\n",
    "\n",
    "for i in lis:\n",
    "    print(i == 7)"
   ]
  },
  {
   "cell_type": "markdown",
   "id": "244fedf9",
   "metadata": {},
   "source": [
    "2. 문자열 \"apple\"이 세트 {\"orange\", \"banana\", \"kiwi\"}에 포함되어 있는지 검사하는 프로그램을 작성하라."
   ]
  },
  {
   "cell_type": "code",
   "execution_count": 4,
   "id": "dc922689",
   "metadata": {},
   "outputs": [
    {
     "name": "stdout",
     "output_type": "stream",
     "text": [
      "apple이 집합에 있지 않습니다.\n"
     ]
    }
   ],
   "source": [
    "fruits = {\"orange\", \"banana\", \"kiwi\"}\n",
    "\n",
    "if \"apple\" in fruits:\n",
    "    print(\"apple이 집합에 있습니다.\")\n",
    "else:\n",
    "    print(\"apple이 집합에 있지 않습니다.\")"
   ]
  },
  {
   "cell_type": "markdown",
   "id": "0ee68331",
   "metadata": {},
   "source": [
    "3. 숫자 6이 딕셔너리 {\"a\": 1, \"b\": 2, \"c\": 3, \"d\": 4}의 값들 중 하나인지 검사하는 프로그램을 작성하라."
   ]
  },
  {
   "cell_type": "code",
   "execution_count": 2,
   "id": "868d9e2c",
   "metadata": {},
   "outputs": [
    {
     "name": "stdout",
     "output_type": "stream",
     "text": [
      "6이 딕셔너리 값에 포함되어 있지 않습니다.\n"
     ]
    }
   ],
   "source": [
    "data = {\"a\": 1, \"b\": 2, \"c\": 3, \"d\": 4}\n",
    "\n",
    "if 6 in data.values():\n",
    "    print(\"6이 딕셔너리 값에 포함되어 있습니다.\")\n",
    "else:\n",
    "    print(\"6이 딕셔너리 값에 포함되어 있지 않습니다.\")"
   ]
  },
  {
   "cell_type": "markdown",
   "id": "2e432668",
   "metadata": {},
   "source": [
    "4. 문자열 \"cat\"이 튜플 (\"dog\", \"cat\", \"bird\", \"hamster\")에 포함되어 있는지 검사하는 프로그램을 작성하라."
   ]
  },
  {
   "cell_type": "code",
   "execution_count": 3,
   "id": "3b162ec3",
   "metadata": {},
   "outputs": [
    {
     "name": "stdout",
     "output_type": "stream",
     "text": [
      "cat이 튜플에 포함되어 있습니다.\n"
     ]
    }
   ],
   "source": [
    "animals = (\"dog\", \"cat\", \"bird\", \"hamster\")\n",
    "\n",
    "if \"cat\" in animals:\n",
    "    print(\"cat이 튜플에 포함되어 있습니다.\")\n",
    "else:\n",
    "    print(\"cat이 튜플에 포함되어 있지 않습니다.\")"
   ]
  },
  {
   "cell_type": "markdown",
   "id": "5997193a",
   "metadata": {},
   "source": [
    "5. 숫자 10이 세트 {2, 4, 6, 8, 10}에 포함되어 있는지 검사하는 프로그램을 작성하라."
   ]
  },
  {
   "cell_type": "code",
   "execution_count": 5,
   "id": "c9d00c1c",
   "metadata": {},
   "outputs": [
    {
     "name": "stdout",
     "output_type": "stream",
     "text": [
      "10이 세트에 포함되어 있습니다.\n"
     ]
    }
   ],
   "source": [
    "numbers = {2, 4, 6, 8, 10}\n",
    "\n",
    "if 10 in numbers:\n",
    "    print(\"10이 세트에 포함되어 있습니다.\")\n",
    "else:\n",
    "    print(\"10이 세트에 포함되어 있지 않습니다.\")"
   ]
  },
  {
   "cell_type": "markdown",
   "id": "4636f195",
   "metadata": {},
   "source": [
    "> 연습문제 2"
   ]
  },
  {
   "cell_type": "markdown",
   "id": "0565643e",
   "metadata": {},
   "source": [
    "1. 초를 입력하면 분과 초로 표시하는 프로그램. 예를 들어, 200초를 입력하면 3분 20초로 표현하라."
   ]
  },
  {
   "cell_type": "code",
   "execution_count": 7,
   "id": "1bfad417",
   "metadata": {},
   "outputs": [
    {
     "name": "stdout",
     "output_type": "stream",
     "text": [
      "7분 19초\n"
     ]
    }
   ],
   "source": [
    "seconds = int(input(\"초를 입력하세요: \"))\n",
    "\n",
    "minutes = seconds // 60\n",
    "remain_seconds = seconds % 60\n",
    "\n",
    "print(f\"{minutes}분 {remain_seconds}초\")"
   ]
  },
  {
   "cell_type": "markdown",
   "id": "c2a838bc",
   "metadata": {},
   "source": [
    "2. 분(min)을 입력 하면, 일, 시간, 분으로 출력하는 프로그램을 만들어라. (예 : 1550분은 1일 1 시간 50분)"
   ]
  },
  {
   "cell_type": "code",
   "execution_count": 8,
   "id": "9f1de743",
   "metadata": {},
   "outputs": [
    {
     "name": "stdout",
     "output_type": "stream",
     "text": [
      "3일 0시간 33분\n"
     ]
    }
   ],
   "source": [
    "minutes = int(input(\"분(minute)을 입력하세요: \"))\n",
    "\n",
    "days = minutes // (24 * 60)          # 하루는 1440분\n",
    "hours = (minutes % (24 * 60)) // 60  # 남은 분에서 시간 계산\n",
    "remain_minutes = minutes % 60        # 남은 분\n",
    "\n",
    "print(f\"{days}일 {hours}시간 {remain_minutes}분\")"
   ]
  },
  {
   "cell_type": "markdown",
   "id": "99658e8a",
   "metadata": {},
   "source": [
    "3. 500만원을 년이율 5%로 복리 저금했을 때 5년 후의 원리금의 합계를 출력하는 프로그램"
   ]
  },
  {
   "cell_type": "code",
   "execution_count": 9,
   "id": "3bf4ad90",
   "metadata": {},
   "outputs": [
    {
     "name": "stdout",
     "output_type": "stream",
     "text": [
      "5년 후 원리금 합계: 6381407원\n"
     ]
    }
   ],
   "source": [
    "principal = 5000000   # 원금 (500만원)\n",
    "rate = 0.05           # 연이율 5%\n",
    "years = 5             # 기간 5년\n",
    "\n",
    "amount = principal * ((1 + rate) ** years)\n",
    "\n",
    "print(f\"{years}년 후 원리금 합계: {int(amount)}원\")"
   ]
  },
  {
   "cell_type": "markdown",
   "id": "2325f150",
   "metadata": {},
   "source": [
    "4. 1부터 n까지의 합은 n(n+1)/2로 주어진다. 1부터 100까지의 합을 구하여 출력하는 프로그램을 작성하고 실행하라."
   ]
  },
  {
   "cell_type": "code",
   "execution_count": 10,
   "id": "7ed25a79",
   "metadata": {},
   "outputs": [
    {
     "name": "stdout",
     "output_type": "stream",
     "text": [
      "1부터 100까지의 합은 5050입니다.\n"
     ]
    }
   ],
   "source": [
    "n = 100\n",
    "total = n * (n + 1) // 2\n",
    "print(f\"1부터 {n}까지의 합은 {total}입니다.\")"
   ]
  },
  {
   "cell_type": "markdown",
   "id": "82005803",
   "metadata": {},
   "source": [
    "5. 판매자가 딸기와 포도를 판매하고 있다. 포도 한 알의 무게는 75g이고 딸기 한 알의 무게는 113.5g이다. 사용자로부터 포도 알의 개수와 딸기의 개수를 입력 받아 총 무게를 계산하여 출력 하는 프로그램을 작성하고 실행하라."
   ]
  },
  {
   "cell_type": "code",
   "execution_count": null,
   "id": "b21e6070",
   "metadata": {},
   "outputs": [
    {
     "name": "stdout",
     "output_type": "stream",
     "text": [
      "총 무게는 1840.5g 입니다.\n"
     ]
    }
   ],
   "source": [
    "# 포도와 딸기 무게 (단위: g)\n",
    "grape_weight = 75\n",
    "strawberry_weight = 113.5\n",
    "\n",
    "grapes = int(input(\"포도 알의 개수를 입력하세요: \"))\n",
    "strawberries = int(input(\"딸기의 개수를 입력하세요: \"))\n",
    "\n",
    "total_weight = grapes * grape_weight + strawberries * strawberry_weight\n",
    "\n",
    "print(f\"총 무게는 {total_weight}g 입니다.\")"
   ]
  }
 ],
 "metadata": {
  "kernelspec": {
   "display_name": "Python 3",
   "language": "python",
   "name": "python3"
  },
  "language_info": {
   "codemirror_mode": {
    "name": "ipython",
    "version": 3
   },
   "file_extension": ".py",
   "mimetype": "text/x-python",
   "name": "python",
   "nbconvert_exporter": "python",
   "pygments_lexer": "ipython3",
   "version": "3.11.9"
  }
 },
 "nbformat": 4,
 "nbformat_minor": 5
}
