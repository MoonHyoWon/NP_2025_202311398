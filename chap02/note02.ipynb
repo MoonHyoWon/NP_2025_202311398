{
 "cells": [
  {
   "cell_type": "markdown",
   "id": "4e7a6652",
   "metadata": {},
   "source": [
    "## 2단원 실습\n",
    "날  짜 : 2025.09.10.수요일 (2주차 실습) <br>\n",
    "작성자 : 문효원 <br>\n",
    "학  번 : 202311398 <br>\n",
    "*****"
   ]
  },
  {
   "cell_type": "markdown",
   "id": "f9794bc0",
   "metadata": {},
   "source": [
    "### 기본 입출력\n",
    "> 1. print() 함수"
   ]
  },
  {
   "cell_type": "code",
   "execution_count": 1,
   "id": "113a7de1",
   "metadata": {},
   "outputs": [
    {
     "name": "stdout",
     "output_type": "stream",
     "text": [
      "30\n"
     ]
    }
   ],
   "source": [
    "print(10 + 20)"
   ]
  },
  {
   "cell_type": "code",
   "execution_count": 2,
   "id": "bd4827f1",
   "metadata": {},
   "outputs": [
    {
     "name": "stdout",
     "output_type": "stream",
     "text": [
      "동양 미래 대학교\n"
     ]
    }
   ],
   "source": [
    "print(\"동양 미래 대학교\")"
   ]
  },
  {
   "cell_type": "code",
   "execution_count": 5,
   "id": "33a4e808",
   "metadata": {},
   "outputs": [
    {
     "name": "stdout",
     "output_type": "stream",
     "text": [
      "abc abc abc \n"
     ]
    }
   ],
   "source": [
    "print(\"abc \" * 3)"
   ]
  },
  {
   "cell_type": "code",
   "execution_count": 6,
   "id": "94869d84",
   "metadata": {},
   "outputs": [
    {
     "name": "stdout",
     "output_type": "stream",
     "text": [
      "25 32\n",
      "25 + 32 = 57\n"
     ]
    }
   ],
   "source": [
    "x = 25\n",
    "y = 32\n",
    "z = x + y\n",
    "print(x, y)\n",
    "print(x, '+', y, '=', z)"
   ]
  },
  {
   "cell_type": "markdown",
   "id": "2610a88a",
   "metadata": {},
   "source": [
    "> * print() 함수 - `서식 지정`"
   ]
  },
  {
   "cell_type": "code",
   "execution_count": 8,
   "id": "2e4075ab",
   "metadata": {},
   "outputs": [
    {
     "name": "stdout",
     "output_type": "stream",
     "text": [
      "n = 10\n",
      "m = 5.2, n = 10\n"
     ]
    }
   ],
   "source": [
    "n = 10\n",
    "print(\"n = %d\" % n)\n",
    "\n",
    "m = 5.2\n",
    "print(\"m = %.1f, n = %d\" % (m, n))"
   ]
  },
  {
   "cell_type": "markdown",
   "id": "9336688e",
   "metadata": {},
   "source": [
    "> 2. input() 함수"
   ]
  },
  {
   "cell_type": "code",
   "execution_count": 13,
   "id": "d0d6ed35",
   "metadata": {},
   "outputs": [
    {
     "name": "stdout",
     "output_type": "stream",
     "text": [
      "3\n",
      "3\n",
      "3.0\n",
      "3\n"
     ]
    }
   ],
   "source": [
    "n = input('type a number : ')\n",
    "print(n)\n",
    "\n",
    "n = int(n)\n",
    "print(n)\n",
    "\n",
    "n = float(n)\n",
    "print(n)\n",
    "\n",
    "n = str(3)\n",
    "print(n)"
   ]
  },
  {
   "cell_type": "markdown",
   "id": "6a919419",
   "metadata": {},
   "source": [
    "> * 입출력 함수의 사용 예"
   ]
  },
  {
   "cell_type": "code",
   "execution_count": 1,
   "id": "76abade6",
   "metadata": {},
   "outputs": [
    {
     "name": "stdout",
     "output_type": "stream",
     "text": [
      "Hello, 문효원\n"
     ]
    }
   ],
   "source": [
    "name = input('Name : ')\n",
    "print(\"Hello, \"+ name)"
   ]
  },
  {
   "cell_type": "code",
   "execution_count": 2,
   "id": "f719dfdf",
   "metadata": {},
   "outputs": [
    {
     "name": "stdout",
     "output_type": "stream",
     "text": [
      "6\n"
     ]
    }
   ],
   "source": [
    "a = int(input('Number 1: '))\n",
    "b = int(input('Number 2: '))\n",
    "print(a * b)"
   ]
  },
  {
   "cell_type": "code",
   "execution_count": 4,
   "id": "72567167",
   "metadata": {},
   "outputs": [
    {
     "name": "stdout",
     "output_type": "stream",
     "text": [
      "화씨온도는 78.8\n"
     ]
    }
   ],
   "source": [
    "C = float(input(\"Type 섭씨온도 : \"))\n",
    "F = C*9/5 + 32 #온도 변환\n",
    "print(\"화씨온도는\", F)"
   ]
  },
  {
   "cell_type": "markdown",
   "id": "16561fa8",
   "metadata": {},
   "source": [
    "### 기본 자료형\n",
    "> 1. 부울형(Boolean)"
   ]
  },
  {
   "cell_type": "code",
   "execution_count": 6,
   "id": "8bdc9f18",
   "metadata": {},
   "outputs": [
    {
     "name": "stdout",
     "output_type": "stream",
     "text": [
      "<class 'bool'>\n",
      "<class 'bool'>\n"
     ]
    }
   ],
   "source": [
    "aVar = True\n",
    "bVar = False\n",
    "print(type(aVar))\n",
    "print(type(bVar))"
   ]
  },
  {
   "cell_type": "code",
   "execution_count": 7,
   "id": "46e37495",
   "metadata": {},
   "outputs": [
    {
     "name": "stdout",
     "output_type": "stream",
     "text": [
      "False\n",
      "True\n"
     ]
    }
   ],
   "source": [
    "a = 1\n",
    "b = 2\n",
    "c = a > b\n",
    "print(c)\n",
    "\n",
    "d = a < b\n",
    "print(d)"
   ]
  },
  {
   "cell_type": "markdown",
   "id": "63551dd7",
   "metadata": {},
   "source": [
    "> 2. 정수형(integer)"
   ]
  },
  {
   "cell_type": "code",
   "execution_count": 8,
   "id": "9c0bad38",
   "metadata": {},
   "outputs": [
    {
     "name": "stdout",
     "output_type": "stream",
     "text": [
      "<class 'int'>\n"
     ]
    }
   ],
   "source": [
    "intVar = 5\n",
    "print(type(intVar))"
   ]
  },
  {
   "cell_type": "markdown",
   "id": "e82fc78f",
   "metadata": {},
   "source": [
    "<여러 가지 정수 표현> <br>\n",
    "1, 23, 3493&nbsp;&nbsp;&nbsp;&nbsp;&nbsp;&nbsp;&nbsp;&nbsp;&nbsp;&nbsp;&nbsp;&nbsp;&nbsp;&nbsp;&nbsp;&nbsp;&nbsp;&nbsp;&nbsp;&nbsp;<span style=\"color:green\"># 10진수</span> <br>\n",
    "<span style=\"color:red\">**0b**</span>010101, 0b110010 &nbsp;&nbsp;<span style=\"color:green\"># 2진수</span> <br>\n",
    "<span style=\"color:red\">**0o**</span>1, 0o27, 0o6645 &nbsp;&nbsp;&nbsp;&nbsp;&nbsp;&nbsp;<span style=\"color:green\"># 8진수</span> <br>\n",
    "<span style=\"color:red\">**0x**</span>1, 0x17, 0xDA5 &nbsp;&nbsp;&nbsp;&nbsp;&nbsp;&nbsp;&nbsp;&nbsp;<span style=\"color:green\"># 16진수</span>"
   ]
  },
  {
   "cell_type": "markdown",
   "id": "d5ab80e1",
   "metadata": {},
   "source": [
    "> 3. 실수형(float)"
   ]
  },
  {
   "cell_type": "code",
   "execution_count": 9,
   "id": "b49f44d1",
   "metadata": {},
   "outputs": [
    {
     "name": "stdout",
     "output_type": "stream",
     "text": [
      "<class 'float'>\n"
     ]
    }
   ],
   "source": [
    "fVar = 1.0\n",
    "print(type(fVar))"
   ]
  },
  {
   "cell_type": "markdown",
   "id": "aa480feb",
   "metadata": {},
   "source": [
    "<여러 가지 실수 표현> <br>\n",
    "0., 0.0, .0, 1., 1.0, 1e0, 1.e0, 1.0e2"
   ]
  },
  {
   "cell_type": "markdown",
   "id": "087c715e",
   "metadata": {},
   "source": [
    "> 4. 문자열(string)"
   ]
  },
  {
   "cell_type": "code",
   "execution_count": 12,
   "id": "fd8933ef",
   "metadata": {},
   "outputs": [
    {
     "name": "stdout",
     "output_type": "stream",
     "text": [
      "<class 'str'>\n"
     ]
    }
   ],
   "source": [
    "strVar = \"test\"\n",
    "print(type(strVar))"
   ]
  },
  {
   "cell_type": "markdown",
   "id": "99d261e4",
   "metadata": {},
   "source": [
    "### 연산자\n",
    "\n",
    "> 1. 지정 연산자 ; 할당 연산자 (=)"
   ]
  },
  {
   "cell_type": "code",
   "execution_count": 14,
   "id": "44cbacc9",
   "metadata": {},
   "outputs": [
    {
     "name": "stdout",
     "output_type": "stream",
     "text": [
      "3\n",
      "5\n"
     ]
    }
   ],
   "source": [
    "i = 3\n",
    "print(i)\n",
    "i = i + 2\n",
    "print(i)"
   ]
  },
  {
   "cell_type": "markdown",
   "id": "14498c46",
   "metadata": {},
   "source": [
    "> 2. 산술 연산자 (+, -, *, /, //, %)"
   ]
  },
  {
   "cell_type": "code",
   "execution_count": 15,
   "id": "d5b090bb",
   "metadata": {},
   "outputs": [
    {
     "name": "stdout",
     "output_type": "stream",
     "text": [
      "10\n",
      "3\n",
      "1\n",
      "3\n",
      "3.3333333333333335\n"
     ]
    }
   ],
   "source": [
    "a = 10\n",
    "b = 3\n",
    "c = a % b\n",
    "d = a // b\n",
    "e = a / b\n",
    "\n",
    "print(a)\n",
    "print(b)\n",
    "print(c)\n",
    "print(d)\n",
    "print(e)"
   ]
  },
  {
   "cell_type": "markdown",
   "id": "cf829e30",
   "metadata": {},
   "source": [
    "> 3. 관계 연산자 (<, <=, >, >=, ==, !=)"
   ]
  },
  {
   "cell_type": "code",
   "execution_count": 16,
   "id": "e57571a8",
   "metadata": {},
   "outputs": [
    {
     "name": "stdout",
     "output_type": "stream",
     "text": [
      "True\n",
      "False\n",
      "False\n",
      "True\n"
     ]
    }
   ],
   "source": [
    "score = 95\n",
    "print(score >= 90)\n",
    "print(score < 80)\n",
    "print(score == 90)\n",
    "print(score != 80)"
   ]
  },
  {
   "cell_type": "markdown",
   "id": "5e31aa95",
   "metadata": {},
   "source": [
    "> 4. 논리 연산자 (and, or, not)"
   ]
  },
  {
   "cell_type": "code",
   "execution_count": 17,
   "id": "492b964a",
   "metadata": {},
   "outputs": [
    {
     "name": "stdout",
     "output_type": "stream",
     "text": [
      "True\n",
      "False\n",
      "False\n"
     ]
    }
   ],
   "source": [
    "exam = 85\n",
    "report = 85\n",
    "print(exam >= 80 and report >= 80)\n",
    "print(exam >= 90 or report >= 90)\n",
    "print(not(exam < 90))"
   ]
  },
  {
   "cell_type": "markdown",
   "id": "9c4dd122",
   "metadata": {},
   "source": [
    "> 5. 멤버 연산자 (in, not in)"
   ]
  },
  {
   "cell_type": "code",
   "execution_count": 18,
   "id": "4612f297",
   "metadata": {},
   "outputs": [
    {
     "name": "stdout",
     "output_type": "stream",
     "text": [
      "True\n"
     ]
    }
   ],
   "source": [
    "print('py' in 'python')"
   ]
  },
  {
   "cell_type": "code",
   "execution_count": 19,
   "id": "c781e859",
   "metadata": {},
   "outputs": [
    {
     "name": "stdout",
     "output_type": "stream",
     "text": [
      "True\n"
     ]
    }
   ],
   "source": [
    "print('ty' not in 'python')"
   ]
  },
  {
   "cell_type": "markdown",
   "id": "c339da8f",
   "metadata": {},
   "source": [
    "> 6. 식별 연산자 (is, is not)"
   ]
  },
  {
   "cell_type": "code",
   "execution_count": 21,
   "id": "44a3dde9",
   "metadata": {},
   "outputs": [
    {
     "name": "stdout",
     "output_type": "stream",
     "text": [
      "140703703855944\n",
      "140703703855944\n",
      "True\n",
      "True\n",
      "False\n"
     ]
    }
   ],
   "source": [
    "a = 2\n",
    "b = 2\n",
    "print(id(a))\n",
    "print(id(b))\n",
    "\n",
    "print(id(a) == id(b))\n",
    "print(a is b)\n",
    "print(a is not b)"
   ]
  }
 ],
 "metadata": {
  "kernelspec": {
   "display_name": "Python 3",
   "language": "python",
   "name": "python3"
  },
  "language_info": {
   "codemirror_mode": {
    "name": "ipython",
    "version": 3
   },
   "file_extension": ".py",
   "mimetype": "text/x-python",
   "name": "python",
   "nbconvert_exporter": "python",
   "pygments_lexer": "ipython3",
   "version": "3.11.9"
  }
 },
 "nbformat": 4,
 "nbformat_minor": 5
}
