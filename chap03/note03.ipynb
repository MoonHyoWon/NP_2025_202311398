{
 "cells": [
  {
   "cell_type": "markdown",
   "id": "0932c67f",
   "metadata": {},
   "source": [
    "## 3단원 실습\n",
    "날  짜 : 2025.09.17.수요일 (3주차 실습) <br>\n",
    "작성자 : 문효원 <br>\n",
    "학  번 : 202311398 <br>\n",
    "*****"
   ]
  },
  {
   "cell_type": "markdown",
   "id": "728ee0f6",
   "metadata": {},
   "source": [
    "## 제어문\n",
    "### 1. if 제어문\n",
    "> 조건을 만족할 때 정해진 문장 블록을 실행<br>\n",
    "> 조건이 참(True)일 때만 블록을 실행하고 아니면 블록을 건너뛴다."
   ]
  },
  {
   "cell_type": "code",
   "execution_count": 3,
   "id": "076e709b",
   "metadata": {},
   "outputs": [
    {
     "name": "stdout",
     "output_type": "stream",
     "text": [
      "성적 : A\n",
      "장학금 수여\n",
      "당신의 나이는 18~22세 사이입니다\n"
     ]
    }
   ],
   "source": [
    "score = int(input(\"성적 입력:\")) \n",
    "if score >= 90 :\n",
    "    print(\"성적 : A\")\n",
    "    print(\"장학금 수여\")\n",
    "age_0 = 22\n",
    "age_1 = 18\n",
    "age = int(input('your age? '))\n",
    "if age < age_0 and age > age_1:\n",
    "    print(\"당신의 나이는 18~22세 사이입니다\")"
   ]
  },
  {
   "cell_type": "code",
   "execution_count": 7,
   "id": "c7169f10",
   "metadata": {},
   "outputs": [
    {
     "name": "stdout",
     "output_type": "stream",
     "text": [
      "fail\n"
     ]
    }
   ],
   "source": [
    "score = 89\n",
    "res = 'pass' if score >= 90 else 'fail' \n",
    "print(res)"
   ]
  },
  {
   "cell_type": "markdown",
   "id": "37362eee",
   "metadata": {},
   "source": [
    "> 평년과 윤년 구분하는 프로그램"
   ]
  },
  {
   "cell_type": "code",
   "execution_count": 8,
   "id": "18873a17",
   "metadata": {},
   "outputs": [
    {
     "name": "stdout",
     "output_type": "stream",
     "text": [
      "2025 is not a leap year\n"
     ]
    }
   ],
   "source": [
    "year = int(input(\"Type a year :\"))\n",
    "if (year%4 == 0 and year%100 != 0) or (year%400) == 0 : \n",
    "    print(year, \"is a leap year\")\n",
    "else :\n",
    "    print(year, \"is not a leap year\")"
   ]
  },
  {
   "cell_type": "markdown",
   "id": "1d70f41b",
   "metadata": {},
   "source": [
    "> 중첩 if문 (양수, 음수 판별)"
   ]
  },
  {
   "cell_type": "code",
   "execution_count": 9,
   "id": "611db14e",
   "metadata": {},
   "outputs": [
    {
     "name": "stdout",
     "output_type": "stream",
     "text": [
      "positive\n"
     ]
    }
   ],
   "source": [
    "n = int(input(\"type int number : \")) \n",
    "if n > 0 :\n",
    "    print(\"positive\")\n",
    "else :\n",
    "    if n < 0 :\n",
    "        print(\"negative\")\n",
    "    else :\n",
    "        print(\"0\")"
   ]
  },
  {
   "cell_type": "code",
   "execution_count": 10,
   "id": "9804608f",
   "metadata": {},
   "outputs": [
    {
     "name": "stdout",
     "output_type": "stream",
     "text": [
      "positive\n"
     ]
    }
   ],
   "source": [
    "n = int(input(\"type int number : \")) \n",
    "if n >= 0 :\n",
    "    if n == 0 :\n",
    "        print(\"0\")\n",
    "    else :\n",
    "        print(\"positive\")\n",
    "else :\n",
    "    print(\"negative\")"
   ]
  },
  {
   "cell_type": "markdown",
   "id": "32f9aadd",
   "metadata": {},
   "source": [
    "> if-elif-else문 (양수, 음수 판별)"
   ]
  },
  {
   "cell_type": "code",
   "execution_count": 11,
   "id": "9c772cfb",
   "metadata": {},
   "outputs": [
    {
     "name": "stdout",
     "output_type": "stream",
     "text": [
      "positive\n"
     ]
    }
   ],
   "source": [
    "n = int(input(\"type int number : \")) \n",
    "if n > 0 :\n",
    "    print(\"positive\") \n",
    "elif n < 0 :\n",
    "    print(\"negative\")\n",
    "else :\n",
    "    print(\"0\")"
   ]
  },
  {
   "cell_type": "markdown",
   "id": "a4fc6dbe",
   "metadata": {},
   "source": [
    "> 다중 elif문 (입장료 계산 프로그램)"
   ]
  },
  {
   "cell_type": "code",
   "execution_count": 14,
   "id": "cb518b80",
   "metadata": {},
   "outputs": [
    {
     "name": "stdout",
     "output_type": "stream",
     "text": [
      "Your admission cost is $10.\n"
     ]
    }
   ],
   "source": [
    "age = 22\n",
    "if age < 4:\n",
    "    price = 0\n",
    "elif age < 18:\n",
    "    price = 5\n",
    "elif age < 65:\n",
    "    price = 10\n",
    "else:\n",
    "    price = 5\n",
    "print(\"Your admission cost is $\" + str(price) + \".\")"
   ]
  },
  {
   "cell_type": "markdown",
   "id": "e21d4095",
   "metadata": {},
   "source": [
    "### 2. While 반복문\n",
    "> 조건이 만족되면 블록을 계속 반복 실행하는 제어문"
   ]
  },
  {
   "cell_type": "code",
   "execution_count": 15,
   "id": "4cb77b4b",
   "metadata": {},
   "outputs": [
    {
     "name": "stdout",
     "output_type": "stream",
     "text": [
      "sum= 0\n"
     ]
    }
   ],
   "source": [
    "i = 1\n",
    "sum = 0\n",
    "while i <= 100 :\n",
    "    i = i + 1\n",
    "print(\"sum=\", sum)"
   ]
  },
  {
   "cell_type": "code",
   "execution_count": 17,
   "id": "7e0eb797",
   "metadata": {},
   "outputs": [
    {
     "name": "stdout",
     "output_type": "stream",
     "text": [
      "2진수 = 10101\n"
     ]
    }
   ],
   "source": [
    "n = int(input('Number: '))\n",
    "result = ''  # 변환 결과 저장\n",
    "\n",
    "# 10진수를 2로 나누어 몫이 0이 될 때까지 반복해서 나머지를 구한다\n",
    "while n != 0:\n",
    "    m = n % 2  # 나머지\n",
    "    result = str(m) + result  # 숫자를 문자열로 변환하여 앞에 붙임\n",
    "    n = n // 2  # 몫으로 갱신\n",
    "\n",
    "print(\"2진수 =\", result)"
   ]
  },
  {
   "cell_type": "markdown",
   "id": "68be6893",
   "metadata": {},
   "source": [
    "### 3. for 반복문\n",
    "> 일정 횟수만큼 블록을 반복실행하는 제어문\n"
   ]
  },
  {
   "cell_type": "code",
   "execution_count": 18,
   "id": "801d7d4c",
   "metadata": {},
   "outputs": [
    {
     "name": "stdout",
     "output_type": "stream",
     "text": [
      "숫자 1\n",
      "숫자 2\n",
      "숫자 3\n",
      "h\n",
      "e\n",
      "l\n",
      "l\n",
      "o\n"
     ]
    }
   ],
   "source": [
    "for i in (1, 2, 3): print(\"숫자\", i)\n",
    "for i in 'hello': print(i)"
   ]
  },
  {
   "cell_type": "markdown",
   "id": "740cc80f",
   "metadata": {},
   "source": [
    "> for 문을 이용한 1부터 100까지의 합 구하기"
   ]
  },
  {
   "cell_type": "code",
   "execution_count": 19,
   "id": "9bce454c",
   "metadata": {},
   "outputs": [
    {
     "name": "stdout",
     "output_type": "stream",
     "text": [
      "sum =  5050\n"
     ]
    }
   ],
   "source": [
    "sum = 0\n",
    "for i in range(1, 101, 1) : \n",
    "    sum = sum + i\n",
    "print(\"sum = \", sum)"
   ]
  },
  {
   "cell_type": "markdown",
   "id": "eab7448b",
   "metadata": {},
   "source": [
    "> x<sup>n</sup>을 구하는프로그램"
   ]
  },
  {
   "cell_type": "code",
   "execution_count": 20,
   "id": "b550e224",
   "metadata": {},
   "outputs": [
    {
     "name": "stdout",
     "output_type": "stream",
     "text": [
      "1024.0\n"
     ]
    }
   ],
   "source": [
    "x = float(input('Type x : ')) \n",
    "n = int(input('Type n : '))\n",
    "prod = 1\n",
    "for i in range(1, n+1): \n",
    "    prod = prod * x\n",
    "print(prod)"
   ]
  },
  {
   "cell_type": "markdown",
   "id": "e6c50caf",
   "metadata": {},
   "source": [
    "> 중첩 반복문 (구구단 프로그램)"
   ]
  },
  {
   "cell_type": "code",
   "execution_count": 24,
   "id": "495014d9",
   "metadata": {},
   "outputs": [
    {
     "name": "stdout",
     "output_type": "stream",
     "text": [
      "2 x 1 = 2\n",
      "2 x 2 = 4\n",
      "2 x 3 = 6\n",
      "2 x 4 = 8\n",
      "2 x 5 = 10\n",
      "2 x 6 = 12\n",
      "2 x 7 = 14\n",
      "2 x 8 = 16\n",
      "2 x 9 = 18\n",
      "\n",
      "3 x 1 = 3\n",
      "3 x 2 = 6\n",
      "3 x 3 = 9\n",
      "3 x 4 = 12\n",
      "3 x 5 = 15\n",
      "3 x 6 = 18\n",
      "3 x 7 = 21\n",
      "3 x 8 = 24\n",
      "3 x 9 = 27\n",
      "\n"
     ]
    }
   ],
   "source": [
    "for i in range(2, 4, 1) :\n",
    "    for j in range(1, 10, 1): \n",
    "        print(\"%d x %d = %d\" %(i, j, i*j))\n",
    "    print()"
   ]
  },
  {
   "cell_type": "markdown",
   "id": "62c38f9a",
   "metadata": {},
   "source": [
    "> 무한 반복문"
   ]
  },
  {
   "cell_type": "code",
   "execution_count": null,
   "id": "476c68f5",
   "metadata": {},
   "outputs": [],
   "source": [
    "while True : #조건이 항상 참이다 \n",
    "    print(\"last forever\")"
   ]
  },
  {
   "cell_type": "markdown",
   "id": "fc2d64a2",
   "metadata": {},
   "source": [
    "> 숫자 맞추기 게임 프로그램"
   ]
  },
  {
   "cell_type": "code",
   "execution_count": 25,
   "id": "ee3a2dc2",
   "metadata": {},
   "outputs": [
    {
     "name": "stdout",
     "output_type": "stream",
     "text": [
      "더 큽니다. 4 회 남았습니다.\n",
      "\n",
      "더 큽니다. 3 회 남았습니다.\n",
      "\n",
      "더 큽니다. 2 회 남았습니다.\n",
      "\n",
      "맞았습니다!\n"
     ]
    }
   ],
   "source": [
    "from random import randint\n",
    "\n",
    "secret_num = randint(1, 100)\n",
    "num_guesses = 0  # 시도 회수\n",
    "guess = 0        # 예상 숫자\n",
    "\n",
    "while guess != secret_num and num_guesses < 5:\n",
    "    guess = int(input('Enter your guess (1-100): '))  # 수 입력\n",
    "    num_guesses = num_guesses + 1  # 시도 횟수 증가\n",
    "\n",
    "    if guess < secret_num:  # 정답이 클 때\n",
    "        print('더 큽니다.', 5 - num_guesses, '회 남았습니다.\\n')\n",
    "    elif guess > secret_num:  # 정답이 작을 때\n",
    "        print('더 작습니다.', 5 - num_guesses, '회 남았습니다.\\n')\n",
    "    else:  # 정답\n",
    "        print('맞았습니다!')\n",
    "\n",
    "if num_guesses == 5 and guess != secret_num:  # 맞추지 못한 경우\n",
    "    print('당신이 졌습니다. 정답은', secret_num, '입니다')\n"
   ]
  },
  {
   "cell_type": "markdown",
   "id": "321c5694",
   "metadata": {},
   "source": [
    "### 4. 기타 제어문 (break, continue)\n",
    "> break 문 → 반복문을 빠져나올 때 사용"
   ]
  },
  {
   "cell_type": "code",
   "execution_count": 26,
   "id": "7be535a6",
   "metadata": {},
   "outputs": [
    {
     "name": "stdout",
     "output_type": "stream",
     "text": [
      "0.1\n",
      "0.1111111111111111\n",
      "0.125\n",
      "0.14285714285714285\n",
      "0.16666666666666666\n",
      "0.2\n",
      "0.25\n",
      "0.3333333333333333\n",
      "0.5\n",
      "1.0\n"
     ]
    }
   ],
   "source": [
    "n = 10\n",
    "\n",
    "while n >= -10:\n",
    "    if n == 0:\n",
    "        break  # n=0이면 while 블록을 빠져나온다\n",
    "\n",
    "    inv = 1.0 / n\n",
    "    print(inv)\n",
    "    n = n - 1"
   ]
  },
  {
   "cell_type": "markdown",
   "id": "fafe5946",
   "metadata": {},
   "source": [
    "> continue 문 → 블록의 나머지 부분은 생략하고 다시 while 조건 조사"
   ]
  },
  {
   "cell_type": "code",
   "execution_count": 27,
   "id": "0035223c",
   "metadata": {},
   "outputs": [
    {
     "name": "stdout",
     "output_type": "stream",
     "text": [
      "n = 10, inv(n) = 0.10\n",
      "n = 9, inv(n) = 0.11\n",
      "n = 8, inv(n) = 0.12\n",
      "n = 7, inv(n) = 0.14\n",
      "n = 6, inv(n) = 0.17\n",
      "n = 5, inv(n) = 0.20\n",
      "n = 4, inv(n) = 0.25\n",
      "n = 3, inv(n) = 0.33\n",
      "n = 2, inv(n) = 0.50\n",
      "n = 1, inv(n) = 1.00\n",
      "n = -1, inv(n) = -1.00\n",
      "n = -2, inv(n) = -0.50\n",
      "n = -3, inv(n) = -0.33\n",
      "n = -4, inv(n) = -0.25\n",
      "n = -5, inv(n) = -0.20\n",
      "n = -6, inv(n) = -0.17\n",
      "n = -7, inv(n) = -0.14\n",
      "n = -8, inv(n) = -0.12\n",
      "n = -9, inv(n) = -0.11\n",
      "n = -10, inv(n) = -0.10\n"
     ]
    }
   ],
   "source": [
    "n = 10\n",
    "\n",
    "while n >= -10:\n",
    "    if n == 0:\n",
    "        n = n - 1\n",
    "        continue  # n=0이면 while 블록의 나머지 부분을 건너뜀\n",
    "\n",
    "    inv = 1.0 / n\n",
    "    print(\"n = %d, inv(n) = %0.2f\" % (n, inv))\n",
    "    n = n - 1"
   ]
  },
  {
   "cell_type": "markdown",
   "id": "1ae7b219",
   "metadata": {},
   "source": [
    "> Match문 (파이썬 3.0 이상부터 가능, C의 Switch문)"
   ]
  },
  {
   "cell_type": "code",
   "execution_count": 28,
   "id": "46f1e012",
   "metadata": {},
   "outputs": [
    {
     "name": "stdout",
     "output_type": "stream",
     "text": [
      "값은 2입니다.\n"
     ]
    }
   ],
   "source": [
    "value = 2\n",
    "\n",
    "match value:\n",
    "    case 1:\n",
    "        print(\"값은 1입니다.\")\n",
    "    case 2:\n",
    "        print(\"값은 2입니다.\")\n",
    "    case _:  # default case, 와일드카드\n",
    "        print(\"1도 2도 아닙니다.\")"
   ]
  },
  {
   "cell_type": "code",
   "execution_count": 30,
   "id": "6484617d",
   "metadata": {},
   "outputs": [
    {
     "name": "stdout",
     "output_type": "stream",
     "text": [
      "성공\n",
      "알 수 없는 상태\n"
     ]
    }
   ],
   "source": [
    "def handle_status(status):\n",
    "    match status:\n",
    "        case 200:\n",
    "            return \"성공\"\n",
    "        case 404:\n",
    "            return \"페이지를 찾을 수 없음\"\n",
    "        case 500:\n",
    "            return \"서버 오류\"\n",
    "        case _:  # default\n",
    "            return \"알 수 없는 상태\"\n",
    "\n",
    "# 실행 예시\n",
    "print(handle_status(200))  # \"성공\"\n",
    "print(handle_status(999))  # \"알 수 없는 상태\""
   ]
  }
 ],
 "metadata": {
  "kernelspec": {
   "display_name": "Python 3",
   "language": "python",
   "name": "python3"
  },
  "language_info": {
   "codemirror_mode": {
    "name": "ipython",
    "version": 3
   },
   "file_extension": ".py",
   "mimetype": "text/x-python",
   "name": "python",
   "nbconvert_exporter": "python",
   "pygments_lexer": "ipython3",
   "version": "3.11.9"
  }
 },
 "nbformat": 4,
 "nbformat_minor": 5
}
