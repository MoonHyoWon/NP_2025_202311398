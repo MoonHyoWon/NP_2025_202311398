{
 "cells": [
  {
   "cell_type": "markdown",
   "id": "43ca81b7",
   "metadata": {},
   "source": [
    "## 4단원 연습문제2\n",
    "날  짜 : 2025.09.10.수요일 (2주차 실습) <br>\n",
    "작성자 : 문효원 <br>\n",
    "학  번 : 202311398 <br>\n",
    "*****"
   ]
  },
  {
   "cell_type": "markdown",
   "id": "20583e0e",
   "metadata": {},
   "source": [
    "1. 다음 딕셔너리에 대해 물음에 답하라.\n",
    "days = {'January':31, 'February':28, 'March':31, 'April':30, 'May':31, 'June':30, 'July':31, 'August':31,\n",
    "'September':30, 'October':31, 'November':30, 'December':31} <br>\n",
    "• 사용자가 월을 입력하면 해당 월에 일수를 출력하라 <br>\n",
    "• 알파벳 순서로 모든 월을 출력하라 <br>\n",
    "• 일수가 31인 월을 모두 출력하라 <br>\n",
    "• 월의 일수를 기준으로 오름차순으로 (key-value) 쌍을 출력하라 <br>\n",
    "• 사용자가 월을 3자리만 입력하면 월의 일수를 출력하라.(Jan, Feb 등)"
   ]
  },
  {
   "cell_type": "code",
   "execution_count": 5,
   "id": "f0ae9ea9",
   "metadata": {},
   "outputs": [
    {
     "name": "stdout",
     "output_type": "stream",
     "text": [
      "May는 31일입니다.\n",
      "알파벳 순서로 정렬된 월: ['April', 'August', 'December', 'February', 'January', 'July', 'June', 'March', 'May', 'November', 'October', 'September']\n",
      "일수가 31인 월: ['January', 'March', 'May', 'July', 'August', 'October', 'December']\n",
      "일수 기준 오름차순 정렬: [('February', 28), ('April', 30), ('June', 30), ('September', 30), ('November', 30), ('January', 31), ('March', 31), ('May', 31), ('July', 31), ('August', 31), ('October', 31), ('December', 31)]\n",
      "May는 31일입니다.\n"
     ]
    }
   ],
   "source": [
    "days = {\n",
    "    'January': 31, 'February': 28, 'March': 31, 'April': 30, 'May': 31, 'June': 30,\n",
    "    'July': 31, 'August': 31, 'September': 30, 'October': 31, 'November': 30, 'December': 31\n",
    "}\n",
    "\n",
    "# 1. 사용자가 월을 입력하면 해당 월의 일수를 출력\n",
    "month = input(\"월을 입력하세요 (예: March): \")\n",
    "if month in days:\n",
    "    print(f\"{month}는 {days[month]}일입니다.\")\n",
    "else:\n",
    "    print(\"해당 월이 없습니다.\")\n",
    "\n",
    "# 2. 알파벳 순서로 모든 월 출력\n",
    "print(\"알파벳 순서로 정렬된 월:\", sorted(days.keys()))\n",
    "\n",
    "# 3. 일수가 31인 월 출력\n",
    "print(\"일수가 31인 월:\", [m for m, d in days.items() if d == 31])\n",
    "\n",
    "# 4. 일수를 기준으로 오름차순 정렬된 (key, value) 출력\n",
    "print(\"일수 기준 오름차순 정렬:\", sorted(days.items(), key=lambda x: x[1]))\n",
    "\n",
    "# 5. 사용자가 월 약자(3글자)를 입력하면 해당 월의 일수 출력\n",
    "abbr = input(\"월의 약자(3글자, 예: Jan, Feb)를 입력하세요: \")\n",
    "found = False\n",
    "for m in days:\n",
    "    if m.startswith(abbr):\n",
    "        print(f\"{m}는 {days[m]}일입니다.\")\n",
    "        found = True\n",
    "        break\n",
    "if not found:\n",
    "    print(\"해당 월이 없습니다.\")\n"
   ]
  }
 ],
 "metadata": {
  "kernelspec": {
   "display_name": "Python 3",
   "language": "python",
   "name": "python3"
  },
  "language_info": {
   "codemirror_mode": {
    "name": "ipython",
    "version": 3
   },
   "file_extension": ".py",
   "mimetype": "text/x-python",
   "name": "python",
   "nbconvert_exporter": "python",
   "pygments_lexer": "ipython3",
   "version": "3.11.9"
  }
 },
 "nbformat": 4,
 "nbformat_minor": 5
}
