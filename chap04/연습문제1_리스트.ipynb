{
 "cells": [
  {
   "cell_type": "markdown",
   "id": "5b180d46",
   "metadata": {},
   "source": [
    "## 4단원 연습문제1\n",
    "날  짜 : 2025.09.10.수요일 (2주차 실습) <br>\n",
    "작성자 : 문효원 <br>\n",
    "학  번 : 202311398 <br>\n",
    "*****"
   ]
  },
  {
   "cell_type": "markdown",
   "id": "9b6ddfae",
   "metadata": {},
   "source": [
    "1. 3명 이상 친구 이름 리스트를 작성하고 다음 내용을 프로그램하시오 <br>\n",
    "• insert()로 맨 앞에 새로운 친구 추가 <br>\n",
    "• insert()로 3번째 위치에 새로운 친구 추가 <br>\n",
    "• append()로 마지막에 친구 추가"
   ]
  },
  {
   "cell_type": "code",
   "execution_count": 2,
   "id": "8bfbd3cf",
   "metadata": {},
   "outputs": [
    {
     "name": "stdout",
     "output_type": "stream",
     "text": [
      "['강찬희', '김민상', '신연준', '윤동현', '이호현', '최민호']\n"
     ]
    }
   ],
   "source": [
    "friends = [\"김민상\", \"윤동현\", \"이호현\"]\n",
    "\n",
    "friends.insert(0, \"강찬희\")\n",
    "friends.insert(2, \"신연준\")\n",
    "friends.append(\"최민호\")\n",
    "\n",
    "print(friends)"
   ]
  },
  {
   "cell_type": "markdown",
   "id": "5499d25c",
   "metadata": {},
   "source": [
    "2. 리스트 [1, 2, 3]에 대해 다음과 같은 처리를 하라. <br>\n",
    "• 두 번째 요소를 17로 수정<br>\n",
    "• 리스트에 4, 5, 6을 추가<br>\n",
    "• 첫 번째 요소 제거<br>\n",
    "• 리스트를 요소 순서대로 배열하기<br>\n",
    "• 인덱스 3에 25넣기"
   ]
  },
  {
   "cell_type": "code",
   "execution_count": 3,
   "id": "8d37316d",
   "metadata": {},
   "outputs": [
    {
     "name": "stdout",
     "output_type": "stream",
     "text": [
      "[3, 4, 5, 25, 6, 17]\n"
     ]
    }
   ],
   "source": [
    "nums = [1, 2, 3]\n",
    "\n",
    "nums[1] = 17\n",
    "nums.extend([4, 5, 6])\n",
    "del nums[0]\n",
    "nums.sort()\n",
    "nums.insert(3, 25)\n",
    "\n",
    "print(nums)"
   ]
  },
  {
   "cell_type": "markdown",
   "id": "42803b88",
   "metadata": {},
   "source": [
    "3. for 루프를 이용하여 다음과 같은 리스트를 생성하라. <br>\n",
    "• 0~49까지의 수로 구성되는 리스트<br>\n",
    "• 1~50까지 수의 제곱으로 구성되는 리스트"
   ]
  },
  {
   "cell_type": "code",
   "execution_count": 4,
   "id": "82a7c186",
   "metadata": {},
   "outputs": [
    {
     "name": "stdout",
     "output_type": "stream",
     "text": [
      "[0, 1, 2, 3, 4, 5, 6, 7, 8, 9, 10, 11, 12, 13, 14, 15, 16, 17, 18, 19, 20, 21, 22, 23, 24, 25, 26, 27, 28, 29, 30, 31, 32, 33, 34, 35, 36, 37, 38, 39, 40, 41, 42, 43, 44, 45, 46, 47, 48, 49]\n",
      "[1, 4, 9, 16, 25, 36, 49, 64, 81, 100, 121, 144, 169, 196, 225, 256, 289, 324, 361, 400, 441, 484, 529, 576, 625, 676, 729, 784, 841, 900, 961, 1024, 1089, 1156, 1225, 1296, 1369, 1444, 1521, 1600, 1681, 1764, 1849, 1936, 2025, 2116, 2209, 2304, 2401, 2500]\n"
     ]
    }
   ],
   "source": [
    "nums = []\n",
    "for i in range(50):\n",
    "    nums.append(i)\n",
    "print(nums)\n",
    "\n",
    "squares = []\n",
    "for i in range(1, 51):\n",
    "    squares.append(i ** 2)\n",
    "print(squares)"
   ]
  },
  {
   "cell_type": "markdown",
   "id": "fccd86e4",
   "metadata": {},
   "source": [
    "  4. 크기가 같은 두 개의 리스트 L, M을 생성하고 두 리스트의 각 요소 합으로 구성되는 새로운 리스 트를 생성하라. 예를 들어 L=[1,2,3]이고 M=[4,5,6]이면 [5,7,9]인 리스트 생성"
   ]
  },
  {
   "cell_type": "code",
   "execution_count": 7,
   "id": "4c796eff",
   "metadata": {},
   "outputs": [
    {
     "name": "stdout",
     "output_type": "stream",
     "text": [
      "[5, 7, 9]\n"
     ]
    }
   ],
   "source": [
    "L = [1, 2, 3]\n",
    "M = [4, 5, 6]\n",
    "\n",
    "result = []\n",
    "for i in range(len(L)):\n",
    "    result.append(L[i] + M[i])\n",
    "\n",
    "print(result)"
   ]
  },
  {
   "cell_type": "markdown",
   "id": "cc47e1d2",
   "metadata": {},
   "source": [
    "5. 사용자로부터 5개의 숫자를 문자열로 입력 받아 각 숫자를 +로 연결한 문자열을 생성하라. 예를 들 어 2, 5, 11, 33, 55를 입력하면 '2+5+11+33+55'를 생성하라."
   ]
  },
  {
   "cell_type": "code",
   "execution_count": 6,
   "id": "5148c764",
   "metadata": {},
   "outputs": [
    {
     "name": "stdout",
     "output_type": "stream",
     "text": [
      "2+5+11+33+55\n"
     ]
    }
   ],
   "source": [
    "nums = input(\"5개의 숫자를 쉼표로 구분하여 입력하세요: \")\n",
    "\n",
    "nums_list = [n.strip() for n in nums.split(\",\")]\n",
    "result = \"+\".join(nums_list)\n",
    "\n",
    "print(result)"
   ]
  }
 ],
 "metadata": {
  "kernelspec": {
   "display_name": "Python 3",
   "language": "python",
   "name": "python3"
  },
  "language_info": {
   "codemirror_mode": {
    "name": "ipython",
    "version": 3
   },
   "file_extension": ".py",
   "mimetype": "text/x-python",
   "name": "python",
   "nbconvert_exporter": "python",
   "pygments_lexer": "ipython3",
   "version": "3.11.9"
  }
 },
 "nbformat": 4,
 "nbformat_minor": 5
}
