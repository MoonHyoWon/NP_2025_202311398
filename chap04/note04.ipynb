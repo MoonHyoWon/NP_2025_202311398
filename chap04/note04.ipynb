{
 "cells": [
  {
   "cell_type": "markdown",
   "id": "eeed9c2c",
   "metadata": {},
   "source": [
    "## 4단원 연습문제\n",
    "날  짜 : 2025.09.10.수요일 (2주차 실습) <br>\n",
    "작성자 : 문효원 <br>\n",
    "학  번 : 202311398 <br>\n",
    "*****"
   ]
  },
  {
   "cell_type": "markdown",
   "id": "665b8807",
   "metadata": {},
   "source": [
    "#### 자료구조\n",
    "\n",
    "• 자료를 표현하고 처리하기 위해 사용되는 구조 <BR>\n",
    "• 자료를 효율적으로 처리하고 저장하는 데 사용"
   ]
  },
  {
   "cell_type": "markdown",
   "id": "1820d338",
   "metadata": {},
   "source": [
    "### 1. 문자열 (String)\n",
    "> 문자열은 문자나 단어 등으로 구성된 문자의 집 합을 표현하는 자료구조이다."
   ]
  },
  {
   "cell_type": "code",
   "execution_count": null,
   "id": "33b6c023",
   "metadata": {},
   "outputs": [
    {
     "name": "stdout",
     "output_type": "stream",
     "text": [
      "P\n",
      "n\n",
      "n\n",
      "P\n",
      "tho\n",
      "Py\n",
      "tho\n",
      "Py\n",
      "on\n",
      "on\n",
      "Py\n",
      "thon\n",
      "Python\n",
      "on\n",
      "\n"
     ]
    }
   ],
   "source": [
    "word = 'Python'\n",
    "print(word[0])\n",
    "print(word[5])\n",
    "\n",
    "print(word[-1])\n",
    "print(word[-6])\n",
    "\n",
    "print(word[2:5])\n",
    "print(word[0:2])\n",
    "print(word[2:5])\n",
    "print(word[:2])\n",
    "print(word[4:])\n",
    "print(word[-2:])\n",
    "\n",
    "print(word[:2])\n",
    "print(word[2:])\n",
    "print(word[:2] + word[2:])\n",
    "\n",
    "print(word[4:42])\n",
    "print(word[42:])"
   ]
  },
  {
   "cell_type": "code",
   "execution_count": 5,
   "id": "817d5839",
   "metadata": {},
   "outputs": [
    {
     "name": "stdout",
     "output_type": "stream",
     "text": [
      "Jython\n"
     ]
    }
   ],
   "source": [
    "vword = 'Python'\n",
    "word2 = 'J' + word[1:]\n",
    "\n",
    "print(word2)"
   ]
  },
  {
   "cell_type": "code",
   "execution_count": 6,
   "id": "f9d2678d",
   "metadata": {},
   "outputs": [
    {
     "name": "stdout",
     "output_type": "stream",
     "text": [
      "6\n"
     ]
    }
   ],
   "source": [
    "s = 'smiles'\n",
    "print(len(s))"
   ]
  },
  {
   "cell_type": "code",
   "execution_count": 8,
   "id": "97d34bea",
   "metadata": {},
   "outputs": [
    {
     "name": "stdout",
     "output_type": "stream",
     "text": [
      "Reversed string : olleh\n"
     ]
    }
   ],
   "source": [
    "## 변수 초기화 부분 ##\n",
    "outStr = \"\"   # 출력 문자열(빈 문자열)\n",
    "count, i = 0, 0\n",
    "\n",
    "## 메인 코드 부분 ##\n",
    "inStr = input(\"Type string : \")\n",
    "count = len(inStr)  # 문자열 길이\n",
    "\n",
    "for i in range(0, count):\n",
    "    outStr += inStr[count - (i + 1)]  # 마지막 문자부터 추출하여 합치기\n",
    "\n",
    "print(\"Reversed string : %s\" % outStr)\n"
   ]
  },
  {
   "cell_type": "code",
   "execution_count": 9,
   "id": "82589b4b",
   "metadata": {},
   "outputs": [
    {
     "name": "stdout",
     "output_type": "stream",
     "text": [
      "True\n",
      "False\n"
     ]
    }
   ],
   "source": [
    "print('a' in 'cat')\n",
    "print('a' not in 'can')"
   ]
  },
  {
   "cell_type": "code",
   "execution_count": 12,
   "id": "5e0eecc4",
   "metadata": {},
   "outputs": [
    {
     "name": "stdout",
     "output_type": "stream",
     "text": [
      "True\n",
      "True\n",
      "True\n",
      "True\n",
      "True\n",
      "True\n",
      "PYTHON PROGRAMMING IS EASY!\n",
      "python programming is easy!\n",
      "pYTHON PROGRAMMING IS EASY!\n",
      "Python Programming Is Easy!\n",
      "2\n",
      "4\n",
      "9\n",
      "4\n"
     ]
    }
   ],
   "source": [
    "print('123'.isdigit())\n",
    "print('abcABC'.isalpha())\n",
    "print('Ab122'.isalnum())\n",
    "print('AB'.isupper())\n",
    "print('ab'.islower())\n",
    "print(' '.isspace())\n",
    "\n",
    "str = 'Python programming is easy!'\n",
    "\n",
    "print(str.upper())\n",
    "print(str.lower())\n",
    "print(str.swapcase())\n",
    "print(str.title())\n",
    "\n",
    "print(str.count('i'))\n",
    "print(str.find('o'))\n",
    "print(str.rfind('o'))\n",
    "print(str.index('on'))"
   ]
  },
  {
   "cell_type": "code",
   "execution_count": 13,
   "id": "a5aaa896",
   "metadata": {},
   "outputs": [
    {
     "name": "stdout",
     "output_type": "stream",
     "text": [
      "['a', 'bc']\n",
      "['a ', 'c']\n"
     ]
    }
   ],
   "source": [
    "x = 'a bc'\n",
    "\n",
    "print(x.split())\n",
    "print(x.split('b'))\n"
   ]
  },
  {
   "cell_type": "code",
   "execution_count": 14,
   "id": "0059d86d",
   "metadata": {},
   "outputs": [
    {
     "name": "stdout",
     "output_type": "stream",
     "text": [
      "hello\n",
      " hello \n",
      " hello\n",
      "hello \n"
     ]
    }
   ],
   "source": [
    "str_val = ' hello '\n",
    "\n",
    "print(str_val.strip())\n",
    "print(str_val)\n",
    "print(str_val.rstrip())\n",
    "print(str_val.lstrip())\n"
   ]
  },
  {
   "cell_type": "code",
   "execution_count": 15,
   "id": "bcd7b7b6",
   "metadata": {},
   "outputs": [
    {
     "name": "stdout",
     "output_type": "stream",
     "text": [
      "h*e*l*l*o\n"
     ]
    }
   ],
   "source": [
    "print('*'.join('hello'))"
   ]
  },
  {
   "cell_type": "code",
   "execution_count": 16,
   "id": "f16e2a91",
   "metadata": {},
   "outputs": [
    {
     "name": "stdout",
     "output_type": "stream",
     "text": [
      "00012\n"
     ]
    }
   ],
   "source": [
    "print('12'.zfill(5))"
   ]
  },
  {
   "cell_type": "code",
   "execution_count": 17,
   "id": "3e1f7432",
   "metadata": {},
   "outputs": [
    {
     "name": "stdout",
     "output_type": "stream",
     "text": [
      "   he\n",
      "he   \n",
      "  he \n"
     ]
    }
   ],
   "source": [
    "print('he'.rjust(5))\n",
    "print('he'.ljust(5))\n",
    "print('he'.center(5))"
   ]
  },
  {
   "cell_type": "markdown",
   "id": "483685c2",
   "metadata": {},
   "source": [
    "### 2. 리스트 (List)\n",
    "> 리스트는 여러 가지 자료를 하나로 모아서 표현할 수 있는 자료구조이다. 또한 리스트는 순서가 있고 변경 가능한 데이터들의 집합이다. 대괄호 []로 표현.\n"
   ]
  },
  {
   "cell_type": "code",
   "execution_count": 21,
   "id": "a6e8410d",
   "metadata": {},
   "outputs": [
    {
     "name": "stdout",
     "output_type": "stream",
     "text": [
      "[1, 4, 9, 16, 25]\n",
      "[]\n",
      "[1, 'hello', 2, 'world', 1.23]\n"
     ]
    }
   ],
   "source": [
    "odd = [1, 3, 5, 7, 9]\n",
    "squares = [1, 4, 9, 16, 25]\n",
    "print(squares)\n",
    "\n",
    "empty = []\n",
    "print(empty)\n",
    "\n",
    "a = [1, 'hello', 2, 'world', 1.23]\n",
    "print(a)\n"
   ]
  },
  {
   "cell_type": "code",
   "execution_count": 20,
   "id": "89b7f7f5",
   "metadata": {},
   "outputs": [
    {
     "name": "stdout",
     "output_type": "stream",
     "text": [
      "1\n",
      "25\n",
      "[1, 4, 9]\n",
      "[9, 16, 25]\n",
      "[1, 4, 9, 16, 25, 36, 49, 64, 81, 100]\n",
      "[1, 2, 3, 4, 5, 6]\n"
     ]
    }
   ],
   "source": [
    "squares = [1, 4, 9, 16, 25]\n",
    "\n",
    "print(squares[0])\n",
    "print(squares[-1]) \n",
    "print(squares[0:3])\n",
    "print(squares[-3:])\n",
    "\n",
    "print(squares + [36, 49, 64, 81, 100])\n",
    "\n",
    "a = [1, 2, 3]\n",
    "b = [4, 5, 6]\n",
    "print(a + b)"
   ]
  },
  {
   "cell_type": "code",
   "execution_count": 22,
   "id": "d8ba5fdb",
   "metadata": {},
   "outputs": [
    {
     "name": "stdout",
     "output_type": "stream",
     "text": [
      "64\n",
      "[1, 8, 27, 64, 125]\n",
      "[1, 8, 27, 64, 125, 216, 343]\n"
     ]
    }
   ],
   "source": [
    "cubes = [1, 8, 27, 65, 125]\n",
    "print(4 ** 3)\n",
    "\n",
    "cubes[3] = 64\n",
    "print(cubes)\n",
    "\n",
    "cubes.append(216)\n",
    "cubes.append(7 ** 3)\n",
    "print(cubes)"
   ]
  },
  {
   "cell_type": "code",
   "execution_count": 23,
   "id": "f62e8777",
   "metadata": {},
   "outputs": [
    {
     "name": "stdout",
     "output_type": "stream",
     "text": [
      "['a', 'b', 'c', 'd', 'e', 'f', 'g']\n",
      "['a', 'b', 'C', 'D', 'E', 'f', 'g']\n",
      "['a', 'b', 'f', 'g']\n",
      "[]\n"
     ]
    }
   ],
   "source": [
    "letters = ['a', 'b', 'c', 'd', 'e', 'f', 'g']\n",
    "print(letters)\n",
    "\n",
    "letters[2:5] = ['C', 'D', 'E']\n",
    "print(letters)\n",
    "\n",
    "letters[2:5] = []\n",
    "print(letters)\n",
    "\n",
    "letters[:] = []\n",
    "print(letters)\n"
   ]
  },
  {
   "cell_type": "code",
   "execution_count": 24,
   "id": "04a4b9e8",
   "metadata": {},
   "outputs": [
    {
     "name": "stdout",
     "output_type": "stream",
     "text": [
      "[['a', 'b', 'c'], [1, 2, 3]]\n",
      "['a', 'b', 'c']\n",
      "b\n"
     ]
    }
   ],
   "source": [
    "a = ['a', 'b', 'c']\n",
    "n = [1, 2, 3]\n",
    "x = [a, n]\n",
    "print(x)\n",
    "\n",
    "print(x[0])\n",
    "print(x[0][1])\n"
   ]
  },
  {
   "cell_type": "code",
   "execution_count": 25,
   "id": "98f76fb7",
   "metadata": {},
   "outputs": [
    {
     "name": "stdout",
     "output_type": "stream",
     "text": [
      "1\n",
      "9\n"
     ]
    }
   ],
   "source": [
    "list2d = [\n",
    "    [1, 2, 3],\n",
    "    [4, 5, 6],\n",
    "    [7, 8, 9]\n",
    "]\n",
    "\n",
    "print(list2d[0][0])\n",
    "print(list2d[2][2])\n"
   ]
  },
  {
   "cell_type": "code",
   "execution_count": 26,
   "id": "cbaf580a",
   "metadata": {},
   "outputs": [
    {
     "name": "stdout",
     "output_type": "stream",
     "text": [
      "4\n",
      "15\n",
      "1\n",
      "5\n"
     ]
    }
   ],
   "source": [
    "letters = ['a', 'b', 'c', 'd']\n",
    "print(len(letters))\n",
    "\n",
    "num = [1, 2, 3, 4, 5]\n",
    "print(sum(num))\n",
    "print(min(num))\n",
    "print(max(num))"
   ]
  },
  {
   "cell_type": "code",
   "execution_count": 28,
   "id": "dfafa233",
   "metadata": {},
   "outputs": [
    {
     "name": "stdout",
     "output_type": "stream",
     "text": [
      "['bus', 'sedan', 'taxi', 'truck']\n",
      "['truck', 'taxi', 'sedan', 'bus']\n",
      "Here is the original list:\n",
      "['truck', 'taxi', 'sedan', 'bus']\n",
      "\n",
      "Here is the sorted list:\n",
      "['bus', 'sedan', 'taxi', 'truck']\n",
      "\n",
      "Here is the original list again:\n",
      "['truck', 'taxi', 'sedan', 'bus']\n",
      "['truck', 'taxi', 'sedan', 'bus']\n",
      "['bus', 'sedan', 'taxi', 'truck']\n"
     ]
    }
   ],
   "source": [
    "cars = ['taxi', 'sedan', 'bus', 'truck']\n",
    "\n",
    "cars.sort()\n",
    "print(cars)\n",
    "\n",
    "cars.sort(reverse=True)\n",
    "print(cars)\n",
    "\n",
    "print(\"Here is the original list:\")\n",
    "print(cars)\n",
    "\n",
    "print(\"\\nHere is the sorted list:\")\n",
    "print(sorted(cars))\n",
    "\n",
    "print(\"\\nHere is the original list again:\")\n",
    "print(cars)\n",
    "\n",
    "print(cars)\n",
    "cars.reverse() #원래 리스트의 요소 순서를 거꾸로 배열 \n",
    "print(cars)\n"
   ]
  },
  {
   "cell_type": "code",
   "execution_count": 32,
   "id": "ee409676",
   "metadata": {},
   "outputs": [
    {
     "name": "stdout",
     "output_type": "stream",
     "text": [
      "suzuki\n"
     ]
    }
   ],
   "source": [
    "motorcycles = ['honda', 'yamaha', 'suzuki'] \n",
    "print(motorcycles[2]) # 3일시 오류"
   ]
  },
  {
   "cell_type": "code",
   "execution_count": 33,
   "id": "47326490",
   "metadata": {},
   "outputs": [
    {
     "name": "stdout",
     "output_type": "stream",
     "text": [
      "[3, 6, 9, 12]\n",
      "[6, 12]\n",
      "[0, 1, 4, 9, 8, 25, 12, 49, 16, 81]\n"
     ]
    }
   ],
   "source": [
    "a = [1, 2, 3, 4]\n",
    "\n",
    "result = [num * 3 for num in a]\n",
    "print(result)\n",
    "\n",
    "result = [num * 3 for num in a if num % 2 == 0]\n",
    "print(result)\n",
    "\n",
    "result = [i * 2 if i % 2 == 0 else i ** 2 for i in range(10)]\n",
    "print(result)\n"
   ]
  },
  {
   "cell_type": "markdown",
   "id": "8f49c3f5",
   "metadata": {},
   "source": [
    "### 3. 튜플 (Tuple)\n",
    "> 튜플은 리스트와 같이 여러 가지 자료를 모아서 하나로 표현할 수 있으나 순서가 있지만 요소를 수정, 삭제할 수 없는(불변) 데이터들의 집합이다. 소괄호 ()로 표현.\n"
   ]
  },
  {
   "cell_type": "code",
   "execution_count": 34,
   "id": "d5f9a8b5",
   "metadata": {},
   "outputs": [
    {
     "name": "stdout",
     "output_type": "stream",
     "text": [
      "(1, 2, 3)\n",
      "(1, 2, 3)\n",
      "(1,)\n",
      "()\n"
     ]
    }
   ],
   "source": [
    "t1 = (1, 2, 3)\n",
    "print(t1)\n",
    "\n",
    "t2 = 1, 2, 3\n",
    "print(t2)\n",
    "\n",
    "t3 = 1,\n",
    "print(t3)\n",
    "\n",
    "t4 = tuple()\n",
    "print(t4)"
   ]
  },
  {
   "cell_type": "code",
   "execution_count": 35,
   "id": "318fffe4",
   "metadata": {},
   "outputs": [
    {
     "name": "stdout",
     "output_type": "stream",
     "text": [
      "2\n",
      "(2, 3)\n",
      "(1, 2, 3, 'a', 'b')\n",
      "(1, 2, 3, 1, 2, 3)\n"
     ]
    }
   ],
   "source": [
    "t1 = (1, 2, 3)\n",
    "\n",
    "print(t1[1])\n",
    "print(t1[1:3])\n",
    "\n",
    "t2 = ('a', 'b')\n",
    "\n",
    "print(t1 + t2)\n",
    "print(t1 * 2)"
   ]
  },
  {
   "cell_type": "code",
   "execution_count": 36,
   "id": "587104d0",
   "metadata": {},
   "outputs": [
    {
     "name": "stdout",
     "output_type": "stream",
     "text": [
      "(1, 2, 3, 4)\n"
     ]
    }
   ],
   "source": [
    "T1 = (1, 2, 3)\n",
    "\n",
    "L1 = list(T1)\n",
    "L1.append(4)\n",
    "\n",
    "T1 = tuple(L1)\n",
    "print(T1)"
   ]
  },
  {
   "cell_type": "code",
   "execution_count": 37,
   "id": "da5f2919",
   "metadata": {},
   "outputs": [
    {
     "name": "stdout",
     "output_type": "stream",
     "text": [
      "1\n",
      "2\n",
      "3\n"
     ]
    }
   ],
   "source": [
    "a, b, c = (1, 2, 3)\n",
    "\n",
    "print(a)\n",
    "print(b)\n",
    "print(c)"
   ]
  },
  {
   "cell_type": "markdown",
   "id": "407e81fd",
   "metadata": {},
   "source": [
    "### 4. 딕셔너리 (Dictionary)\n",
    "> 딕셔너리는 키(key)와 값(value)의 쌍으로 이루어진 사전과 같이 대응 관계를 나타내는 자료구조이다. 중괄호 {}로 표현.\n"
   ]
  },
  {
   "cell_type": "code",
   "execution_count": 41,
   "id": "f9f792e5",
   "metadata": {},
   "outputs": [
    {
     "name": "stdout",
     "output_type": "stream",
     "text": [
      "{'Jun': 174, 'Kim': 170, 'Lee': 165}\n",
      "{}\n",
      "170\n",
      "True\n",
      "{'Jun': 174, 'Kim': 170, 'Lee': 180}\n",
      "{'Jun': 174, 'Kim': 170, 'Lee': 180, 'Ihm': 168}\n",
      "dict_keys(['Jun', 'Kim', 'Lee', 'Ihm'])\n",
      "dict_values([174, 170, 180, 168])\n",
      "dict_items([('Jun', 174), ('Kim', 170), ('Lee', 180), ('Ihm', 168)])\n",
      "['Jun', 'Kim', 'Lee', 'Ihm']\n",
      "{'Jun': 174, 'Kim': 170, 'Lee': 180}\n",
      "{}\n"
     ]
    }
   ],
   "source": [
    "height = {'Jun': 174, 'Kim': 170, 'Lee': 165}\n",
    "print(height)\n",
    "\n",
    "test = dict()\n",
    "print(test)\n",
    "\n",
    "print(height['Kim'])\n",
    "\n",
    "print('Kim' in height)\n",
    "\n",
    "height['Lee'] = 180\n",
    "print(height)\n",
    "\n",
    "height['Ihm'] = 168\n",
    "print(height)\n",
    "\n",
    "print(height.keys())\n",
    "print(height.values())\n",
    "print(height.items())\n",
    "\n",
    "dict_keys = height.keys()\n",
    "keys_list = list(dict_keys)\n",
    "print(keys_list)\n",
    "\n",
    "height.pop('Ihm')\n",
    "print(height)\n",
    "\n",
    "height.clear()\n",
    "print(height)"
   ]
  },
  {
   "cell_type": "markdown",
   "id": "5d122e3b",
   "metadata": {},
   "source": [
    "### 5. 세트/집합 (Set)\n",
    "> 세트는 중복을 허용하지 않는 유일한 값들의 집합이다. 중괄호 {}로 표현.\n"
   ]
  },
  {
   "cell_type": "code",
   "execution_count": 42,
   "id": "57767b10",
   "metadata": {},
   "outputs": [
    {
     "name": "stdout",
     "output_type": "stream",
     "text": [
      "{1, 2, 3}\n",
      "{'Park', 'Lee', 'Kim'}\n"
     ]
    }
   ],
   "source": [
    "numbers = {1, 2, 3}\n",
    "print(numbers)\n",
    "\n",
    "name = set(['Kim', 'Lee', 'Park'])\n",
    "print(name)"
   ]
  },
  {
   "cell_type": "code",
   "execution_count": 43,
   "id": "c2ade6be",
   "metadata": {},
   "outputs": [
    {
     "name": "stdout",
     "output_type": "stream",
     "text": [
      "set()\n",
      "3\n",
      "{1, 2, 3, 4}\n",
      "{1, 2, 3}\n"
     ]
    }
   ],
   "source": [
    "empty = set()\n",
    "print(empty)\n",
    "\n",
    "numbers = {1, 2, 3}\n",
    "print(len(numbers))\n",
    "\n",
    "numbers.add(4)\n",
    "print(numbers)\n",
    "\n",
    "numbers.remove(4)\n",
    "print(numbers)"
   ]
  },
  {
   "cell_type": "code",
   "execution_count": 44,
   "id": "c908b59e",
   "metadata": {},
   "outputs": [
    {
     "name": "stdout",
     "output_type": "stream",
     "text": [
      "{2, 3}\n",
      "{2, 3}\n",
      "{1, 2, 3, 4}\n",
      "{1, 2, 3, 4}\n",
      "{1}\n",
      "{1}\n"
     ]
    }
   ],
   "source": [
    "setA = {1, 2, 3}\n",
    "setB = {2, 3, 4}\n",
    "\n",
    "print(setA & setB)   # 교집합\n",
    "print(setA.intersection(setB))\n",
    "\n",
    "print(setA | setB)   # 합집합\n",
    "print(setA.union(setB))\n",
    "\n",
    "print(setA - setB)   # 차집합\n",
    "print(setA.difference(setB))"
   ]
  },
  {
   "cell_type": "code",
   "execution_count": 45,
   "id": "ed8c04ee",
   "metadata": {},
   "outputs": [
    {
     "name": "stdout",
     "output_type": "stream",
     "text": [
      "True\n",
      "True\n",
      "True\n"
     ]
    }
   ],
   "source": [
    "setA = {1, 2, 3}\n",
    "setB = {1, 2, 3}\n",
    "\n",
    "print(setA == setB)   # 두 집합이 같은가?\n",
    "\n",
    "setA = {1, 2, 3, 4, 5, 6}\n",
    "setB = {1, 2, 3}\n",
    "\n",
    "print(setB < setA)          # 부분집합인가?\n",
    "print(setB.issubset(setA))  # 부분집합인가?"
   ]
  },
  {
   "cell_type": "markdown",
   "id": "dd64d4ab",
   "metadata": {},
   "source": [
    "> 1부터 45까지의 수 중에서 6개를 선택하여 로또 번호를 만드는 프로그램"
   ]
  },
  {
   "cell_type": "code",
   "execution_count": 46,
   "id": "24841e71",
   "metadata": {},
   "outputs": [
    {
     "name": "stdout",
     "output_type": "stream",
     "text": [
      "{32, 34, 36, 41, 13, 16}\n",
      "[13, 16, 32, 34, 36, 41]\n"
     ]
    }
   ],
   "source": [
    "import random\n",
    "\n",
    "pick = set()\n",
    "while len(pick) < 6:\n",
    "    n = random.randint(1, 45)  # 1~45 사이의 난수 생성\n",
    "    if n not in pick:\n",
    "        pick.add(n)\n",
    "\n",
    "print(pick)             # 순서 없는 집합 출력\n",
    "print(sorted(pick))     # 정렬된 리스트 출력\n"
   ]
  }
 ],
 "metadata": {
  "kernelspec": {
   "display_name": "Python 3",
   "language": "python",
   "name": "python3"
  },
  "language_info": {
   "codemirror_mode": {
    "name": "ipython",
    "version": 3
   },
   "file_extension": ".py",
   "mimetype": "text/x-python",
   "name": "python",
   "nbconvert_exporter": "python",
   "pygments_lexer": "ipython3",
   "version": "3.11.9"
  }
 },
 "nbformat": 4,
 "nbformat_minor": 5
}
