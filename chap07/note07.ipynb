{
 "cells": [
  {
   "cell_type": "markdown",
   "id": "7799bfc8",
   "metadata": {},
   "source": [
    "## 7단원 실습\n",
    "날  짜 : 2025.10.01.수요일 (5주차 실습) <br>\n",
    "작성자 : 문효원 <br>\n",
    "학  번 : 202311398 <br>\n",
    "*****"
   ]
  },
  {
   "cell_type": "markdown",
   "id": "4b9db167",
   "metadata": {},
   "source": [
    "### 모듈이란?\n",
    "> 함수, 변수, 클래스들을 모아 놓은 파일 묶음 (<span style=\"color:red\">라이브러리</span>)<br>\n",
    "파이썬은 오픈 소스를 지향하므로 많은 사람들이 개발하여 공개한 수 많은 모듈이 존재<br>"
   ]
  },
  {
   "cell_type": "markdown",
   "id": "cd64f916",
   "metadata": {},
   "source": [
    "#### 서드 파티 모듈 \n",
    "##### = 내가 직접 만들지 않은, 다른 사람이 만들어서 배포한 코드나 라이브러리\n",
    "> <span style=\"color:blue\">import</span>로 모듈을 사용한다."
   ]
  },
  {
   "cell_type": "code",
   "execution_count": 1,
   "id": "117f89ad",
   "metadata": {},
   "outputs": [
    {
     "name": "stdout",
     "output_type": "stream",
     "text": [
      "호스트 이름: LAPTOP-U0K21GTI\n",
      "\n",
      "socket 모듈의 속성들:\n",
      "['AF_APPLETALK', 'AF_BLUETOOTH', 'AF_DECnet', 'AF_INET', 'AF_INET6', 'AF_IPX', 'AF_IRDA', 'AF_LINK', 'AF_SNA', 'AF_UNSPEC', 'AI_ADDRCONFIG', 'AI_ALL', 'AI_CANONNAME', 'AI_NUMERICHOST', 'AI_NUMERICSERV', 'AI_PASSIVE', 'AI_V4MAPPED', 'AddressFamily', 'AddressInfo', 'BDADDR_ANY', 'BDADDR_LOCAL', 'BTPROTO_RFCOMM', 'CAPI', 'EAGAIN', 'EAI_AGAIN', 'EAI_BADFLAGS', 'EAI_FAIL', 'EAI_FAMILY', 'EAI_MEMORY', 'EAI_NODATA', 'EAI_NONAME', 'EAI_SERVICE', 'EAI_SOCKTYPE', 'EBADF', 'EWOULDBLOCK', 'INADDR_ALLHOSTS_GROUP', 'INADDR_ANY', 'INADDR_BROADCAST', 'INADDR_LOOPBACK', 'INADDR_MAX_LOCAL_GROUP', 'INADDR_NONE', 'INADDR_UNSPEC_GROUP', 'IPPORT_RESERVED', 'IPPORT_USERRESERVED', 'IPPROTO_AH', 'IPPROTO_CBT', 'IPPROTO_DSTOPTS', 'IPPROTO_EGP', 'IPPROTO_ESP', 'IPPROTO_FRAGMENT', 'IPPROTO_GGP', 'IPPROTO_HOPOPTS', 'IPPROTO_ICLFXBM', 'IPPROTO_ICMP', 'IPPROTO_ICMPV6', 'IPPROTO_IDP', 'IPPROTO_IGMP', 'IPPROTO_IGP', 'IPPROTO_IP', 'IPPROTO_IPV4', 'IPPROTO_IPV6', 'IPPROTO_L2TP', 'IPPROTO_MAX', 'IPPROTO_ND', 'IPPROTO_NONE', 'IPPROTO_PGM', 'IPPROTO_PIM', 'IPPROTO_PUP', 'IPPROTO_RAW', 'IPPROTO_RDP', 'IPPROTO_ROUTING', 'IPPROTO_SCTP', 'IPPROTO_ST', 'IPPROTO_TCP', 'IPPROTO_UDP', 'IPV6_CHECKSUM', 'IPV6_DONTFRAG', 'IPV6_HOPLIMIT', 'IPV6_HOPOPTS', 'IPV6_JOIN_GROUP', 'IPV6_LEAVE_GROUP', 'IPV6_MULTICAST_HOPS', 'IPV6_MULTICAST_IF', 'IPV6_MULTICAST_LOOP', 'IPV6_PKTINFO', 'IPV6_RECVRTHDR', 'IPV6_RECVTCLASS', 'IPV6_RTHDR', 'IPV6_TCLASS', 'IPV6_UNICAST_HOPS', 'IPV6_V6ONLY', 'IP_ADD_MEMBERSHIP', 'IP_DROP_MEMBERSHIP', 'IP_HDRINCL', 'IP_MULTICAST_IF', 'IP_MULTICAST_LOOP', 'IP_MULTICAST_TTL', 'IP_OPTIONS', 'IP_RECVDSTADDR', 'IP_RECVTOS', 'IP_TOS', 'IP_TTL', 'IntEnum', 'IntFlag', 'MSG_BCAST', 'MSG_CTRUNC', 'MSG_DONTROUTE', 'MSG_ERRQUEUE', 'MSG_MCAST', 'MSG_OOB', 'MSG_PEEK', 'MSG_TRUNC', 'MSG_WAITALL', 'MsgFlag', 'NI_DGRAM', 'NI_MAXHOST', 'NI_MAXSERV', 'NI_NAMEREQD', 'NI_NOFQDN', 'NI_NUMERICHOST', 'NI_NUMERICSERV', 'RCVALL_MAX', 'RCVALL_OFF', 'RCVALL_ON', 'RCVALL_SOCKETLEVELONLY', 'SHUT_RD', 'SHUT_RDWR', 'SHUT_WR', 'SIO_KEEPALIVE_VALS', 'SIO_LOOPBACK_FAST_PATH', 'SIO_RCVALL', 'SOCK_DGRAM', 'SOCK_RAW', 'SOCK_RDM', 'SOCK_SEQPACKET', 'SOCK_STREAM', 'SOL_IP', 'SOL_SOCKET', 'SOL_TCP', 'SOL_UDP', 'SOMAXCONN', 'SO_ACCEPTCONN', 'SO_BROADCAST', 'SO_DEBUG', 'SO_DONTROUTE', 'SO_ERROR', 'SO_EXCLUSIVEADDRUSE', 'SO_KEEPALIVE', 'SO_LINGER', 'SO_OOBINLINE', 'SO_RCVBUF', 'SO_RCVLOWAT', 'SO_RCVTIMEO', 'SO_REUSEADDR', 'SO_SNDBUF', 'SO_SNDLOWAT', 'SO_SNDTIMEO', 'SO_TYPE', 'SO_USELOOPBACK', 'SocketIO', 'SocketKind', 'SocketType', 'TCP_FASTOPEN', 'TCP_KEEPCNT', 'TCP_KEEPIDLE', 'TCP_KEEPINTVL', 'TCP_MAXSEG', 'TCP_NODELAY', '_GLOBAL_DEFAULT_TIMEOUT', '_GiveupOnSendfile', '_LOCALHOST', '_LOCALHOST_V6', '__all__', '__builtins__', '__cached__', '__doc__', '__file__', '__loader__', '__name__', '__package__', '__spec__', '_blocking_errnos', '_intenum_converter', '_socket', 'close', 'create_connection', 'create_server', 'dup', 'errno', 'error', 'errorTab', 'fromfd', 'fromshare', 'gaierror', 'getaddrinfo', 'getdefaulttimeout', 'getfqdn', 'gethostbyaddr', 'gethostbyname', 'gethostbyname_ex', 'gethostname', 'getnameinfo', 'getprotobyname', 'getservbyname', 'getservbyport', 'has_dualstack_ipv6', 'has_ipv6', 'herror', 'htonl', 'htons', 'if_indextoname', 'if_nameindex', 'if_nametoindex', 'inet_aton', 'inet_ntoa', 'inet_ntop', 'inet_pton', 'io', 'ntohl', 'ntohs', 'os', 'selectors', 'setdefaulttimeout', 'socket', 'socketpair', 'sys', 'timeout']\n",
      "\n",
      "socket.socket 클래스의 속성들:\n",
      "['__class__', '__del__', '__delattr__', '__dir__', '__doc__', '__enter__', '__eq__', '__exit__', '__format__', '__ge__', '__getattribute__', '__getstate__', '__gt__', '__hash__', '__init__', '__init_subclass__', '__le__', '__lt__', '__module__', '__ne__', '__new__', '__reduce__', '__reduce_ex__', '__repr__', '__setattr__', '__sizeof__', '__slots__', '__str__', '__subclasshook__', '__weakref__', '_accept', '_check_sendfile_params', '_closed', '_decref_socketios', '_io_refs', '_real_close', '_sendfile_use_send', '_sendfile_use_sendfile', 'accept', 'bind', 'close', 'connect', 'connect_ex', 'detach', 'dup', 'family', 'fileno', 'get_inheritable', 'getblocking', 'getpeername', 'getsockname', 'getsockopt', 'gettimeout', 'ioctl', 'listen', 'makefile', 'proto', 'recv', 'recv_into', 'recvfrom', 'recvfrom_into', 'send', 'sendall', 'sendfile', 'sendto', 'set_inheritable', 'setblocking', 'setsockopt', 'settimeout', 'share', 'shutdown', 'timeout', 'type']\n"
     ]
    }
   ],
   "source": [
    "# 01. 모듈 불러오기\n",
    "import socket\n",
    "\n",
    "hostname = socket.gethostname()\n",
    "print(\"호스트 이름:\", hostname)\n",
    "\n",
    "print(\"\\nsocket 모듈의 속성들:\")\n",
    "print(dir(socket))\n",
    "\n",
    "print(\"\\nsocket.socket 클래스의 속성들:\")\n",
    "print(dir(socket.socket))"
   ]
  },
  {
   "cell_type": "code",
   "execution_count": 2,
   "id": "97b9926b",
   "metadata": {},
   "outputs": [
    {
     "name": "stdout",
     "output_type": "stream",
     "text": [
      "LAPTOP-U0K21GTI\n"
     ]
    }
   ],
   "source": [
    "# 02. 모듈 속 메소드 하나 불러오기\n",
    "from socket import gethostname\n",
    "\n",
    "print(gethostname())"
   ]
  },
  {
   "cell_type": "code",
   "execution_count": 3,
   "id": "5883b08c",
   "metadata": {},
   "outputs": [
    {
     "name": "stdout",
     "output_type": "stream",
     "text": [
      "LAPTOP-U0K21GTI\n"
     ]
    }
   ],
   "source": [
    "# 03. 모듈 속 모든 메소드 불러오기\n",
    "from socket import *\n",
    "\n",
    "print(gethostname())"
   ]
  },
  {
   "cell_type": "code",
   "execution_count": 4,
   "id": "76a76266",
   "metadata": {},
   "outputs": [
    {
     "name": "stdout",
     "output_type": "stream",
     "text": [
      "LAPTOP-U0K21GTI\n"
     ]
    }
   ],
   "source": [
    "# 03. 모듈을 단축이름으로 불러오기\n",
    "import socket as so\n",
    "\n",
    "print(so.gethostname())"
   ]
  },
  {
   "cell_type": "code",
   "execution_count": 5,
   "id": "b7b13276",
   "metadata": {},
   "outputs": [
    {
     "name": "stdout",
     "output_type": "stream",
     "text": [
      "현재 디렉토리: e:\\1. NP\\NP_2025_202311398\\chap07\n",
      "환경변수에 지정된 디렉토리 목록: ['c:\\\\Users\\\\user\\\\AppData\\\\Local\\\\Programs\\\\Python\\\\Python311\\\\python311.zip', 'c:\\\\Users\\\\user\\\\AppData\\\\Local\\\\Programs\\\\Python\\\\Python311\\\\DLLs', 'c:\\\\Users\\\\user\\\\AppData\\\\Local\\\\Programs\\\\Python\\\\Python311\\\\Lib', 'c:\\\\Users\\\\user\\\\AppData\\\\Local\\\\Programs\\\\Python\\\\Python311', '', 'C:\\\\Users\\\\user\\\\AppData\\\\Roaming\\\\Python\\\\Python311\\\\site-packages', 'C:\\\\Users\\\\user\\\\AppData\\\\Roaming\\\\Python\\\\Python311\\\\site-packages\\\\win32', 'C:\\\\Users\\\\user\\\\AppData\\\\Roaming\\\\Python\\\\Python311\\\\site-packages\\\\win32\\\\lib', 'C:\\\\Users\\\\user\\\\AppData\\\\Roaming\\\\Python\\\\Python311\\\\site-packages\\\\Pythonwin', 'c:\\\\Users\\\\user\\\\AppData\\\\Local\\\\Programs\\\\Python\\\\Python311\\\\Lib\\\\site-packages']\n"
     ]
    }
   ],
   "source": [
    "import os, sys\n",
    "\n",
    "print(\"현재 디렉토리:\", os.getcwd())\n",
    "print(\"환경변수에 지정된 디렉토리 목록:\", sys.path)"
   ]
  },
  {
   "cell_type": "markdown",
   "id": "fff8cb92",
   "metadata": {},
   "source": [
    "#### 사용자 정의 모듈"
   ]
  },
  {
   "cell_type": "code",
   "execution_count": 11,
   "id": "8decc1fd",
   "metadata": {},
   "outputs": [
    {
     "name": "stdout",
     "output_type": "stream",
     "text": [
      "['test.ipynb', 'note07.ipynb', 'myModule.py']\n"
     ]
    }
   ],
   "source": [
    "# 현재 작업 디렉토리 확인\n",
    "import os\n",
    "os.getcwd()\n",
    "print(os.listdir())"
   ]
  },
  {
   "cell_type": "code",
   "execution_count": 14,
   "id": "55b2c113",
   "metadata": {},
   "outputs": [
    {
     "name": "stdout",
     "output_type": "stream",
     "text": [
      "현재 작업 디렉토리: e:\\1. NP\\NP_2025_202311398\\chap07\n",
      "Python 경로 목록:\n",
      "c:\\Users\\user\\AppData\\Local\\Programs\\Python\\Python311\\python311.zip\n",
      "c:\\Users\\user\\AppData\\Local\\Programs\\Python\\Python311\\DLLs\n",
      "c:\\Users\\user\\AppData\\Local\\Programs\\Python\\Python311\\Lib\n",
      "c:\\Users\\user\\AppData\\Local\\Programs\\Python\\Python311\n",
      "\n",
      "C:\\Users\\user\\AppData\\Roaming\\Python\\Python311\\site-packages\n",
      "C:\\Users\\user\\AppData\\Roaming\\Python\\Python311\\site-packages\\win32\n",
      "C:\\Users\\user\\AppData\\Roaming\\Python\\Python311\\site-packages\\win32\\lib\n",
      "C:\\Users\\user\\AppData\\Roaming\\Python\\Python311\\site-packages\\Pythonwin\n",
      "c:\\Users\\user\\AppData\\Local\\Programs\\Python\\Python311\\Lib\\site-packages\n",
      "e:\\1. NP\\NP_2025_202311398\\chap07\n",
      "e:\\1. NP\\NP_2025_202311398\\chap07\n"
     ]
    }
   ],
   "source": [
    "import os, sys\n",
    "print(\"현재 작업 디렉토리:\", os.getcwd())\n",
    "print(\"Python 경로 목록:\")\n",
    "for p in sys.path:\n",
    "    print(p)"
   ]
  },
  {
   "cell_type": "markdown",
   "id": "37711b4f",
   "metadata": {},
   "source": [
    "##### 아래(↓)에 코드 작동이 되지 않아 <span style=\"color:lightgreen\">test.py</span> 파일로 작동하였습니다."
   ]
  },
  {
   "cell_type": "code",
   "execution_count": 18,
   "id": "f3e6bc7b",
   "metadata": {},
   "outputs": [
    {
     "ename": "ModuleNotFoundError",
     "evalue": "No module named 'myModule'",
     "output_type": "error",
     "traceback": [
      "\u001b[31m---------------------------------------------------------------------------\u001b[39m",
      "\u001b[31mModuleNotFoundError\u001b[39m                       Traceback (most recent call last)",
      "\u001b[36mCell\u001b[39m\u001b[36m \u001b[39m\u001b[32mIn[18]\u001b[39m\u001b[32m, line 7\u001b[39m\n\u001b[32m      4\u001b[39m \u001b[38;5;66;03m# 현재 디렉토리 경로 추가\u001b[39;00m\n\u001b[32m      5\u001b[39m sys.path.append(os.getcwd())\n\u001b[32m----> \u001b[39m\u001b[32m7\u001b[39m \u001b[38;5;28;01mimport\u001b[39;00m \u001b[34;01mmyModule\u001b[39;00m  \u001b[38;5;66;03m# 모듈을 불러온다. 파일 이름에서 .py는 제외\u001b[39;00m\n\u001b[32m      9\u001b[39m hab = myModule.sum(\u001b[32m10\u001b[39m)    \u001b[38;5;66;03m# 모듈의 sum 함수 실행\u001b[39;00m\n\u001b[32m     10\u001b[39m pwr = myModule.power(\u001b[32m2\u001b[39m, \u001b[32m3\u001b[39m)  \u001b[38;5;66;03m# 모듈의 power 함수 실행\u001b[39;00m\n",
      "\u001b[31mModuleNotFoundError\u001b[39m: No module named 'myModule'"
     ]
    }
   ],
   "source": [
    "import sys\n",
    "import os\n",
    "\n",
    "# 현재 디렉토리 경로 추가\n",
    "sys.path.append(os.getcwd())\n",
    "\n",
    "import myModule  # 모듈을 불러온다. 파일 이름에서 .py는 제외\n",
    "\n",
    "hab = myModule.sum(10)    # 모듈의 sum 함수 실행\n",
    "pwr = myModule.power(2, 3)  # 모듈의 power 함수 실행\n",
    "\n",
    "print(hab, pwr)"
   ]
  },
  {
   "cell_type": "code",
   "execution_count": 16,
   "id": "7a25fcf8",
   "metadata": {},
   "outputs": [
    {
     "name": "stdout",
     "output_type": "stream",
     "text": [
      "15\n",
      "8\n"
     ]
    }
   ],
   "source": [
    "# myModule.py 실행\n",
    "%run myModule.py"
   ]
  },
  {
   "cell_type": "markdown",
   "id": "d23d8fe2",
   "metadata": {},
   "source": [
    "##### 위(↑)에 코드 작동이 되지 않아 <span style=\"color:lightgreen\">test.py</span> 파일로 작동하였습니다."
   ]
  },
  {
   "cell_type": "markdown",
   "id": "12aca32b",
   "metadata": {},
   "source": [
    "> <span style=\"color:red\">sys</span> 모듈"
   ]
  },
  {
   "cell_type": "code",
   "execution_count": null,
   "id": "d57952fa",
   "metadata": {},
   "outputs": [
    {
     "name": "stdout",
     "output_type": "stream",
     "text": [
      "Python 버전: 3.11.9 (tags/v3.11.9:de54cf5, Apr  2 2024, 10:12:12) [MSC v.1938 64 bit (AMD64)]\n",
      "Python 설치 경로: c:\\Users\\user\\AppData\\Local\\Programs\\Python\\Python311\n",
      "Python 모듈 검색 경로: ['c:\\\\Users\\\\user\\\\AppData\\\\Local\\\\Programs\\\\Python\\\\Python311\\\\python311.zip', 'c:\\\\Users\\\\user\\\\AppData\\\\Local\\\\Programs\\\\Python\\\\Python311\\\\DLLs', 'c:\\\\Users\\\\user\\\\AppData\\\\Local\\\\Programs\\\\Python\\\\Python311\\\\Lib', 'c:\\\\Users\\\\user\\\\AppData\\\\Local\\\\Programs\\\\Python\\\\Python311', '', 'C:\\\\Users\\\\user\\\\AppData\\\\Roaming\\\\Python\\\\Python311\\\\site-packages', 'C:\\\\Users\\\\user\\\\AppData\\\\Roaming\\\\Python\\\\Python311\\\\site-packages\\\\win32', 'C:\\\\Users\\\\user\\\\AppData\\\\Roaming\\\\Python\\\\Python311\\\\site-packages\\\\win32\\\\lib', 'C:\\\\Users\\\\user\\\\AppData\\\\Roaming\\\\Python\\\\Python311\\\\site-packages\\\\Pythonwin', 'c:\\\\Users\\\\user\\\\AppData\\\\Local\\\\Programs\\\\Python\\\\Python311\\\\Lib\\\\site-packages', 'e:\\\\1. NP\\\\NP_2025_202311398\\\\chap07', 'e:\\\\1. NP\\\\NP_2025_202311398\\\\chap07', 'e:\\\\1. NP\\\\NP_2025_202311398\\\\chap07', 'e:\\\\1. NP\\\\NP_2025_202311398\\\\chap07']\n"
     ]
    }
   ],
   "source": [
    "import sys\n",
    "\n",
    "# 파이썬 버전 정보\n",
    "print(\"Python 버전:\", sys.version)\n",
    "\n",
    "# 파이썬 설치 경로\n",
    "print(\"Python 설치 경로:\", sys.prefix)\n",
    "\n",
    "# 파이썬이 모듈을 찾는 경로\n",
    "print(\"Python 모듈 검색 경로:\", sys.path)\n",
    "\n",
    "# 표준 입력 장치 사용\n",
    "user_input = sys.stdin.readline()\n",
    "print(\"입력값:\", user_input)\n",
    "\n",
    "# 표준 출력 장치 사용\n",
    "sys.stdout.write('Hello\\n')"
   ]
  },
  {
   "cell_type": "markdown",
   "id": "4e407268",
   "metadata": {},
   "source": [
    ">  sys.argv 속성<br>\n",
    "• 명령 인수와 함께 프로그램을 실행 할 때 명령인수를 전달받음"
   ]
  },
  {
   "cell_type": "code",
   "execution_count": 1,
   "id": "092f3d5d",
   "metadata": {},
   "outputs": [
    {
     "name": "stdout",
     "output_type": "stream",
     "text": [
      "1st\n",
      "2nd\n",
      "3rd\n"
     ]
    }
   ],
   "source": [
    "import sys\n",
    "\n",
    "# Notebook용으로 sys.argv 흉내\n",
    "sys.argv = ['echo.py', '1st', '2nd', '3rd']\n",
    "\n",
    "for i in range(1, len(sys.argv)):\n",
    "    print(sys.argv[i])"
   ]
  },
  {
   "cell_type": "code",
   "execution_count": 2,
   "id": "3069201c",
   "metadata": {},
   "outputs": [
    {
     "name": "stdout",
     "output_type": "stream",
     "text": [
      "randint(1,5): 1\n",
      "random(): 0.8662180344611752\n",
      "randrange(1,10,1): 2\n",
      "choice('hello'): l\n"
     ]
    }
   ],
   "source": [
    "import random\n",
    "\n",
    "# 1~5 사이의 임의 정수\n",
    "rand_int = random.randint(1, 5)\n",
    "print(\"randint(1,5):\", rand_int)\n",
    "\n",
    "# 0~1 사이의 실수\n",
    "rand_float = random.random()\n",
    "print(\"random():\", rand_float)\n",
    "\n",
    "# 1~10 사이, step=1로 난수 발생\n",
    "rand_range = random.randrange(1, 10, 1)\n",
    "print(\"randrange(1,10,1):\", rand_range)\n",
    "\n",
    "# 문자열에서 임의로 하나의 문자 선택\n",
    "rand_choice = random.choice('hello')\n",
    "print(\"choice('hello'):\", rand_choice)"
   ]
  },
  {
   "cell_type": "code",
   "execution_count": 3,
   "id": "22c38075",
   "metadata": {},
   "outputs": [
    {
     "name": "stdout",
     "output_type": "stream",
     "text": [
      "math 모듈의 속성들:\n",
      "['__doc__', '__loader__', '__name__', '__package__', '__spec__', 'acos', 'acosh', 'asin', 'asinh', 'atan', 'atan2', 'atanh', 'cbrt', 'ceil', 'comb', 'copysign', 'cos', 'cosh', 'degrees', 'dist', 'e', 'erf', 'erfc', 'exp', 'exp2', 'expm1', 'fabs', 'factorial', 'floor', 'fmod', 'frexp', 'fsum', 'gamma', 'gcd', 'hypot', 'inf', 'isclose', 'isfinite', 'isinf', 'isnan', 'isqrt', 'lcm', 'ldexp', 'lgamma', 'log', 'log10', 'log1p', 'log2', 'modf', 'nan', 'nextafter', 'perm', 'pi', 'pow', 'prod', 'radians', 'remainder', 'sin', 'sinh', 'sqrt', 'tan', 'tanh', 'tau', 'trunc', 'ulp']\n",
      "math.pi: 3.141592653589793\n",
      "math.sin(math.pi/6): 0.49999999999999994\n",
      "math.log10(2): 0.3010299956639812\n"
     ]
    }
   ],
   "source": [
    "import math\n",
    "\n",
    "# math 모듈의 함수와 상수 확인\n",
    "print(\"math 모듈의 속성들:\")\n",
    "print(dir(math))\n",
    "\n",
    "# pi 상수\n",
    "print(\"math.pi:\", math.pi)\n",
    "\n",
    "# sin 함수 예제 (π/6)\n",
    "print(\"math.sin(math.pi/6):\", math.sin(math.pi/6))\n",
    "\n",
    "# log10 함수 예제\n",
    "print(\"math.log10(2):\", math.log10(2))"
   ]
  },
  {
   "cell_type": "code",
   "execution_count": 4,
   "id": "ccfaf445",
   "metadata": {},
   "outputs": [
    {
     "name": "stdout",
     "output_type": "stream",
     "text": [
      "time.time(): 1760215834.3652778\n",
      "time.asctime(): Sun Oct 12 05:50:34 2025\n"
     ]
    }
   ],
   "source": [
    "import time\n",
    "\n",
    "# 1970.1.1 0시부터 경과한 초\n",
    "current_seconds = time.time()\n",
    "print(\"time.time():\", current_seconds)\n",
    "\n",
    "# 현재 날짜와 시간\n",
    "current_time = time.asctime()\n",
    "print(\"time.asctime():\", current_time)"
   ]
  },
  {
   "cell_type": "code",
   "execution_count": 5,
   "id": "e1a9fab1",
   "metadata": {},
   "outputs": [
    {
     "name": "stdout",
     "output_type": "stream",
     "text": [
      "   February 2019\n",
      "Mo Tu We Th Fr Sa Su\n",
      "             1  2  3\n",
      " 4  5  6  7  8  9 10\n",
      "11 12 13 14 15 16 17\n",
      "18 19 20 21 22 23 24\n",
      "25 26 27 28\n",
      "\n"
     ]
    }
   ],
   "source": [
    "import calendar\n",
    "\n",
    "# 2019년 2월 달력 출력\n",
    "print(calendar.month(2019, 2))"
   ]
  },
  {
   "cell_type": "code",
   "execution_count": 6,
   "id": "cf52b766",
   "metadata": {},
   "outputs": [
    {
     "name": "stdout",
     "output_type": "stream",
     "text": [
      "RED 1\n",
      "Color.RED\n",
      "Color.GREEN\n",
      "Color.BLUE\n"
     ]
    }
   ],
   "source": [
    "from enum import Enum\n",
    "\n",
    "# Enum 클래스 정의\n",
    "class Color(Enum):\n",
    "    RED = 1    # name = RED, value = 1\n",
    "    GREEN = 2\n",
    "    BLUE = 3\n",
    "\n",
    "# Color.RED 속성 출력\n",
    "print(Color.RED.name, Color.RED.value)\n",
    "\n",
    "# Color.RED.value를 직접 변경하면 에러 발생 (Enum은 상수)\n",
    "# Color.RED = 5  # Uncomment 하면 에러 발생\n",
    "\n",
    "# Color 클래스의 모든 속성 출력\n",
    "for color in Color:\n",
    "    print(color)"
   ]
  },
  {
   "cell_type": "markdown",
   "id": "827b5eab",
   "metadata": {},
   "source": [
    "### 패키지<br>\n",
    "> \\_\\_init\\_\\_.py <br>\n",
    "\n",
    "<파이썬 패키지로 인식>\n",
    "- \\_\\_init\\_\\_.py 파일은 해당 디렉토리를 Python 패키지로 인식하게 만듭니다.\n",
    "- Python 3.3 이상에서는 \\_\\_init\\_\\_.py가 없어도 패키지로 인식되지만, 명시적으로 포함하는 것이 권장됩니다.\n",
    "\n",
    "<초기화 코드 실행>\n",
    "- 패키지가 import될 때 실행할 초기화 코드를 포함할 수 있습니다.\n",
    "- 패키지 내에서 공통적으로 사용할 설정이나 변수 초기화를 수행할 수 있습니다."
   ]
  },
  {
   "cell_type": "markdown",
   "id": "c8834fd9",
   "metadata": {},
   "source": [
    "__❖ <span style=\"color:red\">모듈 (Module)</span>__ <br>\n",
    "• 정의: Python에서 <span style=\"color:red\">하나의 .py 파일</span>이 하나의 모듈<br>\n",
    "• 모듈은 함수, 클래스, 변수 등을 포함할 수 있으며, 코드 재사용을 위해 사용\n",
    "\n",
    "__❖ <span style=\"color:blue\">패키지 (Package)</span>__<br>\n",
    "• 정의: Python에서 <span style=\"color:blue\">디렉토리</span>가 패키지<br>\n",
    "> 패키지는 여러 모듈을 포함할 수  있음 <br>\n",
    "디렉토리에 \\_\\_init\\_\\_.py 가 필수적 (비어 있더라도 인식)"
   ]
  },
  {
   "cell_type": "code",
   "execution_count": null,
   "id": "ff0a66c6",
   "metadata": {},
   "outputs": [],
   "source": [
    "# math 모듈 사용\n",
    "import math\n",
    "\n",
    "# sqrt 함수 사용\n",
    "print(math.sqrt(16))  # 출력: 4.0\n",
    "\n",
    "# mypackage 안의 module1 불러오기\n",
    "from mypackage import module1\n",
    "\n",
    "# module1 안의 함수 사용\n",
    "module1.some_function()"
   ]
  },
  {
   "cell_type": "code",
   "execution_count": 7,
   "id": "691571a4",
   "metadata": {},
   "outputs": [
    {
     "ename": "ImportError",
     "evalue": "attempted relative import with no known parent package",
     "output_type": "error",
     "traceback": [
      "\u001b[31m---------------------------------------------------------------------------\u001b[39m",
      "\u001b[31mImportError\u001b[39m                               Traceback (most recent call last)",
      "\u001b[36mCell\u001b[39m\u001b[36m \u001b[39m\u001b[32mIn[7]\u001b[39m\u001b[32m, line 4\u001b[39m\n\u001b[32m      1\u001b[39m \u001b[38;5;66;03m# mypackage/__init__.py\u001b[39;00m\n\u001b[32m      2\u001b[39m \n\u001b[32m      3\u001b[39m \u001b[38;5;66;03m# 패키지 내 주요 클래스 및 함수 노출\u001b[39;00m\n\u001b[32m----> \u001b[39m\u001b[32m4\u001b[39m \u001b[38;5;28;01mfrom\u001b[39;00m \u001b[34;01m.\u001b[39;00m\u001b[34;01mmodule1\u001b[39;00m \u001b[38;5;28;01mimport\u001b[39;00m Class1\n\u001b[32m      5\u001b[39m \u001b[38;5;28;01mfrom\u001b[39;00m \u001b[34;01m.\u001b[39;00m\u001b[34;01mmodule2\u001b[39;00m \u001b[38;5;28;01mimport\u001b[39;00m function2\n\u001b[32m      7\u001b[39m \u001b[38;5;28mprint\u001b[39m(\u001b[33m\"\u001b[39m\u001b[33mmypackage 패키지가 로드되었습니다.\u001b[39m\u001b[33m\"\u001b[39m)\n",
      "\u001b[31mImportError\u001b[39m: attempted relative import with no known parent package"
     ]
    }
   ],
   "source": [
    "# mypackage/__init__.py\n",
    "\n",
    "# 패키지 내 주요 클래스 및 함수 노출\n",
    "from .module1 import Class1\n",
    "from .module2 import function2\n",
    "\n",
    "print(\"mypackage 패키지가 로드되었습니다.\")\n",
    "\n",
    "# 외부에서 이렇게 사용 가능:\n",
    "# from mypackage import Class1, function2\n",
    "\n",
    "# 동적 모듈 로딩 함수\n",
    "import importlib\n",
    "\n",
    "def load_module(name):\n",
    "    \"\"\"\n",
    "    패키지 내부 모듈을 동적으로 불러오는 함수\n",
    "    사용 예: load_module('module3')\n",
    "    \"\"\"\n",
    "    return importlib.import_module(f\".{name}\", package=__name__)"
   ]
  },
  {
   "cell_type": "markdown",
   "id": "420dc53d",
   "metadata": {},
   "source": [
    "### 가상 환경\n",
    ">  프로젝트별로 독립된 파이썬 환경을 만드는 도구\n",
    "\n",
    "1. venv (파이썬 3.3+ 내장 모듈)\n",
    "2. conda (anaconda)\n",
    "3. virtualenv (써드 파티 도구)\n",
    "\n",
    "#### Venv 가상환경 ➔ 간단히 사용하고 싶을 경우에 사용"
   ]
  },
  {
   "cell_type": "code",
   "execution_count": 9,
   "id": "257f58d4",
   "metadata": {},
   "outputs": [],
   "source": [
    "# # 현재 폴더에 .myvenv 폴더 생성\n",
    "# python -m venv .myvenv\n",
    "\n",
    "# # 옵션 확인\n",
    "# python -m venv --help\n",
    "# # --copies, --clear, --upgrade, --prompt 등 옵션 사용 가능\n",
    "\n",
    "# # 가상환경 활성화\n",
    "# .\\.myvenv\\Scripts\\activate\n",
    "\n",
    "# # 활성화 시 실행 정책 문제 발생하면 확인\n",
    "# Get-ExecutionPolicy\n",
    "\n",
    "# # 현재 사용자에 대해서만 실행 정책 변경 (최초 1회)\n",
    "# Set-ExecutionPolicy -ExecutionPolicy RemoteSigned -Scope CurrentUser\n",
    "\n",
    "# # 비활성화 (모든 OS 공통)\n",
    "# deactivate"
   ]
  },
  {
   "cell_type": "markdown",
   "id": "365b85dc",
   "metadata": {},
   "source": [
    "#### Anaconda 가상환경 ➔ Anaconda 설치 후 사용 가능 \n",
    "> AI 등에는 필수적인 패키지 관리도구"
   ]
  },
  {
   "cell_type": "code",
   "execution_count": 10,
   "id": "04cde2ce",
   "metadata": {},
   "outputs": [],
   "source": [
    "# # 가상환경 생성\n",
    "# conda create -n myenv python=3.9\n",
    "\n",
    "# # 활성화\n",
    "# conda activate myenv\n",
    "\n",
    "# # 비활성화\n",
    "# conda deactivate\n",
    "\n",
    "# # 환경 목록 보기\n",
    "# conda env list\n",
    "\n",
    "# # 환경 삭제\n",
    "# conda env remove -n myenv"
   ]
  },
  {
   "cell_type": "markdown",
   "id": "6c92a7a4",
   "metadata": {},
   "source": [
    "#### Virtualenv 패키지 가상환경 ➔ 모듈 설치 후 사용가능"
   ]
  },
  {
   "cell_type": "code",
   "execution_count": 11,
   "id": "003dc01b",
   "metadata": {},
   "outputs": [],
   "source": [
    "# # 설치\n",
    "# pip install virtualenv\n",
    "\n",
    "# # 가상환경 생성\n",
    "# virtualenv myenv\n",
    "\n",
    "# # 특정 파이썬 버전으로 생성\n",
    "# virtualenv -p python3.9 myenv         # 특정 파이썬 버전으로 생성 virtualenv --python=python3.8 myenv   # 긴 옵션 형태 virtualenv -p /usr/bin/python3 myenv   # 절대 경로로 지정"
   ]
  },
  {
   "cell_type": "markdown",
   "id": "2aa03702",
   "metadata": {},
   "source": [
    "파이썬 가상환경<br>\n",
    "• 모듈, 모듈의 버전 등을 보존하여 버전 변경으로 인한 소스코드의 오류를 방지<br>\n",
    "• 가상환경을 만들고 설치한 이후에 해당 모듈은 해당 가상환경에 저장<br>\n",
    "• 설치된 모듈의 목록은 pip freeze > requirements.txt 로 저장<br>\n",
    "• 다른 가상환경에서 해당 목록을 자동 설치할 때에는 pip install -r requirements.txt 로 설치"
   ]
  },
  {
   "cell_type": "code",
   "execution_count": 12,
   "id": "797ef4bf",
   "metadata": {},
   "outputs": [],
   "source": [
    "# 1. 현재 설치된 패키지들을 requirements.txt로 저장 \n",
    "# pip freeze > requirements.txt\n",
    "\n",
    "# 2. requirements.txt에서 패키지들을 설치 (올바른 명령어) \n",
    "# pip install -r requirements.txt"
   ]
  }
 ],
 "metadata": {
  "kernelspec": {
   "display_name": "Python 3",
   "language": "python",
   "name": "python3"
  },
  "language_info": {
   "codemirror_mode": {
    "name": "ipython",
    "version": 3
   },
   "file_extension": ".py",
   "mimetype": "text/x-python",
   "name": "python",
   "nbconvert_exporter": "python",
   "pygments_lexer": "ipython3",
   "version": "3.11.9"
  }
 },
 "nbformat": 4,
 "nbformat_minor": 5
}
